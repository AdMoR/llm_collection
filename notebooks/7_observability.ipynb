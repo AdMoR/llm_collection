{
 "cells": [
  {
   "cell_type": "code",
   "execution_count": 1,
   "id": "906f7d83-b1d0-481d-a068-3eef7c5ca94e",
   "metadata": {},
   "outputs": [
    {
     "name": "stdout",
     "output_type": "stream",
     "text": [
      "Collecting langfuse\n",
      "  Downloading langfuse-2.55.0-py3-none-any.whl.metadata (3.2 kB)\n",
      "Requirement already satisfied: anyio<5.0.0,>=4.4.0 in /Users/amorvan/Documents/code_dw/llm_collection/venv/lib/python3.13/site-packages (from langfuse) (4.6.2.post1)\n",
      "Requirement already satisfied: backoff>=1.10.0 in /Users/amorvan/Documents/code_dw/llm_collection/venv/lib/python3.13/site-packages (from langfuse) (2.2.1)\n",
      "Requirement already satisfied: httpx<1.0,>=0.15.4 in /Users/amorvan/Documents/code_dw/llm_collection/venv/lib/python3.13/site-packages (from langfuse) (0.28.0)\n",
      "Requirement already satisfied: idna<4.0,>=3.7 in /Users/amorvan/Documents/code_dw/llm_collection/venv/lib/python3.13/site-packages (from langfuse) (3.10)\n",
      "Requirement already satisfied: packaging<25.0,>=23.2 in /Users/amorvan/Documents/code_dw/llm_collection/venv/lib/python3.13/site-packages (from langfuse) (24.2)\n",
      "Requirement already satisfied: pydantic<3.0,>=1.10.7 in /Users/amorvan/Documents/code_dw/llm_collection/venv/lib/python3.13/site-packages (from langfuse) (2.9.2)\n",
      "Requirement already satisfied: requests<3,>=2 in /Users/amorvan/Documents/code_dw/llm_collection/venv/lib/python3.13/site-packages (from langfuse) (2.32.3)\n",
      "Requirement already satisfied: wrapt<2.0,>=1.14 in /Users/amorvan/Documents/code_dw/llm_collection/venv/lib/python3.13/site-packages (from langfuse) (1.17.0)\n",
      "Requirement already satisfied: sniffio>=1.1 in /Users/amorvan/Documents/code_dw/llm_collection/venv/lib/python3.13/site-packages (from anyio<5.0.0,>=4.4.0->langfuse) (1.3.1)\n",
      "Requirement already satisfied: certifi in /Users/amorvan/Documents/code_dw/llm_collection/venv/lib/python3.13/site-packages (from httpx<1.0,>=0.15.4->langfuse) (2024.8.30)\n",
      "Requirement already satisfied: httpcore==1.* in /Users/amorvan/Documents/code_dw/llm_collection/venv/lib/python3.13/site-packages (from httpx<1.0,>=0.15.4->langfuse) (1.0.7)\n",
      "Requirement already satisfied: h11<0.15,>=0.13 in /Users/amorvan/Documents/code_dw/llm_collection/venv/lib/python3.13/site-packages (from httpcore==1.*->httpx<1.0,>=0.15.4->langfuse) (0.14.0)\n",
      "Requirement already satisfied: annotated-types>=0.6.0 in /Users/amorvan/Documents/code_dw/llm_collection/venv/lib/python3.13/site-packages (from pydantic<3.0,>=1.10.7->langfuse) (0.7.0)\n",
      "Requirement already satisfied: pydantic-core==2.23.4 in /Users/amorvan/Documents/code_dw/llm_collection/venv/lib/python3.13/site-packages (from pydantic<3.0,>=1.10.7->langfuse) (2.23.4)\n",
      "Requirement already satisfied: typing-extensions>=4.12.2 in /Users/amorvan/Documents/code_dw/llm_collection/venv/lib/python3.13/site-packages (from pydantic<3.0,>=1.10.7->langfuse) (4.12.2)\n",
      "Requirement already satisfied: charset-normalizer<4,>=2 in /Users/amorvan/Documents/code_dw/llm_collection/venv/lib/python3.13/site-packages (from requests<3,>=2->langfuse) (3.4.0)\n",
      "Requirement already satisfied: urllib3<3,>=1.21.1 in /Users/amorvan/Documents/code_dw/llm_collection/venv/lib/python3.13/site-packages (from requests<3,>=2->langfuse) (2.2.3)\n",
      "Downloading langfuse-2.55.0-py3-none-any.whl (249 kB)\n",
      "Installing collected packages: langfuse\n",
      "Successfully installed langfuse-2.55.0\n",
      "\n",
      "\u001b[1m[\u001b[0m\u001b[34;49mnotice\u001b[0m\u001b[1;39;49m]\u001b[0m\u001b[39;49m A new release of pip is available: \u001b[0m\u001b[31;49m24.2\u001b[0m\u001b[39;49m -> \u001b[0m\u001b[32;49m24.3.1\u001b[0m\n",
      "\u001b[1m[\u001b[0m\u001b[34;49mnotice\u001b[0m\u001b[1;39;49m]\u001b[0m\u001b[39;49m To update, run: \u001b[0m\u001b[32;49mpip install --upgrade pip\u001b[0m\n"
     ]
    }
   ],
   "source": [
    "!pip install langfuse"
   ]
  },
  {
   "cell_type": "code",
   "execution_count": 3,
   "id": "ea934343-8750-4185-ae1d-8f5257e016c1",
   "metadata": {},
   "outputs": [
    {
     "name": "stdout",
     "output_type": "stream",
     "text": [
      "/Users/amorvan/Documents/code_dw/llm_collection/venv/bin/python3.13\n"
     ]
    }
   ],
   "source": [
    "import sys\n",
    "import os \n",
    "import nest_asyncio\n",
    "\n",
    "# Sanity check\n",
    "print(sys.executable)\n",
    "nest_asyncio.apply()\n",
    "\n",
    "os.environ[\"LANGFUSE_SECRET_KEY\"]=\"sk-lf-305fb0a1-0d3f-4732-841a-baeed1abc7ff\"\n",
    "os.environ[\"LANGFUSE_PUBLIC_KEY\"]=\"pk-lf-b044ea0d-bbbb-4e59-9a38-b814356fde31\"\n",
    "os.environ[\"LANGFUSE_HOST\"]=\"https://cloud.langfuse.com\"\n",
    "\n",
    "\n",
    "os.environ[\"OPENAI_API_KEY\"]=\"sk-\"\n",
    "\n",
    "#os.environ[\"AZURE_OPENAI_ENDPOINT\"] = \"https://oai-llmrag-training.openai.azure.com/\"\n",
    "#ENGINE_NAME = \"gpt-4o-mini\"\n",
    "\n"
   ]
  },
  {
   "cell_type": "code",
   "execution_count": 18,
   "id": "c36fd170-4d26-48b4-906a-4b655155dc6b",
   "metadata": {},
   "outputs": [],
   "source": [
    "import os\n",
    "from pydantic import BaseModel, Field\n",
    "from llama_index.core.workflow import (\n",
    "    Workflow,\n",
    "    step,\n",
    "    Event,\n",
    "    Context,\n",
    "    StartEvent,\n",
    "    StopEvent\n",
    ")\n",
    "from llama_index.llms.openai import OpenAI\n",
    "from llama_index.core import SimpleDirectoryReader\n",
    "from llama_index.core import (\n",
    "    SimpleDirectoryReader,\n",
    "    load_index_from_storage,\n",
    "    VectorStoreIndex,\n",
    "    StorageContext,\n",
    ")\n",
    "from llama_index.core.node_parser import SentenceSplitter\n",
    "from llama_index.retrievers.bm25 import BM25Retriever\n",
    "import Stemmer\n",
    "from llama_index.core import VectorStoreIndex, get_response_synthesizer\n",
    "from llama_index.core.retrievers import VectorIndexRetriever\n",
    "from llama_index.core.query_engine import RetrieverQueryEngine\n",
    "from langfuse.decorators import observe, langfuse_context"
   ]
  },
  {
   "cell_type": "code",
   "execution_count": null,
   "id": "fa5c5856-4fb8-48dd-936e-44d2aa27965f",
   "metadata": {},
   "outputs": [],
   "source": []
  },
  {
   "cell_type": "code",
   "execution_count": 19,
   "id": "9f47a25f-739e-40ae-bd19-d85e7b619d41",
   "metadata": {},
   "outputs": [],
   "source": [
    "llm = OpenAI(temperature=0.05, model=\"gpt-4o-mini\")\n",
    "\n",
    "\n",
    "class EchoWorkflow(Workflow):\n",
    "    \"\"\"A dummy workflow with only one step sending back the input given.\"\"\"\n",
    "\n",
    "    @observe(capture_input=False)\n",
    "    @step()\n",
    "    async def run_step(self, ev: StartEvent) -> StopEvent:\n",
    "        langfuse_context.update_current_trace(\n",
    "            session_id=\"0000000\",\n",
    "            metadata={\"project\": \"very_important\"}\n",
    "        )\n",
    "        message = str(ev.get(\"message\", \"\"))\n",
    "        langfuse_context.update_current_observation(\n",
    "            input=message, \n",
    "        )\n",
    "        documents = SimpleDirectoryReader(\n",
    "            input_files=[\"../notebooks/paul_graham_essay.txt\"],\n",
    "        ).load_data()\n",
    "        splitter = SentenceSplitter(chunk_size=256)\n",
    "        nodes = splitter.get_nodes_from_documents(documents)\n",
    "        retriever_top_2 = BM25Retriever.from_defaults(\n",
    "            nodes=nodes,\n",
    "            similarity_top_k=2,\n",
    "            stemmer=Stemmer.Stemmer(\"english\"),\n",
    "            language=\"english\",\n",
    "        )\n",
    "        nodes = retriever_top_2.retrieve(message)\n",
    "        context = \"\\n \".join([x.text for x in nodes])\n",
    "        response = llm.complete(f\"Summarize this : {context}\")\n",
    "        return StopEvent(result=response.text)"
   ]
  },
  {
   "cell_type": "code",
   "execution_count": 20,
   "id": "fb47c376-fec3-4e0d-a68c-929249c1d8db",
   "metadata": {},
   "outputs": [],
   "source": [
    "w = EchoWorkflow()\n",
    "r = await w.run(message=\"computer\")"
   ]
  },
  {
   "cell_type": "code",
   "execution_count": 21,
   "id": "368c8a5e-9531-4dcd-9d4f-f4617a37f8d3",
   "metadata": {},
   "outputs": [
    {
     "data": {
      "text/plain": [
       "\"The advent of microcomputers revolutionized personal computing by allowing users to interact directly with a computer on their desk, rather than relying on punch cards. The narrator recalls the excitement of watching a friend build his own microcomputer from a Heathkit kit, which sparked feelings of envy. After years of persuasion, the narrator's father finally bought a TRS-80 in 1980, which marked the beginning of the narrator's programming journey. They created simple games, a model rocket flight predictor, and a word processor used by their father for writing. A memorable moment occurred when the narrator realized that programs could run indefinitely, highlighting the shift in computing dynamics.\""
      ]
     },
     "execution_count": 21,
     "metadata": {},
     "output_type": "execute_result"
    }
   ],
   "source": [
    "r"
   ]
  },
  {
   "cell_type": "markdown",
   "id": "bdf61963-1576-40b1-9616-2c049e725924",
   "metadata": {},
   "source": [
    "## Get traces"
   ]
  },
  {
   "cell_type": "code",
   "execution_count": 42,
   "id": "c6a2d752-2e56-417f-8038-4217a8b5d334",
   "metadata": {},
   "outputs": [
    {
     "data": {
      "text/plain": [
       "TraceWithDetails(id='26c15e49-cb32-4884-a66b-8d697f148dbe', timestamp=datetime.datetime(2024, 12, 4, 20, 54, 42, 636000), name='run_step', input='computer', output='{\"result\":\"The advent of microcomputers revolutionized personal computing by allowing users to interact directly with a computer on their desk, rather than relying on punch cards. The narrator recalls the excitement of watching a friend build his own microcomputer from a Heathkit kit, which sparked feelings of envy. After years of persuasion, the narrator\\'s father finally bought a TRS-80 in 1980, which marked the beginning of the narrator\\'s programming journey. They created simple games, a model rocket flight predictor, and a word processor used by their father for writing. A memorable moment occurred when the narrator realized that programs could run indefinitely, highlighting the shift in computing dynamics.\"}', session_id='0000000', release=None, version=None, user_id=None, metadata={'project': 'very_important'}, tags=[], public=False, html_path='/project/cm4aazgws00g913yiyi6vwfh0/traces/26c15e49-cb32-4884-a66b-8d697f148dbe', latency=0.0, total_cost=0.0, observations=[], scores=[], projectId='cm4aazgws00g913yiyi6vwfh0', createdAt='2024-12-04 20:54:44.008', externalId=None, updatedAt='2024-12-04 20:55:01.037', bookmarked=False)"
      ]
     },
     "execution_count": 42,
     "metadata": {},
     "output_type": "execute_result"
    }
   ],
   "source": [
    "traces = langfuse.fetch_traces()\n",
    "traces.data[0]"
   ]
  },
  {
   "cell_type": "markdown",
   "id": "089dd506-150c-47e4-af61-fe93b9ebad34",
   "metadata": {},
   "source": [
    "## Get a dataset"
   ]
  },
  {
   "cell_type": "code",
   "execution_count": 33,
   "id": "3f3d9bad-620e-43c1-99d2-0b3a90d4e7cd",
   "metadata": {},
   "outputs": [],
   "source": [
    "from langfuse import Langfuse\n",
    "\n",
    "langfuse = Langfuse()\n",
    "dataset = langfuse.get_dataset(\"MyDataset\")"
   ]
  },
  {
   "cell_type": "code",
   "execution_count": 34,
   "id": "964d69bd-2eda-495b-9629-424b4aaa4c22",
   "metadata": {},
   "outputs": [
    {
     "data": {
      "text/plain": [
       "<langfuse.client.DatasetClient at 0x11a0f0910>"
      ]
     },
     "execution_count": 34,
     "metadata": {},
     "output_type": "execute_result"
    }
   ],
   "source": [
    "dataset"
   ]
  },
  {
   "cell_type": "code",
   "execution_count": 35,
   "id": "a4141068-da3d-48f5-a3bb-8d90bb894b5f",
   "metadata": {},
   "outputs": [
    {
     "name": "stdout",
     "output_type": "stream",
     "text": [
      "{\"args\":[],\"kwargs\":{\"ev\":{\"_data\":{\"message\":\"computer\"}}}} {\"result\":\"The advent of microcomputers revolutionized personal computing, allowing users to interact directly with computers on their desks rather than relying on punch cards. The author recalls feeling impressed and envious when a friend built his own microcomputer from a Heathkit kit. After years of persuasion, the author finally convinced his father to buy a TRS-80 in 1980, which marked the beginning of his programming journey. He created simple games, a model rocket prediction program, and a word processor used by his father for writing. A memorable moment for the author was realizing that programs could run indefinitely, highlighting the shift in computing capabilities.\"}\n"
     ]
    }
   ],
   "source": [
    "for item in dataset.items:\n",
    "    if str(item.status) == \"DatasetStatus.ACTIVE\":\n",
    "        print(item.input, item.expected_output)"
   ]
  },
  {
   "cell_type": "code",
   "execution_count": 37,
   "id": "813f1092-3dea-45d4-966a-25b5dbfdc004",
   "metadata": {},
   "outputs": [
    {
     "data": {
      "text/plain": [
       "{'id': 'cm4abe9to00h913yilynrk1v2',\n",
       " 'status': <DatasetStatus.ARCHIVED: 'ARCHIVED'>,\n",
       " 'input': '{\"args\":[],\"kwargs\":{\"ev\":{\"_data\":{\"message\":\"Hello!\"}}}}',\n",
       " 'expected_output': '{\"result\":\"Message received: [18] The worst thing about leaving YC was not working with Jessica anymore. We\\'d been working on YC almost the whole time we\\'d known each other, and we\\'d neither tried nor wanted to separate it from our personal lives, so leaving was like pulling up a deeply rooted tree.\\\\n\\\\n[19] One way to get more precise about the concept of invented vs discovered is to talk about space aliens. Any sufficiently advanced alien civilization would certainly know about the Pythagorean theorem, for example. I believe, though with less certainty, that they would also know about the Lisp in McCarthy\\'s 1960 paper.\\\\n\\\\nBut if so there\\'s no reason to suppose that this is the limit of the language that might be known to them. Presumably aliens need numbers and errors and I/O too. So it seems likely there exists at least one path out of McCarthy\\'s Lisp along which discoveredness is preserved.\\\\n\\\\n\\\\n\\\\nThanks to Trevor Blackwell, John Collison, Patrick Collison, Daniel Gackle, Ralph Hazell, Jessica Livingston, Robert Morris, and Harj Taggar for reading drafts of this.\"}',\n",
       " 'metadata': {},\n",
       " 'source_trace_id': '9a95ad11-c2d1-47d8-8df3-2d2904b8f9bb',\n",
       " 'source_observation_id': None,\n",
       " 'dataset_id': 'cm4ab9w7m00gb5c8r3bwqywt6',\n",
       " 'dataset_name': 'MyDataset',\n",
       " 'created_at': datetime.datetime(2024, 12, 4, 20, 2, 22, 908000, tzinfo=datetime.timezone.utc),\n",
       " 'updated_at': datetime.datetime(2024, 12, 4, 20, 58, 17, 19000, tzinfo=datetime.timezone.utc),\n",
       " 'langfuse': <langfuse.client.Langfuse at 0x10d093bb0>}"
      ]
     },
     "execution_count": 37,
     "metadata": {},
     "output_type": "execute_result"
    }
   ],
   "source": [
    "item.__dict__"
   ]
  },
  {
   "cell_type": "code",
   "execution_count": null,
   "id": "f28c4be0-95cb-4997-8cb1-570505954668",
   "metadata": {},
   "outputs": [],
   "source": []
  },
  {
   "cell_type": "markdown",
   "id": "8011e0d9-6054-404a-8394-9e4fd9dfe551",
   "metadata": {},
   "source": [
    "## A/B testing "
   ]
  },
  {
   "cell_type": "code",
   "execution_count": 16,
   "id": "83085ac9-7ecc-4970-9944-19d2123742e7",
   "metadata": {},
   "outputs": [
    {
     "data": {
      "text/plain": [
       "'Tell me a joke about cats'"
      ]
     },
     "execution_count": 16,
     "metadata": {},
     "output_type": "execute_result"
    }
   ],
   "source": [
    "prompt = langfuse.get_prompt(\"JokeTemplate1\", version=1)\n",
    "compiled_prompt = prompt.compile(topic=\"cats\")\n",
    "\n",
    "compiled_prompt"
   ]
  },
  {
   "cell_type": "code",
   "execution_count": 43,
   "id": "6676e11c-4078-4933-8e48-90d2d1e0a25b",
   "metadata": {},
   "outputs": [
    {
     "data": {
      "text/plain": [
       "'Tell me a funny joke about cats'"
      ]
     },
     "execution_count": 43,
     "metadata": {},
     "output_type": "execute_result"
    }
   ],
   "source": [
    "prompt = langfuse.get_prompt(\"JokeTemplate1\", version=2)\n",
    "compiled_prompt = prompt.compile(topic=\"cats\")\n",
    "\n",
    "compiled_prompt"
   ]
  },
  {
   "cell_type": "code",
   "execution_count": null,
   "id": "f57e73d1-454c-4053-b7df-d7b211530fe5",
   "metadata": {},
   "outputs": [],
   "source": []
  }
 ],
 "metadata": {
  "kernelspec": {
   "display_name": "Python 3 (ipykernel)",
   "language": "python",
   "name": "python3"
  },
  "language_info": {
   "codemirror_mode": {
    "name": "ipython",
    "version": 3
   },
   "file_extension": ".py",
   "mimetype": "text/x-python",
   "name": "python",
   "nbconvert_exporter": "python",
   "pygments_lexer": "ipython3",
   "version": "3.13.0"
  }
 },
 "nbformat": 4,
 "nbformat_minor": 5
}
