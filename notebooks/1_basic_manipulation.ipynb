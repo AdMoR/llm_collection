{
 "cells": [
  {
   "cell_type": "code",
   "execution_count": 11,
   "id": "e91a34e4-b24a-4dc9-a557-63e6cdd62598",
   "metadata": {
    "scrolled": true
   },
   "outputs": [
    {
     "name": "stdout",
     "output_type": "stream",
     "text": [
      "Requirement already satisfied: llama_index in /home/amor/Documents/code_dw/human_in_the_loop_workflow_demo/venv/lib/python3.11/site-packages (0.12.1)\n",
      "Requirement already satisfied: llama-index-agent-openai<0.5.0,>=0.4.0 in /home/amor/Documents/code_dw/human_in_the_loop_workflow_demo/venv/lib/python3.11/site-packages (from llama_index) (0.4.0)\n",
      "Requirement already satisfied: llama-index-cli<0.5.0,>=0.4.0 in /home/amor/Documents/code_dw/human_in_the_loop_workflow_demo/venv/lib/python3.11/site-packages (from llama_index) (0.4.0)\n",
      "Requirement already satisfied: llama-index-core<0.13.0,>=0.12.1 in /home/amor/Documents/code_dw/human_in_the_loop_workflow_demo/venv/lib/python3.11/site-packages (from llama_index) (0.12.1)\n",
      "Requirement already satisfied: llama-index-embeddings-openai<0.4.0,>=0.3.0 in /home/amor/Documents/code_dw/human_in_the_loop_workflow_demo/venv/lib/python3.11/site-packages (from llama_index) (0.3.0)\n",
      "Requirement already satisfied: llama-index-indices-managed-llama-cloud>=0.4.0 in /home/amor/Documents/code_dw/human_in_the_loop_workflow_demo/venv/lib/python3.11/site-packages (from llama_index) (0.6.2)\n",
      "Requirement already satisfied: llama-index-legacy<0.10.0,>=0.9.48 in /home/amor/Documents/code_dw/human_in_the_loop_workflow_demo/venv/lib/python3.11/site-packages (from llama_index) (0.9.48.post4)\n",
      "Requirement already satisfied: llama-index-llms-openai<0.4.0,>=0.3.0 in /home/amor/Documents/code_dw/human_in_the_loop_workflow_demo/venv/lib/python3.11/site-packages (from llama_index) (0.3.1)\n",
      "Requirement already satisfied: llama-index-multi-modal-llms-openai<0.4.0,>=0.3.0 in /home/amor/Documents/code_dw/human_in_the_loop_workflow_demo/venv/lib/python3.11/site-packages (from llama_index) (0.3.0)\n",
      "Requirement already satisfied: llama-index-program-openai<0.4.0,>=0.3.0 in /home/amor/Documents/code_dw/human_in_the_loop_workflow_demo/venv/lib/python3.11/site-packages (from llama_index) (0.3.0)\n",
      "Requirement already satisfied: llama-index-question-gen-openai<0.4.0,>=0.3.0 in /home/amor/Documents/code_dw/human_in_the_loop_workflow_demo/venv/lib/python3.11/site-packages (from llama_index) (0.3.0)\n",
      "Requirement already satisfied: llama-index-readers-file<0.5.0,>=0.4.0 in /home/amor/Documents/code_dw/human_in_the_loop_workflow_demo/venv/lib/python3.11/site-packages (from llama_index) (0.4.0)\n",
      "Requirement already satisfied: llama-index-readers-llama-parse>=0.4.0 in /home/amor/Documents/code_dw/human_in_the_loop_workflow_demo/venv/lib/python3.11/site-packages (from llama_index) (0.4.0)\n",
      "Requirement already satisfied: nltk>3.8.1 in /home/amor/Documents/code_dw/human_in_the_loop_workflow_demo/venv/lib/python3.11/site-packages (from llama_index) (3.9.1)\n",
      "Requirement already satisfied: openai>=1.14.0 in /home/amor/Documents/code_dw/human_in_the_loop_workflow_demo/venv/lib/python3.11/site-packages (from llama-index-agent-openai<0.5.0,>=0.4.0->llama_index) (1.55.0)\n",
      "Requirement already satisfied: PyYAML>=6.0.1 in /home/amor/Documents/code_dw/human_in_the_loop_workflow_demo/venv/lib/python3.11/site-packages (from llama-index-core<0.13.0,>=0.12.1->llama_index) (6.0.2)\n",
      "Requirement already satisfied: SQLAlchemy[asyncio]>=1.4.49 in /home/amor/Documents/code_dw/human_in_the_loop_workflow_demo/venv/lib/python3.11/site-packages (from llama-index-core<0.13.0,>=0.12.1->llama_index) (2.0.36)\n",
      "Requirement already satisfied: aiohttp<4.0.0,>=3.8.6 in /home/amor/Documents/code_dw/human_in_the_loop_workflow_demo/venv/lib/python3.11/site-packages (from llama-index-core<0.13.0,>=0.12.1->llama_index) (3.11.7)\n",
      "Requirement already satisfied: dataclasses-json in /home/amor/Documents/code_dw/human_in_the_loop_workflow_demo/venv/lib/python3.11/site-packages (from llama-index-core<0.13.0,>=0.12.1->llama_index) (0.6.7)\n",
      "Requirement already satisfied: deprecated>=1.2.9.3 in /home/amor/Documents/code_dw/human_in_the_loop_workflow_demo/venv/lib/python3.11/site-packages (from llama-index-core<0.13.0,>=0.12.1->llama_index) (1.2.15)\n",
      "Requirement already satisfied: dirtyjson<2.0.0,>=1.0.8 in /home/amor/Documents/code_dw/human_in_the_loop_workflow_demo/venv/lib/python3.11/site-packages (from llama-index-core<0.13.0,>=0.12.1->llama_index) (1.0.8)\n",
      "Requirement already satisfied: filetype<2.0.0,>=1.2.0 in /home/amor/Documents/code_dw/human_in_the_loop_workflow_demo/venv/lib/python3.11/site-packages (from llama-index-core<0.13.0,>=0.12.1->llama_index) (1.2.0)\n",
      "Requirement already satisfied: fsspec>=2023.5.0 in /home/amor/Documents/code_dw/human_in_the_loop_workflow_demo/venv/lib/python3.11/site-packages (from llama-index-core<0.13.0,>=0.12.1->llama_index) (2024.10.0)\n",
      "Requirement already satisfied: httpx in /home/amor/Documents/code_dw/human_in_the_loop_workflow_demo/venv/lib/python3.11/site-packages (from llama-index-core<0.13.0,>=0.12.1->llama_index) (0.27.2)\n",
      "Requirement already satisfied: nest-asyncio<2.0.0,>=1.5.8 in /home/amor/Documents/code_dw/human_in_the_loop_workflow_demo/venv/lib/python3.11/site-packages (from llama-index-core<0.13.0,>=0.12.1->llama_index) (1.6.0)\n",
      "Requirement already satisfied: networkx>=3.0 in /home/amor/Documents/code_dw/human_in_the_loop_workflow_demo/venv/lib/python3.11/site-packages (from llama-index-core<0.13.0,>=0.12.1->llama_index) (3.4.2)\n",
      "Requirement already satisfied: numpy in /home/amor/Documents/code_dw/human_in_the_loop_workflow_demo/venv/lib/python3.11/site-packages (from llama-index-core<0.13.0,>=0.12.1->llama_index) (2.1.3)\n",
      "Requirement already satisfied: pillow>=9.0.0 in /home/amor/Documents/code_dw/human_in_the_loop_workflow_demo/venv/lib/python3.11/site-packages (from llama-index-core<0.13.0,>=0.12.1->llama_index) (11.0.0)\n",
      "Requirement already satisfied: pydantic<2.10.0,>=2.7.0 in /home/amor/Documents/code_dw/human_in_the_loop_workflow_demo/venv/lib/python3.11/site-packages (from llama-index-core<0.13.0,>=0.12.1->llama_index) (2.9.2)\n",
      "Requirement already satisfied: requests>=2.31.0 in /home/amor/Documents/code_dw/human_in_the_loop_workflow_demo/venv/lib/python3.11/site-packages (from llama-index-core<0.13.0,>=0.12.1->llama_index) (2.32.3)\n",
      "Requirement already satisfied: tenacity!=8.4.0,<9.0.0,>=8.2.0 in /home/amor/Documents/code_dw/human_in_the_loop_workflow_demo/venv/lib/python3.11/site-packages (from llama-index-core<0.13.0,>=0.12.1->llama_index) (8.5.0)\n",
      "Requirement already satisfied: tiktoken>=0.3.3 in /home/amor/Documents/code_dw/human_in_the_loop_workflow_demo/venv/lib/python3.11/site-packages (from llama-index-core<0.13.0,>=0.12.1->llama_index) (0.8.0)\n",
      "Requirement already satisfied: tqdm<5.0.0,>=4.66.1 in /home/amor/Documents/code_dw/human_in_the_loop_workflow_demo/venv/lib/python3.11/site-packages (from llama-index-core<0.13.0,>=0.12.1->llama_index) (4.67.0)\n",
      "Requirement already satisfied: typing-extensions>=4.5.0 in /home/amor/Documents/code_dw/human_in_the_loop_workflow_demo/venv/lib/python3.11/site-packages (from llama-index-core<0.13.0,>=0.12.1->llama_index) (4.12.2)\n",
      "Requirement already satisfied: typing-inspect>=0.8.0 in /home/amor/Documents/code_dw/human_in_the_loop_workflow_demo/venv/lib/python3.11/site-packages (from llama-index-core<0.13.0,>=0.12.1->llama_index) (0.9.0)\n",
      "Requirement already satisfied: wrapt in /home/amor/Documents/code_dw/human_in_the_loop_workflow_demo/venv/lib/python3.11/site-packages (from llama-index-core<0.13.0,>=0.12.1->llama_index) (1.17.0)\n",
      "Requirement already satisfied: llama-cloud>=0.1.5 in /home/amor/Documents/code_dw/human_in_the_loop_workflow_demo/venv/lib/python3.11/site-packages (from llama-index-indices-managed-llama-cloud>=0.4.0->llama_index) (0.1.5)\n",
      "Requirement already satisfied: pandas in /home/amor/Documents/code_dw/human_in_the_loop_workflow_demo/venv/lib/python3.11/site-packages (from llama-index-legacy<0.10.0,>=0.9.48->llama_index) (2.2.3)\n",
      "Requirement already satisfied: beautifulsoup4<5.0.0,>=4.12.3 in /home/amor/Documents/code_dw/human_in_the_loop_workflow_demo/venv/lib/python3.11/site-packages (from llama-index-readers-file<0.5.0,>=0.4.0->llama_index) (4.12.3)\n",
      "Requirement already satisfied: pypdf<6.0.0,>=5.1.0 in /home/amor/Documents/code_dw/human_in_the_loop_workflow_demo/venv/lib/python3.11/site-packages (from llama-index-readers-file<0.5.0,>=0.4.0->llama_index) (5.1.0)\n",
      "Requirement already satisfied: striprtf<0.0.27,>=0.0.26 in /home/amor/Documents/code_dw/human_in_the_loop_workflow_demo/venv/lib/python3.11/site-packages (from llama-index-readers-file<0.5.0,>=0.4.0->llama_index) (0.0.26)\n",
      "Requirement already satisfied: llama-parse>=0.5.0 in /home/amor/Documents/code_dw/human_in_the_loop_workflow_demo/venv/lib/python3.11/site-packages (from llama-index-readers-llama-parse>=0.4.0->llama_index) (0.5.15)\n",
      "Requirement already satisfied: click in /home/amor/Documents/code_dw/human_in_the_loop_workflow_demo/venv/lib/python3.11/site-packages (from nltk>3.8.1->llama_index) (8.1.7)\n",
      "Requirement already satisfied: joblib in /home/amor/Documents/code_dw/human_in_the_loop_workflow_demo/venv/lib/python3.11/site-packages (from nltk>3.8.1->llama_index) (1.4.2)\n",
      "Requirement already satisfied: regex>=2021.8.3 in /home/amor/Documents/code_dw/human_in_the_loop_workflow_demo/venv/lib/python3.11/site-packages (from nltk>3.8.1->llama_index) (2024.11.6)\n",
      "Requirement already satisfied: aiohappyeyeballs>=2.3.0 in /home/amor/Documents/code_dw/human_in_the_loop_workflow_demo/venv/lib/python3.11/site-packages (from aiohttp<4.0.0,>=3.8.6->llama-index-core<0.13.0,>=0.12.1->llama_index) (2.4.3)\n",
      "Requirement already satisfied: aiosignal>=1.1.2 in /home/amor/Documents/code_dw/human_in_the_loop_workflow_demo/venv/lib/python3.11/site-packages (from aiohttp<4.0.0,>=3.8.6->llama-index-core<0.13.0,>=0.12.1->llama_index) (1.3.1)\n",
      "Requirement already satisfied: attrs>=17.3.0 in /home/amor/Documents/code_dw/human_in_the_loop_workflow_demo/venv/lib/python3.11/site-packages (from aiohttp<4.0.0,>=3.8.6->llama-index-core<0.13.0,>=0.12.1->llama_index) (24.2.0)\n",
      "Requirement already satisfied: frozenlist>=1.1.1 in /home/amor/Documents/code_dw/human_in_the_loop_workflow_demo/venv/lib/python3.11/site-packages (from aiohttp<4.0.0,>=3.8.6->llama-index-core<0.13.0,>=0.12.1->llama_index) (1.5.0)\n",
      "Requirement already satisfied: multidict<7.0,>=4.5 in /home/amor/Documents/code_dw/human_in_the_loop_workflow_demo/venv/lib/python3.11/site-packages (from aiohttp<4.0.0,>=3.8.6->llama-index-core<0.13.0,>=0.12.1->llama_index) (6.1.0)\n",
      "Requirement already satisfied: propcache>=0.2.0 in /home/amor/Documents/code_dw/human_in_the_loop_workflow_demo/venv/lib/python3.11/site-packages (from aiohttp<4.0.0,>=3.8.6->llama-index-core<0.13.0,>=0.12.1->llama_index) (0.2.0)\n",
      "Requirement already satisfied: yarl<2.0,>=1.17.0 in /home/amor/Documents/code_dw/human_in_the_loop_workflow_demo/venv/lib/python3.11/site-packages (from aiohttp<4.0.0,>=3.8.6->llama-index-core<0.13.0,>=0.12.1->llama_index) (1.18.0)\n",
      "Requirement already satisfied: soupsieve>1.2 in /home/amor/Documents/code_dw/human_in_the_loop_workflow_demo/venv/lib/python3.11/site-packages (from beautifulsoup4<5.0.0,>=4.12.3->llama-index-readers-file<0.5.0,>=0.4.0->llama_index) (2.6)\n",
      "Requirement already satisfied: anyio in /home/amor/Documents/code_dw/human_in_the_loop_workflow_demo/venv/lib/python3.11/site-packages (from httpx->llama-index-core<0.13.0,>=0.12.1->llama_index) (4.6.2.post1)\n",
      "Requirement already satisfied: certifi in /home/amor/Documents/code_dw/human_in_the_loop_workflow_demo/venv/lib/python3.11/site-packages (from httpx->llama-index-core<0.13.0,>=0.12.1->llama_index) (2024.8.30)\n",
      "Requirement already satisfied: httpcore==1.* in /home/amor/Documents/code_dw/human_in_the_loop_workflow_demo/venv/lib/python3.11/site-packages (from httpx->llama-index-core<0.13.0,>=0.12.1->llama_index) (1.0.7)\n",
      "Requirement already satisfied: idna in /home/amor/Documents/code_dw/human_in_the_loop_workflow_demo/venv/lib/python3.11/site-packages (from httpx->llama-index-core<0.13.0,>=0.12.1->llama_index) (3.10)\n",
      "Requirement already satisfied: sniffio in /home/amor/Documents/code_dw/human_in_the_loop_workflow_demo/venv/lib/python3.11/site-packages (from httpx->llama-index-core<0.13.0,>=0.12.1->llama_index) (1.3.1)\n",
      "Requirement already satisfied: h11<0.15,>=0.13 in /home/amor/Documents/code_dw/human_in_the_loop_workflow_demo/venv/lib/python3.11/site-packages (from httpcore==1.*->httpx->llama-index-core<0.13.0,>=0.12.1->llama_index) (0.14.0)\n",
      "Requirement already satisfied: distro<2,>=1.7.0 in /home/amor/Documents/code_dw/human_in_the_loop_workflow_demo/venv/lib/python3.11/site-packages (from openai>=1.14.0->llama-index-agent-openai<0.5.0,>=0.4.0->llama_index) (1.9.0)\n",
      "Requirement already satisfied: jiter<1,>=0.4.0 in /home/amor/Documents/code_dw/human_in_the_loop_workflow_demo/venv/lib/python3.11/site-packages (from openai>=1.14.0->llama-index-agent-openai<0.5.0,>=0.4.0->llama_index) (0.7.1)\n",
      "Requirement already satisfied: annotated-types>=0.6.0 in /home/amor/Documents/code_dw/human_in_the_loop_workflow_demo/venv/lib/python3.11/site-packages (from pydantic<2.10.0,>=2.7.0->llama-index-core<0.13.0,>=0.12.1->llama_index) (0.7.0)\n",
      "Requirement already satisfied: pydantic-core==2.23.4 in /home/amor/Documents/code_dw/human_in_the_loop_workflow_demo/venv/lib/python3.11/site-packages (from pydantic<2.10.0,>=2.7.0->llama-index-core<0.13.0,>=0.12.1->llama_index) (2.23.4)\n",
      "Requirement already satisfied: charset-normalizer<4,>=2 in /home/amor/Documents/code_dw/human_in_the_loop_workflow_demo/venv/lib/python3.11/site-packages (from requests>=2.31.0->llama-index-core<0.13.0,>=0.12.1->llama_index) (3.4.0)\n",
      "Requirement already satisfied: urllib3<3,>=1.21.1 in /home/amor/Documents/code_dw/human_in_the_loop_workflow_demo/venv/lib/python3.11/site-packages (from requests>=2.31.0->llama-index-core<0.13.0,>=0.12.1->llama_index) (2.2.3)\n",
      "Requirement already satisfied: greenlet!=0.4.17 in /home/amor/Documents/code_dw/human_in_the_loop_workflow_demo/venv/lib/python3.11/site-packages (from SQLAlchemy[asyncio]>=1.4.49->llama-index-core<0.13.0,>=0.12.1->llama_index) (3.1.1)\n",
      "Requirement already satisfied: mypy-extensions>=0.3.0 in /home/amor/Documents/code_dw/human_in_the_loop_workflow_demo/venv/lib/python3.11/site-packages (from typing-inspect>=0.8.0->llama-index-core<0.13.0,>=0.12.1->llama_index) (1.0.0)\n",
      "Requirement already satisfied: marshmallow<4.0.0,>=3.18.0 in /home/amor/Documents/code_dw/human_in_the_loop_workflow_demo/venv/lib/python3.11/site-packages (from dataclasses-json->llama-index-core<0.13.0,>=0.12.1->llama_index) (3.23.1)\n",
      "Requirement already satisfied: python-dateutil>=2.8.2 in /home/amor/Documents/code_dw/human_in_the_loop_workflow_demo/venv/lib/python3.11/site-packages (from pandas->llama-index-legacy<0.10.0,>=0.9.48->llama_index) (2.9.0.post0)\n",
      "Requirement already satisfied: pytz>=2020.1 in /home/amor/Documents/code_dw/human_in_the_loop_workflow_demo/venv/lib/python3.11/site-packages (from pandas->llama-index-legacy<0.10.0,>=0.9.48->llama_index) (2024.2)\n",
      "Requirement already satisfied: tzdata>=2022.7 in /home/amor/Documents/code_dw/human_in_the_loop_workflow_demo/venv/lib/python3.11/site-packages (from pandas->llama-index-legacy<0.10.0,>=0.9.48->llama_index) (2024.2)\n",
      "Requirement already satisfied: packaging>=17.0 in /home/amor/Documents/code_dw/human_in_the_loop_workflow_demo/venv/lib/python3.11/site-packages (from marshmallow<4.0.0,>=3.18.0->dataclasses-json->llama-index-core<0.13.0,>=0.12.1->llama_index) (24.2)\n",
      "Requirement already satisfied: six>=1.5 in /home/amor/Documents/code_dw/human_in_the_loop_workflow_demo/venv/lib/python3.11/site-packages (from python-dateutil>=2.8.2->pandas->llama-index-legacy<0.10.0,>=0.9.48->llama_index) (1.16.0)\n",
      "\n",
      "\u001b[1m[\u001b[0m\u001b[34;49mnotice\u001b[0m\u001b[1;39;49m]\u001b[0m\u001b[39;49m A new release of pip is available: \u001b[0m\u001b[31;49m23.2.1\u001b[0m\u001b[39;49m -> \u001b[0m\u001b[32;49m24.3.1\u001b[0m\n",
      "\u001b[1m[\u001b[0m\u001b[34;49mnotice\u001b[0m\u001b[1;39;49m]\u001b[0m\u001b[39;49m To update, run: \u001b[0m\u001b[32;49mpip install --upgrade pip\u001b[0m\n",
      "Collecting llama-index-utils-workflow\n",
      "  Obtaining dependency information for llama-index-utils-workflow from https://files.pythonhosted.org/packages/ea/be/b7b8906da0c815f5488253a765c5166ef954e5fada5c66f908beb9fc85ac/llama_index_utils_workflow-0.3.0-py3-none-any.whl.metadata\n",
      "  Downloading llama_index_utils_workflow-0.3.0-py3-none-any.whl.metadata (665 bytes)\n",
      "Requirement already satisfied: llama-index-core<0.13.0,>=0.12.0 in /home/amor/Documents/code_dw/human_in_the_loop_workflow_demo/venv/lib/python3.11/site-packages (from llama-index-utils-workflow) (0.12.1)\n",
      "Requirement already satisfied: pyvis<0.4.0,>=0.3.2 in /home/amor/Documents/code_dw/human_in_the_loop_workflow_demo/venv/lib/python3.11/site-packages (from llama-index-utils-workflow) (0.3.2)\n",
      "Requirement already satisfied: PyYAML>=6.0.1 in /home/amor/Documents/code_dw/human_in_the_loop_workflow_demo/venv/lib/python3.11/site-packages (from llama-index-core<0.13.0,>=0.12.0->llama-index-utils-workflow) (6.0.2)\n",
      "Requirement already satisfied: SQLAlchemy[asyncio]>=1.4.49 in /home/amor/Documents/code_dw/human_in_the_loop_workflow_demo/venv/lib/python3.11/site-packages (from llama-index-core<0.13.0,>=0.12.0->llama-index-utils-workflow) (2.0.36)\n",
      "Requirement already satisfied: aiohttp<4.0.0,>=3.8.6 in /home/amor/Documents/code_dw/human_in_the_loop_workflow_demo/venv/lib/python3.11/site-packages (from llama-index-core<0.13.0,>=0.12.0->llama-index-utils-workflow) (3.11.7)\n",
      "Requirement already satisfied: dataclasses-json in /home/amor/Documents/code_dw/human_in_the_loop_workflow_demo/venv/lib/python3.11/site-packages (from llama-index-core<0.13.0,>=0.12.0->llama-index-utils-workflow) (0.6.7)\n",
      "Requirement already satisfied: deprecated>=1.2.9.3 in /home/amor/Documents/code_dw/human_in_the_loop_workflow_demo/venv/lib/python3.11/site-packages (from llama-index-core<0.13.0,>=0.12.0->llama-index-utils-workflow) (1.2.15)\n",
      "Requirement already satisfied: dirtyjson<2.0.0,>=1.0.8 in /home/amor/Documents/code_dw/human_in_the_loop_workflow_demo/venv/lib/python3.11/site-packages (from llama-index-core<0.13.0,>=0.12.0->llama-index-utils-workflow) (1.0.8)\n",
      "Requirement already satisfied: filetype<2.0.0,>=1.2.0 in /home/amor/Documents/code_dw/human_in_the_loop_workflow_demo/venv/lib/python3.11/site-packages (from llama-index-core<0.13.0,>=0.12.0->llama-index-utils-workflow) (1.2.0)\n",
      "Requirement already satisfied: fsspec>=2023.5.0 in /home/amor/Documents/code_dw/human_in_the_loop_workflow_demo/venv/lib/python3.11/site-packages (from llama-index-core<0.13.0,>=0.12.0->llama-index-utils-workflow) (2024.10.0)\n",
      "Requirement already satisfied: httpx in /home/amor/Documents/code_dw/human_in_the_loop_workflow_demo/venv/lib/python3.11/site-packages (from llama-index-core<0.13.0,>=0.12.0->llama-index-utils-workflow) (0.27.2)\n",
      "Requirement already satisfied: nest-asyncio<2.0.0,>=1.5.8 in /home/amor/Documents/code_dw/human_in_the_loop_workflow_demo/venv/lib/python3.11/site-packages (from llama-index-core<0.13.0,>=0.12.0->llama-index-utils-workflow) (1.6.0)\n",
      "Requirement already satisfied: networkx>=3.0 in /home/amor/Documents/code_dw/human_in_the_loop_workflow_demo/venv/lib/python3.11/site-packages (from llama-index-core<0.13.0,>=0.12.0->llama-index-utils-workflow) (3.4.2)\n",
      "Requirement already satisfied: nltk>3.8.1 in /home/amor/Documents/code_dw/human_in_the_loop_workflow_demo/venv/lib/python3.11/site-packages (from llama-index-core<0.13.0,>=0.12.0->llama-index-utils-workflow) (3.9.1)\n",
      "Requirement already satisfied: numpy in /home/amor/Documents/code_dw/human_in_the_loop_workflow_demo/venv/lib/python3.11/site-packages (from llama-index-core<0.13.0,>=0.12.0->llama-index-utils-workflow) (2.1.3)\n",
      "Requirement already satisfied: pillow>=9.0.0 in /home/amor/Documents/code_dw/human_in_the_loop_workflow_demo/venv/lib/python3.11/site-packages (from llama-index-core<0.13.0,>=0.12.0->llama-index-utils-workflow) (11.0.0)\n",
      "Requirement already satisfied: pydantic<2.10.0,>=2.7.0 in /home/amor/Documents/code_dw/human_in_the_loop_workflow_demo/venv/lib/python3.11/site-packages (from llama-index-core<0.13.0,>=0.12.0->llama-index-utils-workflow) (2.9.2)\n",
      "Requirement already satisfied: requests>=2.31.0 in /home/amor/Documents/code_dw/human_in_the_loop_workflow_demo/venv/lib/python3.11/site-packages (from llama-index-core<0.13.0,>=0.12.0->llama-index-utils-workflow) (2.32.3)\n",
      "Requirement already satisfied: tenacity!=8.4.0,<9.0.0,>=8.2.0 in /home/amor/Documents/code_dw/human_in_the_loop_workflow_demo/venv/lib/python3.11/site-packages (from llama-index-core<0.13.0,>=0.12.0->llama-index-utils-workflow) (8.5.0)\n",
      "Requirement already satisfied: tiktoken>=0.3.3 in /home/amor/Documents/code_dw/human_in_the_loop_workflow_demo/venv/lib/python3.11/site-packages (from llama-index-core<0.13.0,>=0.12.0->llama-index-utils-workflow) (0.8.0)\n",
      "Requirement already satisfied: tqdm<5.0.0,>=4.66.1 in /home/amor/Documents/code_dw/human_in_the_loop_workflow_demo/venv/lib/python3.11/site-packages (from llama-index-core<0.13.0,>=0.12.0->llama-index-utils-workflow) (4.67.0)\n",
      "Requirement already satisfied: typing-extensions>=4.5.0 in /home/amor/Documents/code_dw/human_in_the_loop_workflow_demo/venv/lib/python3.11/site-packages (from llama-index-core<0.13.0,>=0.12.0->llama-index-utils-workflow) (4.12.2)\n",
      "Requirement already satisfied: typing-inspect>=0.8.0 in /home/amor/Documents/code_dw/human_in_the_loop_workflow_demo/venv/lib/python3.11/site-packages (from llama-index-core<0.13.0,>=0.12.0->llama-index-utils-workflow) (0.9.0)\n",
      "Requirement already satisfied: wrapt in /home/amor/Documents/code_dw/human_in_the_loop_workflow_demo/venv/lib/python3.11/site-packages (from llama-index-core<0.13.0,>=0.12.0->llama-index-utils-workflow) (1.17.0)\n",
      "Requirement already satisfied: ipython>=5.3.0 in /home/amor/Documents/code_dw/human_in_the_loop_workflow_demo/venv/lib/python3.11/site-packages (from pyvis<0.4.0,>=0.3.2->llama-index-utils-workflow) (8.29.0)\n",
      "Requirement already satisfied: jinja2>=2.9.6 in /home/amor/Documents/code_dw/human_in_the_loop_workflow_demo/venv/lib/python3.11/site-packages (from pyvis<0.4.0,>=0.3.2->llama-index-utils-workflow) (3.1.4)\n",
      "Requirement already satisfied: jsonpickle>=1.4.1 in /home/amor/Documents/code_dw/human_in_the_loop_workflow_demo/venv/lib/python3.11/site-packages (from pyvis<0.4.0,>=0.3.2->llama-index-utils-workflow) (4.0.0)\n",
      "Requirement already satisfied: aiohappyeyeballs>=2.3.0 in /home/amor/Documents/code_dw/human_in_the_loop_workflow_demo/venv/lib/python3.11/site-packages (from aiohttp<4.0.0,>=3.8.6->llama-index-core<0.13.0,>=0.12.0->llama-index-utils-workflow) (2.4.3)\n",
      "Requirement already satisfied: aiosignal>=1.1.2 in /home/amor/Documents/code_dw/human_in_the_loop_workflow_demo/venv/lib/python3.11/site-packages (from aiohttp<4.0.0,>=3.8.6->llama-index-core<0.13.0,>=0.12.0->llama-index-utils-workflow) (1.3.1)\n",
      "Requirement already satisfied: attrs>=17.3.0 in /home/amor/Documents/code_dw/human_in_the_loop_workflow_demo/venv/lib/python3.11/site-packages (from aiohttp<4.0.0,>=3.8.6->llama-index-core<0.13.0,>=0.12.0->llama-index-utils-workflow) (24.2.0)\n",
      "Requirement already satisfied: frozenlist>=1.1.1 in /home/amor/Documents/code_dw/human_in_the_loop_workflow_demo/venv/lib/python3.11/site-packages (from aiohttp<4.0.0,>=3.8.6->llama-index-core<0.13.0,>=0.12.0->llama-index-utils-workflow) (1.5.0)\n",
      "Requirement already satisfied: multidict<7.0,>=4.5 in /home/amor/Documents/code_dw/human_in_the_loop_workflow_demo/venv/lib/python3.11/site-packages (from aiohttp<4.0.0,>=3.8.6->llama-index-core<0.13.0,>=0.12.0->llama-index-utils-workflow) (6.1.0)\n",
      "Requirement already satisfied: propcache>=0.2.0 in /home/amor/Documents/code_dw/human_in_the_loop_workflow_demo/venv/lib/python3.11/site-packages (from aiohttp<4.0.0,>=3.8.6->llama-index-core<0.13.0,>=0.12.0->llama-index-utils-workflow) (0.2.0)\n",
      "Requirement already satisfied: yarl<2.0,>=1.17.0 in /home/amor/Documents/code_dw/human_in_the_loop_workflow_demo/venv/lib/python3.11/site-packages (from aiohttp<4.0.0,>=3.8.6->llama-index-core<0.13.0,>=0.12.0->llama-index-utils-workflow) (1.18.0)\n",
      "Requirement already satisfied: decorator in /home/amor/Documents/code_dw/human_in_the_loop_workflow_demo/venv/lib/python3.11/site-packages (from ipython>=5.3.0->pyvis<0.4.0,>=0.3.2->llama-index-utils-workflow) (5.1.1)\n",
      "Requirement already satisfied: jedi>=0.16 in /home/amor/Documents/code_dw/human_in_the_loop_workflow_demo/venv/lib/python3.11/site-packages (from ipython>=5.3.0->pyvis<0.4.0,>=0.3.2->llama-index-utils-workflow) (0.19.2)\n",
      "Requirement already satisfied: matplotlib-inline in /home/amor/Documents/code_dw/human_in_the_loop_workflow_demo/venv/lib/python3.11/site-packages (from ipython>=5.3.0->pyvis<0.4.0,>=0.3.2->llama-index-utils-workflow) (0.1.7)\n",
      "Requirement already satisfied: prompt-toolkit<3.1.0,>=3.0.41 in /home/amor/Documents/code_dw/human_in_the_loop_workflow_demo/venv/lib/python3.11/site-packages (from ipython>=5.3.0->pyvis<0.4.0,>=0.3.2->llama-index-utils-workflow) (3.0.48)\n",
      "Requirement already satisfied: pygments>=2.4.0 in /home/amor/Documents/code_dw/human_in_the_loop_workflow_demo/venv/lib/python3.11/site-packages (from ipython>=5.3.0->pyvis<0.4.0,>=0.3.2->llama-index-utils-workflow) (2.18.0)\n",
      "Requirement already satisfied: stack-data in /home/amor/Documents/code_dw/human_in_the_loop_workflow_demo/venv/lib/python3.11/site-packages (from ipython>=5.3.0->pyvis<0.4.0,>=0.3.2->llama-index-utils-workflow) (0.6.3)\n",
      "Requirement already satisfied: traitlets>=5.13.0 in /home/amor/Documents/code_dw/human_in_the_loop_workflow_demo/venv/lib/python3.11/site-packages (from ipython>=5.3.0->pyvis<0.4.0,>=0.3.2->llama-index-utils-workflow) (5.14.3)\n",
      "Requirement already satisfied: pexpect>4.3 in /home/amor/Documents/code_dw/human_in_the_loop_workflow_demo/venv/lib/python3.11/site-packages (from ipython>=5.3.0->pyvis<0.4.0,>=0.3.2->llama-index-utils-workflow) (4.9.0)\n",
      "Requirement already satisfied: MarkupSafe>=2.0 in /home/amor/Documents/code_dw/human_in_the_loop_workflow_demo/venv/lib/python3.11/site-packages (from jinja2>=2.9.6->pyvis<0.4.0,>=0.3.2->llama-index-utils-workflow) (3.0.2)\n",
      "Requirement already satisfied: click in /home/amor/Documents/code_dw/human_in_the_loop_workflow_demo/venv/lib/python3.11/site-packages (from nltk>3.8.1->llama-index-core<0.13.0,>=0.12.0->llama-index-utils-workflow) (8.1.7)\n",
      "Requirement already satisfied: joblib in /home/amor/Documents/code_dw/human_in_the_loop_workflow_demo/venv/lib/python3.11/site-packages (from nltk>3.8.1->llama-index-core<0.13.0,>=0.12.0->llama-index-utils-workflow) (1.4.2)\n",
      "Requirement already satisfied: regex>=2021.8.3 in /home/amor/Documents/code_dw/human_in_the_loop_workflow_demo/venv/lib/python3.11/site-packages (from nltk>3.8.1->llama-index-core<0.13.0,>=0.12.0->llama-index-utils-workflow) (2024.11.6)\n",
      "Requirement already satisfied: annotated-types>=0.6.0 in /home/amor/Documents/code_dw/human_in_the_loop_workflow_demo/venv/lib/python3.11/site-packages (from pydantic<2.10.0,>=2.7.0->llama-index-core<0.13.0,>=0.12.0->llama-index-utils-workflow) (0.7.0)\n",
      "Requirement already satisfied: pydantic-core==2.23.4 in /home/amor/Documents/code_dw/human_in_the_loop_workflow_demo/venv/lib/python3.11/site-packages (from pydantic<2.10.0,>=2.7.0->llama-index-core<0.13.0,>=0.12.0->llama-index-utils-workflow) (2.23.4)\n",
      "Requirement already satisfied: charset-normalizer<4,>=2 in /home/amor/Documents/code_dw/human_in_the_loop_workflow_demo/venv/lib/python3.11/site-packages (from requests>=2.31.0->llama-index-core<0.13.0,>=0.12.0->llama-index-utils-workflow) (3.4.0)\n",
      "Requirement already satisfied: idna<4,>=2.5 in /home/amor/Documents/code_dw/human_in_the_loop_workflow_demo/venv/lib/python3.11/site-packages (from requests>=2.31.0->llama-index-core<0.13.0,>=0.12.0->llama-index-utils-workflow) (3.10)\n",
      "Requirement already satisfied: urllib3<3,>=1.21.1 in /home/amor/Documents/code_dw/human_in_the_loop_workflow_demo/venv/lib/python3.11/site-packages (from requests>=2.31.0->llama-index-core<0.13.0,>=0.12.0->llama-index-utils-workflow) (2.2.3)\n",
      "Requirement already satisfied: certifi>=2017.4.17 in /home/amor/Documents/code_dw/human_in_the_loop_workflow_demo/venv/lib/python3.11/site-packages (from requests>=2.31.0->llama-index-core<0.13.0,>=0.12.0->llama-index-utils-workflow) (2024.8.30)\n",
      "Requirement already satisfied: greenlet!=0.4.17 in /home/amor/Documents/code_dw/human_in_the_loop_workflow_demo/venv/lib/python3.11/site-packages (from SQLAlchemy[asyncio]>=1.4.49->llama-index-core<0.13.0,>=0.12.0->llama-index-utils-workflow) (3.1.1)\n",
      "Requirement already satisfied: mypy-extensions>=0.3.0 in /home/amor/Documents/code_dw/human_in_the_loop_workflow_demo/venv/lib/python3.11/site-packages (from typing-inspect>=0.8.0->llama-index-core<0.13.0,>=0.12.0->llama-index-utils-workflow) (1.0.0)\n",
      "Requirement already satisfied: marshmallow<4.0.0,>=3.18.0 in /home/amor/Documents/code_dw/human_in_the_loop_workflow_demo/venv/lib/python3.11/site-packages (from dataclasses-json->llama-index-core<0.13.0,>=0.12.0->llama-index-utils-workflow) (3.23.1)\n",
      "Requirement already satisfied: anyio in /home/amor/Documents/code_dw/human_in_the_loop_workflow_demo/venv/lib/python3.11/site-packages (from httpx->llama-index-core<0.13.0,>=0.12.0->llama-index-utils-workflow) (4.6.2.post1)\n",
      "Requirement already satisfied: httpcore==1.* in /home/amor/Documents/code_dw/human_in_the_loop_workflow_demo/venv/lib/python3.11/site-packages (from httpx->llama-index-core<0.13.0,>=0.12.0->llama-index-utils-workflow) (1.0.7)\n",
      "Requirement already satisfied: sniffio in /home/amor/Documents/code_dw/human_in_the_loop_workflow_demo/venv/lib/python3.11/site-packages (from httpx->llama-index-core<0.13.0,>=0.12.0->llama-index-utils-workflow) (1.3.1)\n",
      "Requirement already satisfied: h11<0.15,>=0.13 in /home/amor/Documents/code_dw/human_in_the_loop_workflow_demo/venv/lib/python3.11/site-packages (from httpcore==1.*->httpx->llama-index-core<0.13.0,>=0.12.0->llama-index-utils-workflow) (0.14.0)\n",
      "Requirement already satisfied: parso<0.9.0,>=0.8.4 in /home/amor/Documents/code_dw/human_in_the_loop_workflow_demo/venv/lib/python3.11/site-packages (from jedi>=0.16->ipython>=5.3.0->pyvis<0.4.0,>=0.3.2->llama-index-utils-workflow) (0.8.4)\n",
      "Requirement already satisfied: packaging>=17.0 in /home/amor/Documents/code_dw/human_in_the_loop_workflow_demo/venv/lib/python3.11/site-packages (from marshmallow<4.0.0,>=3.18.0->dataclasses-json->llama-index-core<0.13.0,>=0.12.0->llama-index-utils-workflow) (24.2)\n",
      "Requirement already satisfied: ptyprocess>=0.5 in /home/amor/Documents/code_dw/human_in_the_loop_workflow_demo/venv/lib/python3.11/site-packages (from pexpect>4.3->ipython>=5.3.0->pyvis<0.4.0,>=0.3.2->llama-index-utils-workflow) (0.7.0)\n",
      "Requirement already satisfied: wcwidth in /home/amor/Documents/code_dw/human_in_the_loop_workflow_demo/venv/lib/python3.11/site-packages (from prompt-toolkit<3.1.0,>=3.0.41->ipython>=5.3.0->pyvis<0.4.0,>=0.3.2->llama-index-utils-workflow) (0.2.13)\n",
      "Requirement already satisfied: executing>=1.2.0 in /home/amor/Documents/code_dw/human_in_the_loop_workflow_demo/venv/lib/python3.11/site-packages (from stack-data->ipython>=5.3.0->pyvis<0.4.0,>=0.3.2->llama-index-utils-workflow) (2.1.0)\n",
      "Requirement already satisfied: asttokens>=2.1.0 in /home/amor/Documents/code_dw/human_in_the_loop_workflow_demo/venv/lib/python3.11/site-packages (from stack-data->ipython>=5.3.0->pyvis<0.4.0,>=0.3.2->llama-index-utils-workflow) (2.4.1)\n",
      "Requirement already satisfied: pure-eval in /home/amor/Documents/code_dw/human_in_the_loop_workflow_demo/venv/lib/python3.11/site-packages (from stack-data->ipython>=5.3.0->pyvis<0.4.0,>=0.3.2->llama-index-utils-workflow) (0.2.3)\n",
      "Requirement already satisfied: six>=1.12.0 in /home/amor/Documents/code_dw/human_in_the_loop_workflow_demo/venv/lib/python3.11/site-packages (from asttokens>=2.1.0->stack-data->ipython>=5.3.0->pyvis<0.4.0,>=0.3.2->llama-index-utils-workflow) (1.16.0)\n",
      "Downloading llama_index_utils_workflow-0.3.0-py3-none-any.whl (2.8 kB)\n",
      "Installing collected packages: llama-index-utils-workflow\n",
      "Successfully installed llama-index-utils-workflow-0.3.0\n",
      "\n",
      "\u001b[1m[\u001b[0m\u001b[34;49mnotice\u001b[0m\u001b[1;39;49m]\u001b[0m\u001b[39;49m A new release of pip is available: \u001b[0m\u001b[31;49m23.2.1\u001b[0m\u001b[39;49m -> \u001b[0m\u001b[32;49m24.3.1\u001b[0m\n",
      "\u001b[1m[\u001b[0m\u001b[34;49mnotice\u001b[0m\u001b[1;39;49m]\u001b[0m\u001b[39;49m To update, run: \u001b[0m\u001b[32;49mpip install --upgrade pip\u001b[0m\n",
      "Requirement already satisfied: llama-index-core in /home/amor/Documents/code_dw/human_in_the_loop_workflow_demo/venv/lib/python3.11/site-packages (0.12.1)\n",
      "Requirement already satisfied: PyYAML>=6.0.1 in /home/amor/Documents/code_dw/human_in_the_loop_workflow_demo/venv/lib/python3.11/site-packages (from llama-index-core) (6.0.2)\n",
      "Requirement already satisfied: SQLAlchemy[asyncio]>=1.4.49 in /home/amor/Documents/code_dw/human_in_the_loop_workflow_demo/venv/lib/python3.11/site-packages (from llama-index-core) (2.0.36)\n",
      "Requirement already satisfied: aiohttp<4.0.0,>=3.8.6 in /home/amor/Documents/code_dw/human_in_the_loop_workflow_demo/venv/lib/python3.11/site-packages (from llama-index-core) (3.11.7)\n",
      "Requirement already satisfied: dataclasses-json in /home/amor/Documents/code_dw/human_in_the_loop_workflow_demo/venv/lib/python3.11/site-packages (from llama-index-core) (0.6.7)\n",
      "Requirement already satisfied: deprecated>=1.2.9.3 in /home/amor/Documents/code_dw/human_in_the_loop_workflow_demo/venv/lib/python3.11/site-packages (from llama-index-core) (1.2.15)\n",
      "Requirement already satisfied: dirtyjson<2.0.0,>=1.0.8 in /home/amor/Documents/code_dw/human_in_the_loop_workflow_demo/venv/lib/python3.11/site-packages (from llama-index-core) (1.0.8)\n",
      "Requirement already satisfied: filetype<2.0.0,>=1.2.0 in /home/amor/Documents/code_dw/human_in_the_loop_workflow_demo/venv/lib/python3.11/site-packages (from llama-index-core) (1.2.0)\n",
      "Requirement already satisfied: fsspec>=2023.5.0 in /home/amor/Documents/code_dw/human_in_the_loop_workflow_demo/venv/lib/python3.11/site-packages (from llama-index-core) (2024.10.0)\n",
      "Requirement already satisfied: httpx in /home/amor/Documents/code_dw/human_in_the_loop_workflow_demo/venv/lib/python3.11/site-packages (from llama-index-core) (0.27.2)\n",
      "Requirement already satisfied: nest-asyncio<2.0.0,>=1.5.8 in /home/amor/Documents/code_dw/human_in_the_loop_workflow_demo/venv/lib/python3.11/site-packages (from llama-index-core) (1.6.0)\n",
      "Requirement already satisfied: networkx>=3.0 in /home/amor/Documents/code_dw/human_in_the_loop_workflow_demo/venv/lib/python3.11/site-packages (from llama-index-core) (3.4.2)\n",
      "Requirement already satisfied: nltk>3.8.1 in /home/amor/Documents/code_dw/human_in_the_loop_workflow_demo/venv/lib/python3.11/site-packages (from llama-index-core) (3.9.1)\n",
      "Requirement already satisfied: numpy in /home/amor/Documents/code_dw/human_in_the_loop_workflow_demo/venv/lib/python3.11/site-packages (from llama-index-core) (2.1.3)\n",
      "Requirement already satisfied: pillow>=9.0.0 in /home/amor/Documents/code_dw/human_in_the_loop_workflow_demo/venv/lib/python3.11/site-packages (from llama-index-core) (11.0.0)\n",
      "Requirement already satisfied: pydantic<2.10.0,>=2.7.0 in /home/amor/Documents/code_dw/human_in_the_loop_workflow_demo/venv/lib/python3.11/site-packages (from llama-index-core) (2.9.2)\n",
      "Requirement already satisfied: requests>=2.31.0 in /home/amor/Documents/code_dw/human_in_the_loop_workflow_demo/venv/lib/python3.11/site-packages (from llama-index-core) (2.32.3)\n",
      "Requirement already satisfied: tenacity!=8.4.0,<9.0.0,>=8.2.0 in /home/amor/Documents/code_dw/human_in_the_loop_workflow_demo/venv/lib/python3.11/site-packages (from llama-index-core) (8.5.0)\n",
      "Requirement already satisfied: tiktoken>=0.3.3 in /home/amor/Documents/code_dw/human_in_the_loop_workflow_demo/venv/lib/python3.11/site-packages (from llama-index-core) (0.8.0)\n",
      "Requirement already satisfied: tqdm<5.0.0,>=4.66.1 in /home/amor/Documents/code_dw/human_in_the_loop_workflow_demo/venv/lib/python3.11/site-packages (from llama-index-core) (4.67.0)\n",
      "Requirement already satisfied: typing-extensions>=4.5.0 in /home/amor/Documents/code_dw/human_in_the_loop_workflow_demo/venv/lib/python3.11/site-packages (from llama-index-core) (4.12.2)\n",
      "Requirement already satisfied: typing-inspect>=0.8.0 in /home/amor/Documents/code_dw/human_in_the_loop_workflow_demo/venv/lib/python3.11/site-packages (from llama-index-core) (0.9.0)\n",
      "Requirement already satisfied: wrapt in /home/amor/Documents/code_dw/human_in_the_loop_workflow_demo/venv/lib/python3.11/site-packages (from llama-index-core) (1.17.0)\n",
      "Requirement already satisfied: aiohappyeyeballs>=2.3.0 in /home/amor/Documents/code_dw/human_in_the_loop_workflow_demo/venv/lib/python3.11/site-packages (from aiohttp<4.0.0,>=3.8.6->llama-index-core) (2.4.3)\n",
      "Requirement already satisfied: aiosignal>=1.1.2 in /home/amor/Documents/code_dw/human_in_the_loop_workflow_demo/venv/lib/python3.11/site-packages (from aiohttp<4.0.0,>=3.8.6->llama-index-core) (1.3.1)\n",
      "Requirement already satisfied: attrs>=17.3.0 in /home/amor/Documents/code_dw/human_in_the_loop_workflow_demo/venv/lib/python3.11/site-packages (from aiohttp<4.0.0,>=3.8.6->llama-index-core) (24.2.0)\n",
      "Requirement already satisfied: frozenlist>=1.1.1 in /home/amor/Documents/code_dw/human_in_the_loop_workflow_demo/venv/lib/python3.11/site-packages (from aiohttp<4.0.0,>=3.8.6->llama-index-core) (1.5.0)\n",
      "Requirement already satisfied: multidict<7.0,>=4.5 in /home/amor/Documents/code_dw/human_in_the_loop_workflow_demo/venv/lib/python3.11/site-packages (from aiohttp<4.0.0,>=3.8.6->llama-index-core) (6.1.0)\n",
      "Requirement already satisfied: propcache>=0.2.0 in /home/amor/Documents/code_dw/human_in_the_loop_workflow_demo/venv/lib/python3.11/site-packages (from aiohttp<4.0.0,>=3.8.6->llama-index-core) (0.2.0)\n",
      "Requirement already satisfied: yarl<2.0,>=1.17.0 in /home/amor/Documents/code_dw/human_in_the_loop_workflow_demo/venv/lib/python3.11/site-packages (from aiohttp<4.0.0,>=3.8.6->llama-index-core) (1.18.0)\n",
      "Requirement already satisfied: click in /home/amor/Documents/code_dw/human_in_the_loop_workflow_demo/venv/lib/python3.11/site-packages (from nltk>3.8.1->llama-index-core) (8.1.7)\n",
      "Requirement already satisfied: joblib in /home/amor/Documents/code_dw/human_in_the_loop_workflow_demo/venv/lib/python3.11/site-packages (from nltk>3.8.1->llama-index-core) (1.4.2)\n",
      "Requirement already satisfied: regex>=2021.8.3 in /home/amor/Documents/code_dw/human_in_the_loop_workflow_demo/venv/lib/python3.11/site-packages (from nltk>3.8.1->llama-index-core) (2024.11.6)\n",
      "Requirement already satisfied: annotated-types>=0.6.0 in /home/amor/Documents/code_dw/human_in_the_loop_workflow_demo/venv/lib/python3.11/site-packages (from pydantic<2.10.0,>=2.7.0->llama-index-core) (0.7.0)\n",
      "Requirement already satisfied: pydantic-core==2.23.4 in /home/amor/Documents/code_dw/human_in_the_loop_workflow_demo/venv/lib/python3.11/site-packages (from pydantic<2.10.0,>=2.7.0->llama-index-core) (2.23.4)\n",
      "Requirement already satisfied: charset-normalizer<4,>=2 in /home/amor/Documents/code_dw/human_in_the_loop_workflow_demo/venv/lib/python3.11/site-packages (from requests>=2.31.0->llama-index-core) (3.4.0)\n",
      "Requirement already satisfied: idna<4,>=2.5 in /home/amor/Documents/code_dw/human_in_the_loop_workflow_demo/venv/lib/python3.11/site-packages (from requests>=2.31.0->llama-index-core) (3.10)\n",
      "Requirement already satisfied: urllib3<3,>=1.21.1 in /home/amor/Documents/code_dw/human_in_the_loop_workflow_demo/venv/lib/python3.11/site-packages (from requests>=2.31.0->llama-index-core) (2.2.3)\n",
      "Requirement already satisfied: certifi>=2017.4.17 in /home/amor/Documents/code_dw/human_in_the_loop_workflow_demo/venv/lib/python3.11/site-packages (from requests>=2.31.0->llama-index-core) (2024.8.30)\n",
      "Requirement already satisfied: greenlet!=0.4.17 in /home/amor/Documents/code_dw/human_in_the_loop_workflow_demo/venv/lib/python3.11/site-packages (from SQLAlchemy[asyncio]>=1.4.49->llama-index-core) (3.1.1)\n",
      "Requirement already satisfied: mypy-extensions>=0.3.0 in /home/amor/Documents/code_dw/human_in_the_loop_workflow_demo/venv/lib/python3.11/site-packages (from typing-inspect>=0.8.0->llama-index-core) (1.0.0)\n",
      "Requirement already satisfied: marshmallow<4.0.0,>=3.18.0 in /home/amor/Documents/code_dw/human_in_the_loop_workflow_demo/venv/lib/python3.11/site-packages (from dataclasses-json->llama-index-core) (3.23.1)\n",
      "Requirement already satisfied: anyio in /home/amor/Documents/code_dw/human_in_the_loop_workflow_demo/venv/lib/python3.11/site-packages (from httpx->llama-index-core) (4.6.2.post1)\n",
      "Requirement already satisfied: httpcore==1.* in /home/amor/Documents/code_dw/human_in_the_loop_workflow_demo/venv/lib/python3.11/site-packages (from httpx->llama-index-core) (1.0.7)\n",
      "Requirement already satisfied: sniffio in /home/amor/Documents/code_dw/human_in_the_loop_workflow_demo/venv/lib/python3.11/site-packages (from httpx->llama-index-core) (1.3.1)\n",
      "Requirement already satisfied: h11<0.15,>=0.13 in /home/amor/Documents/code_dw/human_in_the_loop_workflow_demo/venv/lib/python3.11/site-packages (from httpcore==1.*->httpx->llama-index-core) (0.14.0)\n",
      "Requirement already satisfied: packaging>=17.0 in /home/amor/Documents/code_dw/human_in_the_loop_workflow_demo/venv/lib/python3.11/site-packages (from marshmallow<4.0.0,>=3.18.0->dataclasses-json->llama-index-core) (24.2)\n",
      "\n",
      "\u001b[1m[\u001b[0m\u001b[34;49mnotice\u001b[0m\u001b[1;39;49m]\u001b[0m\u001b[39;49m A new release of pip is available: \u001b[0m\u001b[31;49m23.2.1\u001b[0m\u001b[39;49m -> \u001b[0m\u001b[32;49m24.3.1\u001b[0m\n",
      "\u001b[1m[\u001b[0m\u001b[34;49mnotice\u001b[0m\u001b[1;39;49m]\u001b[0m\u001b[39;49m To update, run: \u001b[0m\u001b[32;49mpip install --upgrade pip\u001b[0m\n"
     ]
    }
   ],
   "source": [
    "!pip install llama_index\n",
    "!pip install llama-index-utils-workflow\n",
    "!pip install llama-index-core"
   ]
  },
  {
   "cell_type": "markdown",
   "id": "ac2e0b18-72e1-4ac7-be4e-a4d7131e9721",
   "metadata": {},
   "source": [
    "## Setting up calls to OpenAI"
   ]
  },
  {
   "cell_type": "code",
   "execution_count": 26,
   "id": "f4edb8e8-0a5b-4624-9a8c-907fa2b32863",
   "metadata": {},
   "outputs": [
    {
     "name": "stdout",
     "output_type": "stream",
     "text": [
      "/home/amor/Documents/code_dw/human_in_the_loop_workflow_demo/venv/bin/python3.11\n"
     ]
    }
   ],
   "source": [
    "import sys\n",
    "import os \n",
    "import nest_asyncio\n",
    "\n",
    "# Sanity check\n",
    "print(sys.executable)\n",
    "nest_asyncio.apply()\n",
    "\n",
    "os.environ[\"OPENAI_API_KEY\"] = \"sk-\"\n",
    "#os.environ[\n",
    "#    \"AZURE_OPENAI_ENDPOINT\"\n",
    "#] = \"https://<your-resource-name>.openai.azure.com/\"\n",
    "#os.environ[\"OPENAI_API_VERSION\"] = \"2023-07-01-preview\""
   ]
  },
  {
   "cell_type": "code",
   "execution_count": 4,
   "id": "b6b2cfa1-d14b-4746-83c7-82dc6ee8143c",
   "metadata": {},
   "outputs": [
    {
     "name": "stdout",
     "output_type": "stream",
     "text": [
      "a computer scientist, entrepreneur, and venture capitalist. He is best known for co-founding the startup accelerator Y Combinator and for his work on programming languages and web development. Graham is also a prolific writer and has published several influential essays on technology, startups, and entrepreneurship.\n"
     ]
    }
   ],
   "source": [
    "from llama_index.llms.openai import OpenAI\n",
    "\n",
    "response = OpenAI().complete(\"Paul Graham is \")\n",
    "print(response)"
   ]
  },
  {
   "cell_type": "code",
   "execution_count": null,
   "id": "df98aff9-194c-4baf-b82d-361a65b49ca0",
   "metadata": {},
   "outputs": [],
   "source": []
  },
  {
   "cell_type": "code",
   "execution_count": null,
   "id": "bdfa0921-e08b-40b1-9688-0c989cb2e338",
   "metadata": {},
   "outputs": [],
   "source": []
  },
  {
   "cell_type": "markdown",
   "id": "8dab28cf-101d-4d48-a6c3-46a5f68cba7e",
   "metadata": {},
   "source": [
    "## Your first Workflow"
   ]
  },
  {
   "cell_type": "code",
   "execution_count": 21,
   "id": "235d0994-8f38-4eb1-b1ef-3fa90538fc2c",
   "metadata": {},
   "outputs": [],
   "source": [
    "from llama_index.core.workflow import (\n",
    "    Workflow,\n",
    "    step,\n",
    "    Event,\n",
    "    Context,\n",
    "StartEvent, StopEvent\n",
    ")\n",
    "\n",
    "llm = OpenAI(temperature=0.2, model=\"gpt-4o-mini\")\n",
    "\n",
    "\n",
    "class MyWorkflow(Workflow):\n",
    "\n",
    "    @step\n",
    "    async def do_it(self, ev: StartEvent) -> StopEvent:\n",
    "        return StopEvent(result=\"coucou\")\n",
    "        \n",
    "\n"
   ]
  },
  {
   "cell_type": "code",
   "execution_count": 22,
   "id": "e36a7895-a9bb-4fe0-b3e3-69db4d7f8d62",
   "metadata": {},
   "outputs": [
    {
     "name": "stdout",
     "output_type": "stream",
     "text": [
      "<class 'NoneType'>\n",
      "<class 'llama_index.core.workflow.events.StopEvent'>\n",
      "basic_workflow.html\n"
     ]
    }
   ],
   "source": [
    "from llama_index.utils.workflow import draw_all_possible_flows\n",
    "\n",
    "draw_all_possible_flows(MyWorkflow, filename=\"basic_workflow.html\")"
   ]
  },
  {
   "cell_type": "code",
   "execution_count": 23,
   "id": "fa6fb2c9-1554-4f93-a0bd-8ad862163f92",
   "metadata": {},
   "outputs": [],
   "source": [
    "w = MyWorkflow()\n",
    "\n",
    "r = await w.run()"
   ]
  },
  {
   "cell_type": "code",
   "execution_count": 24,
   "id": "9fc7115f-5cc5-4101-adbf-af057ec8692f",
   "metadata": {},
   "outputs": [
    {
     "data": {
      "text/plain": [
       "'coucou'"
      ]
     },
     "execution_count": 24,
     "metadata": {},
     "output_type": "execute_result"
    }
   ],
   "source": [
    "r"
   ]
  },
  {
   "cell_type": "code",
   "execution_count": null,
   "id": "eff3d0bc-1754-4900-9a9d-4849b755d444",
   "metadata": {},
   "outputs": [],
   "source": []
  },
  {
   "cell_type": "markdown",
   "id": "98053d27-4fb3-4baf-8c02-e238b189e5eb",
   "metadata": {},
   "source": [
    "## Exercise : \n",
    "\n",
    "### Make a workflow that answers the query of a user\n",
    "\n",
    "User : What is an Ipod\n",
    "\n",
    "```python\n",
    "w = MyCustomWorkflow()\n",
    "result = await w.run()\n",
    "print(result)\n",
    "```\n",
    "\"An ipod is ....\"\n"
   ]
  },
  {
   "cell_type": "code",
   "execution_count": null,
   "id": "226899f6-8590-4471-976d-d7bf4a034c0e",
   "metadata": {},
   "outputs": [],
   "source": [
    "\n",
    "llm = OpenAI(temperature=0.2, model=\"gpt-4o-mini\")\n",
    "\n",
    "\n",
    "\n",
    "class MyCustomWorkflow(Workflow):\n",
    "\n",
    "    @step\n",
    "    async def answer(self, ev: StartEvent) -> StopEvent:\n",
    "        pass\n",
    "        \n",
    "\n"
   ]
  },
  {
   "cell_type": "code",
   "execution_count": null,
   "id": "30a4f1b1-0d3a-457a-b50d-3f146dc3956c",
   "metadata": {},
   "outputs": [],
   "source": [
    "user_query = \"What is an Ipod\"\n",
    "\n",
    "w = MyCustomWorkflow()\n",
    "result = await w.run()\n",
    "print(result)"
   ]
  },
  {
   "cell_type": "code",
   "execution_count": null,
   "id": "be9b26e4-4fd9-4c2f-b997-b020df0318cb",
   "metadata": {},
   "outputs": [],
   "source": []
  },
  {
   "cell_type": "code",
   "execution_count": null,
   "id": "0a3d315b-7b1e-43a5-9e2d-bc94bc6e6746",
   "metadata": {},
   "outputs": [],
   "source": []
  },
  {
   "cell_type": "code",
   "execution_count": null,
   "id": "64d35571-55c8-4969-9545-97a0d5f7a963",
   "metadata": {},
   "outputs": [],
   "source": []
  },
  {
   "cell_type": "markdown",
   "id": "9fce5af8-2271-4262-988c-fd58ed68ba34",
   "metadata": {},
   "source": [
    "### A more complex worflow\n",
    "\n",
    "Answer in two steps : \n",
    "- Find the answer of the question\n",
    "- Transform it into a poem\n"
   ]
  },
  {
   "cell_type": "code",
   "execution_count": null,
   "id": "57e5f7d6-4556-4a54-829d-609fc4831015",
   "metadata": {},
   "outputs": [],
   "source": [
    "\n",
    "llm = OpenAI(temperature=0.2, model=\"gpt-4o-mini\")\n",
    "\n",
    "\n",
    "\n",
    "class MyNewWorkflow(Workflow):\n",
    "\n",
    "    @step\n",
    "    async def step_a(self, ev: StartEvent) -> None:\n",
    "        pass\n",
    "\n",
    "\n",
    "    @step\n",
    "    async def step_b(self, ev: None) -> StopEvent:\n",
    "        pass\n",
    "        \n",
    "        \n",
    "\n"
   ]
  },
  {
   "cell_type": "code",
   "execution_count": null,
   "id": "1e6dbd81-dddf-47f5-a1b8-5aad987b8262",
   "metadata": {},
   "outputs": [],
   "source": [
    "user_query = \"What is an Ipod\"\n",
    "\n",
    "w = MyNewWorkflow()\n",
    "result = await w.run()\n",
    "print(result)"
   ]
  },
  {
   "cell_type": "code",
   "execution_count": null,
   "id": "8d6a93dd-1760-4c96-9791-3b4d9c3732b9",
   "metadata": {},
   "outputs": [],
   "source": []
  }
 ],
 "metadata": {
  "kernelspec": {
   "display_name": "Python 3 (ipykernel)",
   "language": "python",
   "name": "python3"
  },
  "language_info": {
   "codemirror_mode": {
    "name": "ipython",
    "version": 3
   },
   "file_extension": ".py",
   "mimetype": "text/x-python",
   "name": "python",
   "nbconvert_exporter": "python",
   "pygments_lexer": "ipython3",
   "version": "3.11.7"
  }
 },
 "nbformat": 4,
 "nbformat_minor": 5
}
