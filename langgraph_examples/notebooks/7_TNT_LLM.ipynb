{
 "cells": [
  {
   "cell_type": "markdown",
   "id": "d46416f6-a4c7-4ce1-918e-ed959d69a961",
   "metadata": {},
   "source": [
    "# TNT LLM - Text mining at scale\n",
    "\n",
    "In this notebook, we propose to review step by step the code proposed in this [documentation article](https://langchain-ai.github.io/langgraph/tutorials/tnt-llm/tnt-llm/#3a-taxonomy-generation-utilities)\n",
    "\n",
    "The LLM worklfow is composed of several step in order to build a **taxonomy** from a base of unlabeled free-text.\n",
    "    \n",
    "\n"
   ]
  },
  {
   "cell_type": "code",
   "execution_count": null,
   "id": "92930041-9f50-4b5b-80d3-0cb74f2f6c91",
   "metadata": {},
   "outputs": [],
   "source": []
  },
  {
   "cell_type": "code",
   "execution_count": null,
   "id": "0171c11a-b1d7-41c5-94b6-ab7d92401a8d",
   "metadata": {},
   "outputs": [],
   "source": []
  },
  {
   "cell_type": "code",
   "execution_count": 1,
   "id": "7eef083b-939f-4485-9c83-c57b203ac125",
   "metadata": {},
   "outputs": [],
   "source": [
    "# Prepare requirements "
   ]
  },
  {
   "cell_type": "code",
   "execution_count": 2,
   "id": "f31a6c0d-118d-4815-8f3d-93407aa1e27f",
   "metadata": {},
   "outputs": [
    {
     "name": "stdout",
     "output_type": "stream",
     "text": [
      "Requirement already satisfied: langgraph in /home/amor/anaconda3/lib/python3.11/site-packages (0.2.59)\n",
      "Requirement already satisfied: langchain_anthropic in /home/amor/anaconda3/lib/python3.11/site-packages (0.3.0)\n",
      "Requirement already satisfied: langsmith in /home/amor/anaconda3/lib/python3.11/site-packages (0.2.3)\n",
      "Requirement already satisfied: langchain-community in /home/amor/anaconda3/lib/python3.11/site-packages (0.3.12)\n",
      "Requirement already satisfied: langchain-core!=0.3.0,!=0.3.1,!=0.3.10,!=0.3.11,!=0.3.12,!=0.3.13,!=0.3.14,!=0.3.15,!=0.3.16,!=0.3.17,!=0.3.18,!=0.3.19,!=0.3.2,!=0.3.20,!=0.3.21,!=0.3.22,!=0.3.3,!=0.3.4,!=0.3.5,!=0.3.6,!=0.3.7,!=0.3.8,!=0.3.9,<0.4.0,>=0.2.43 in /home/amor/anaconda3/lib/python3.11/site-packages (from langgraph) (0.3.25)\n",
      "Requirement already satisfied: langgraph-checkpoint<3.0.0,>=2.0.4 in /home/amor/anaconda3/lib/python3.11/site-packages (from langgraph) (2.0.5)\n",
      "Requirement already satisfied: langgraph-sdk<0.2.0,>=0.1.42 in /home/amor/anaconda3/lib/python3.11/site-packages (from langgraph) (0.1.45)\n",
      "Requirement already satisfied: anthropic<1,>=0.39.0 in /home/amor/anaconda3/lib/python3.11/site-packages (from langchain_anthropic) (0.40.0)\n",
      "Requirement already satisfied: defusedxml<0.8.0,>=0.7.1 in /home/amor/anaconda3/lib/python3.11/site-packages (from langchain_anthropic) (0.7.1)\n",
      "Requirement already satisfied: pydantic<3.0.0,>=2.7.4 in /home/amor/anaconda3/lib/python3.11/site-packages (from langchain_anthropic) (2.10.1)\n",
      "Requirement already satisfied: httpx<1,>=0.23.0 in /home/amor/anaconda3/lib/python3.11/site-packages (from langsmith) (0.27.2)\n",
      "Requirement already satisfied: orjson<4.0.0,>=3.9.14 in /home/amor/anaconda3/lib/python3.11/site-packages (from langsmith) (3.10.11)\n",
      "Requirement already satisfied: requests<3,>=2 in /home/amor/anaconda3/lib/python3.11/site-packages (from langsmith) (2.32.3)\n",
      "Requirement already satisfied: requests-toolbelt<2.0.0,>=1.0.0 in /home/amor/anaconda3/lib/python3.11/site-packages (from langsmith) (1.0.0)\n",
      "Requirement already satisfied: PyYAML>=5.3 in /home/amor/anaconda3/lib/python3.11/site-packages (from langchain-community) (6.0.2)\n",
      "Requirement already satisfied: SQLAlchemy<3,>=1.4 in /home/amor/anaconda3/lib/python3.11/site-packages (from langchain-community) (2.0.25)\n",
      "Requirement already satisfied: aiohttp<4.0.0,>=3.8.3 in /home/amor/anaconda3/lib/python3.11/site-packages (from langchain-community) (3.9.3)\n",
      "Requirement already satisfied: dataclasses-json<0.7,>=0.5.7 in /home/amor/anaconda3/lib/python3.11/site-packages (from langchain-community) (0.6.7)\n",
      "Requirement already satisfied: httpx-sse<0.5.0,>=0.4.0 in /home/amor/anaconda3/lib/python3.11/site-packages (from langchain-community) (0.4.0)\n",
      "Requirement already satisfied: langchain<0.4.0,>=0.3.12 in /home/amor/anaconda3/lib/python3.11/site-packages (from langchain-community) (0.3.12)\n",
      "Requirement already satisfied: numpy<2,>=1.22.4 in /home/amor/anaconda3/lib/python3.11/site-packages (from langchain-community) (1.26.4)\n",
      "Requirement already satisfied: pydantic-settings<3.0.0,>=2.4.0 in /home/amor/anaconda3/lib/python3.11/site-packages (from langchain-community) (2.6.1)\n",
      "Requirement already satisfied: tenacity!=8.4.0,<10,>=8.1.0 in /home/amor/anaconda3/lib/python3.11/site-packages (from langchain-community) (8.5.0)\n",
      "Requirement already satisfied: aiosignal>=1.1.2 in /home/amor/anaconda3/lib/python3.11/site-packages (from aiohttp<4.0.0,>=3.8.3->langchain-community) (1.2.0)\n",
      "Requirement already satisfied: attrs>=17.3.0 in /home/amor/anaconda3/lib/python3.11/site-packages (from aiohttp<4.0.0,>=3.8.3->langchain-community) (23.1.0)\n",
      "Requirement already satisfied: frozenlist>=1.1.1 in /home/amor/anaconda3/lib/python3.11/site-packages (from aiohttp<4.0.0,>=3.8.3->langchain-community) (1.4.0)\n",
      "Requirement already satisfied: multidict<7.0,>=4.5 in /home/amor/anaconda3/lib/python3.11/site-packages (from aiohttp<4.0.0,>=3.8.3->langchain-community) (6.0.4)\n",
      "Requirement already satisfied: yarl<2.0,>=1.0 in /home/amor/anaconda3/lib/python3.11/site-packages (from aiohttp<4.0.0,>=3.8.3->langchain-community) (1.9.3)\n",
      "Requirement already satisfied: anyio<5,>=3.5.0 in /home/amor/anaconda3/lib/python3.11/site-packages (from anthropic<1,>=0.39.0->langchain_anthropic) (4.6.2.post1)\n",
      "Requirement already satisfied: distro<2,>=1.7.0 in /home/amor/anaconda3/lib/python3.11/site-packages (from anthropic<1,>=0.39.0->langchain_anthropic) (1.8.0)\n",
      "Requirement already satisfied: jiter<1,>=0.4.0 in /home/amor/anaconda3/lib/python3.11/site-packages (from anthropic<1,>=0.39.0->langchain_anthropic) (0.7.1)\n",
      "Requirement already satisfied: sniffio in /home/amor/anaconda3/lib/python3.11/site-packages (from anthropic<1,>=0.39.0->langchain_anthropic) (1.3.0)\n",
      "Requirement already satisfied: typing-extensions<5,>=4.7 in /home/amor/anaconda3/lib/python3.11/site-packages (from anthropic<1,>=0.39.0->langchain_anthropic) (4.12.2)\n",
      "Requirement already satisfied: marshmallow<4.0.0,>=3.18.0 in /home/amor/anaconda3/lib/python3.11/site-packages (from dataclasses-json<0.7,>=0.5.7->langchain-community) (3.23.1)\n",
      "Requirement already satisfied: typing-inspect<1,>=0.4.0 in /home/amor/anaconda3/lib/python3.11/site-packages (from dataclasses-json<0.7,>=0.5.7->langchain-community) (0.9.0)\n",
      "Requirement already satisfied: certifi in /home/amor/anaconda3/lib/python3.11/site-packages (from httpx<1,>=0.23.0->langsmith) (2024.2.2)\n",
      "Requirement already satisfied: httpcore==1.* in /home/amor/anaconda3/lib/python3.11/site-packages (from httpx<1,>=0.23.0->langsmith) (1.0.7)\n",
      "Requirement already satisfied: idna in /home/amor/anaconda3/lib/python3.11/site-packages (from httpx<1,>=0.23.0->langsmith) (3.10)\n",
      "Requirement already satisfied: h11<0.15,>=0.13 in /home/amor/anaconda3/lib/python3.11/site-packages (from httpcore==1.*->httpx<1,>=0.23.0->langsmith) (0.14.0)\n",
      "Requirement already satisfied: langchain-text-splitters<0.4.0,>=0.3.3 in /home/amor/anaconda3/lib/python3.11/site-packages (from langchain<0.4.0,>=0.3.12->langchain-community) (0.3.3)\n",
      "Requirement already satisfied: jsonpatch<2.0,>=1.33 in /home/amor/anaconda3/lib/python3.11/site-packages (from langchain-core!=0.3.0,!=0.3.1,!=0.3.10,!=0.3.11,!=0.3.12,!=0.3.13,!=0.3.14,!=0.3.15,!=0.3.16,!=0.3.17,!=0.3.18,!=0.3.19,!=0.3.2,!=0.3.20,!=0.3.21,!=0.3.22,!=0.3.3,!=0.3.4,!=0.3.5,!=0.3.6,!=0.3.7,!=0.3.8,!=0.3.9,<0.4.0,>=0.2.43->langgraph) (1.33)\n",
      "Requirement already satisfied: packaging<25,>=23.2 in /home/amor/anaconda3/lib/python3.11/site-packages (from langchain-core!=0.3.0,!=0.3.1,!=0.3.10,!=0.3.11,!=0.3.12,!=0.3.13,!=0.3.14,!=0.3.15,!=0.3.16,!=0.3.17,!=0.3.18,!=0.3.19,!=0.3.2,!=0.3.20,!=0.3.21,!=0.3.22,!=0.3.3,!=0.3.4,!=0.3.5,!=0.3.6,!=0.3.7,!=0.3.8,!=0.3.9,<0.4.0,>=0.2.43->langgraph) (24.2)\n",
      "Requirement already satisfied: msgpack<2.0.0,>=1.1.0 in /home/amor/anaconda3/lib/python3.11/site-packages (from langgraph-checkpoint<3.0.0,>=2.0.4->langgraph) (1.1.0)\n",
      "Requirement already satisfied: annotated-types>=0.6.0 in /home/amor/anaconda3/lib/python3.11/site-packages (from pydantic<3.0.0,>=2.7.4->langchain_anthropic) (0.7.0)\n",
      "Requirement already satisfied: pydantic-core==2.27.1 in /home/amor/anaconda3/lib/python3.11/site-packages (from pydantic<3.0.0,>=2.7.4->langchain_anthropic) (2.27.1)\n",
      "Requirement already satisfied: python-dotenv>=0.21.0 in /home/amor/anaconda3/lib/python3.11/site-packages (from pydantic-settings<3.0.0,>=2.4.0->langchain-community) (0.21.0)\n",
      "Requirement already satisfied: charset-normalizer<4,>=2 in /home/amor/anaconda3/lib/python3.11/site-packages (from requests<3,>=2->langsmith) (2.0.4)\n",
      "Requirement already satisfied: urllib3<3,>=1.21.1 in /home/amor/anaconda3/lib/python3.11/site-packages (from requests<3,>=2->langsmith) (2.0.7)\n",
      "Requirement already satisfied: greenlet!=0.4.17 in /home/amor/anaconda3/lib/python3.11/site-packages (from SQLAlchemy<3,>=1.4->langchain-community) (3.0.1)\n",
      "Requirement already satisfied: jsonpointer>=1.9 in /home/amor/anaconda3/lib/python3.11/site-packages (from jsonpatch<2.0,>=1.33->langchain-core!=0.3.0,!=0.3.1,!=0.3.10,!=0.3.11,!=0.3.12,!=0.3.13,!=0.3.14,!=0.3.15,!=0.3.16,!=0.3.17,!=0.3.18,!=0.3.19,!=0.3.2,!=0.3.20,!=0.3.21,!=0.3.22,!=0.3.3,!=0.3.4,!=0.3.5,!=0.3.6,!=0.3.7,!=0.3.8,!=0.3.9,<0.4.0,>=0.2.43->langgraph) (2.1)\n",
      "Requirement already satisfied: mypy-extensions>=0.3.0 in /home/amor/anaconda3/lib/python3.11/site-packages (from typing-inspect<1,>=0.4.0->dataclasses-json<0.7,>=0.5.7->langchain-community) (1.0.0)\n",
      "Note: you may need to restart the kernel to use updated packages.\n",
      "Collecting sklearn\n",
      "  Using cached sklearn-0.0.post12.tar.gz (2.6 kB)\n",
      "  Preparing metadata (setup.py) ... \u001b[?25lerror\n",
      "  \u001b[1;31merror\u001b[0m: \u001b[1msubprocess-exited-with-error\u001b[0m\n",
      "  \n",
      "  \u001b[31m×\u001b[0m \u001b[32mpython setup.py egg_info\u001b[0m did not run successfully.\n",
      "  \u001b[31m│\u001b[0m exit code: \u001b[1;36m1\u001b[0m\n",
      "  \u001b[31m╰─>\u001b[0m \u001b[31m[15 lines of output]\u001b[0m\n",
      "  \u001b[31m   \u001b[0m The 'sklearn' PyPI package is deprecated, use 'scikit-learn'\n",
      "  \u001b[31m   \u001b[0m rather than 'sklearn' for pip commands.\n",
      "  \u001b[31m   \u001b[0m \n",
      "  \u001b[31m   \u001b[0m Here is how to fix this error in the main use cases:\n",
      "  \u001b[31m   \u001b[0m - use 'pip install scikit-learn' rather than 'pip install sklearn'\n",
      "  \u001b[31m   \u001b[0m - replace 'sklearn' by 'scikit-learn' in your pip requirements files\n",
      "  \u001b[31m   \u001b[0m   (requirements.txt, setup.py, setup.cfg, Pipfile, etc ...)\n",
      "  \u001b[31m   \u001b[0m - if the 'sklearn' package is used by one of your dependencies,\n",
      "  \u001b[31m   \u001b[0m   it would be great if you take some time to track which package uses\n",
      "  \u001b[31m   \u001b[0m   'sklearn' instead of 'scikit-learn' and report it to their issue tracker\n",
      "  \u001b[31m   \u001b[0m - as a last resort, set the environment variable\n",
      "  \u001b[31m   \u001b[0m   SKLEARN_ALLOW_DEPRECATED_SKLEARN_PACKAGE_INSTALL=True to avoid this error\n",
      "  \u001b[31m   \u001b[0m \n",
      "  \u001b[31m   \u001b[0m More information is available at\n",
      "  \u001b[31m   \u001b[0m https://github.com/scikit-learn/sklearn-pypi-package\n",
      "  \u001b[31m   \u001b[0m \u001b[31m[end of output]\u001b[0m\n",
      "  \n",
      "  \u001b[1;35mnote\u001b[0m: This error originates from a subprocess, and is likely not a problem with pip.\n",
      "\u001b[1;31merror\u001b[0m: \u001b[1mmetadata-generation-failed\u001b[0m\n",
      "\n",
      "\u001b[31m×\u001b[0m Encountered error while generating package metadata.\n",
      "\u001b[31m╰─>\u001b[0m See above for output.\n",
      "\n",
      "\u001b[1;35mnote\u001b[0m: This is an issue with the package mentioned above, not pip.\n",
      "\u001b[1;36mhint\u001b[0m: See above for details.\n",
      "\u001b[?25hNote: you may need to restart the kernel to use updated packages.\n"
     ]
    }
   ],
   "source": [
    "%pip install -U langgraph langchain_anthropic langsmith langchain-community\n",
    "%pip install -U sklearn langchain_openai pandas"
   ]
  },
  {
   "cell_type": "code",
   "execution_count": 3,
   "id": "344297a3-af46-4a1d-af6b-e6d17b127eba",
   "metadata": {},
   "outputs": [],
   "source": [
    "import logging\n",
    "import operator\n",
    "from typing import Annotated, List, Optional\n",
    "from typing_extensions import TypedDict\n",
    "\n",
    "logging.basicConfig(level=logging.WARNING)\n",
    "logger = logging.getLogger(\"tnt-llm\")\n",
    "\n",
    "\n",
    "class Doc(TypedDict):\n",
    "    id: str\n",
    "    content: str\n",
    "    summary: Optional[str]\n",
    "    explanation: Optional[str]\n",
    "    category: Optional[str]\n",
    "\n",
    "\n",
    "class TaxonomyGenerationState(TypedDict):\n",
    "    # The raw docs; we inject summaries within them in the first step\n",
    "    documents: List[Doc]\n",
    "    # Indices to be concise\n",
    "    minibatches: List[List[int]]\n",
    "    # Candidate Taxonomies (full trajectory)\n",
    "    clusters: Annotated[List[List[dict]], operator.add]"
   ]
  },
  {
   "cell_type": "code",
   "execution_count": 4,
   "id": "4188c83b-48bb-4567-a2f4-0270805e8507",
   "metadata": {},
   "outputs": [],
   "source": [
    "import os\n",
    "os.environ[\"ANTHROPIC_API_KEY\"] = \"sk-ant-api\""
   ]
  },
  {
   "cell_type": "code",
   "execution_count": 5,
   "id": "bb27a6e2-80bd-4cbc-833d-a114ad8838ac",
   "metadata": {},
   "outputs": [],
   "source": [
    "MODEL_NAME = \"claude-3-5-haiku-20241022\""
   ]
  },
  {
   "cell_type": "markdown",
   "id": "59180979-9cf1-4be7-bc0d-d64ac85615e8",
   "metadata": {},
   "source": [
    "## Step 0 - Dataset to experiment with [Amazon food reviews](https://www.kaggle.com/datasets/snap/amazon-fine-food-reviews)"
   ]
  },
  {
   "cell_type": "code",
   "execution_count": 6,
   "id": "a73933ec-143b-4363-aa4b-8be082e9be80",
   "metadata": {},
   "outputs": [
    {
     "data": {
      "text/html": [
       "<div>\n",
       "<style scoped>\n",
       "    .dataframe tbody tr th:only-of-type {\n",
       "        vertical-align: middle;\n",
       "    }\n",
       "\n",
       "    .dataframe tbody tr th {\n",
       "        vertical-align: top;\n",
       "    }\n",
       "\n",
       "    .dataframe thead th {\n",
       "        text-align: right;\n",
       "    }\n",
       "</style>\n",
       "<table border=\"1\" class=\"dataframe\">\n",
       "  <thead>\n",
       "    <tr style=\"text-align: right;\">\n",
       "      <th></th>\n",
       "      <th>Id</th>\n",
       "      <th>ProductId</th>\n",
       "      <th>UserId</th>\n",
       "      <th>ProfileName</th>\n",
       "      <th>HelpfulnessNumerator</th>\n",
       "      <th>HelpfulnessDenominator</th>\n",
       "      <th>Score</th>\n",
       "      <th>Time</th>\n",
       "      <th>Summary</th>\n",
       "      <th>Text</th>\n",
       "    </tr>\n",
       "  </thead>\n",
       "  <tbody>\n",
       "    <tr>\n",
       "      <th>0</th>\n",
       "      <td>1</td>\n",
       "      <td>B001E4KFG0</td>\n",
       "      <td>A3SGXH7AUHU8GW</td>\n",
       "      <td>delmartian</td>\n",
       "      <td>1</td>\n",
       "      <td>1</td>\n",
       "      <td>5</td>\n",
       "      <td>1303862400</td>\n",
       "      <td>Good Quality Dog Food</td>\n",
       "      <td>I have bought several of the Vitality canned d...</td>\n",
       "    </tr>\n",
       "    <tr>\n",
       "      <th>1</th>\n",
       "      <td>2</td>\n",
       "      <td>B00813GRG4</td>\n",
       "      <td>A1D87F6ZCVE5NK</td>\n",
       "      <td>dll pa</td>\n",
       "      <td>0</td>\n",
       "      <td>0</td>\n",
       "      <td>1</td>\n",
       "      <td>1346976000</td>\n",
       "      <td>Not as Advertised</td>\n",
       "      <td>Product arrived labeled as Jumbo Salted Peanut...</td>\n",
       "    </tr>\n",
       "    <tr>\n",
       "      <th>2</th>\n",
       "      <td>3</td>\n",
       "      <td>B000LQOCH0</td>\n",
       "      <td>ABXLMWJIXXAIN</td>\n",
       "      <td>Natalia Corres \"Natalia Corres\"</td>\n",
       "      <td>1</td>\n",
       "      <td>1</td>\n",
       "      <td>4</td>\n",
       "      <td>1219017600</td>\n",
       "      <td>\"Delight\" says it all</td>\n",
       "      <td>This is a confection that has been around a fe...</td>\n",
       "    </tr>\n",
       "    <tr>\n",
       "      <th>3</th>\n",
       "      <td>4</td>\n",
       "      <td>B000UA0QIQ</td>\n",
       "      <td>A395BORC6FGVXV</td>\n",
       "      <td>Karl</td>\n",
       "      <td>3</td>\n",
       "      <td>3</td>\n",
       "      <td>2</td>\n",
       "      <td>1307923200</td>\n",
       "      <td>Cough Medicine</td>\n",
       "      <td>If you are looking for the secret ingredient i...</td>\n",
       "    </tr>\n",
       "    <tr>\n",
       "      <th>4</th>\n",
       "      <td>5</td>\n",
       "      <td>B006K2ZZ7K</td>\n",
       "      <td>A1UQRSCLF8GW1T</td>\n",
       "      <td>Michael D. Bigham \"M. Wassir\"</td>\n",
       "      <td>0</td>\n",
       "      <td>0</td>\n",
       "      <td>5</td>\n",
       "      <td>1350777600</td>\n",
       "      <td>Great taffy</td>\n",
       "      <td>Great taffy at a great price.  There was a wid...</td>\n",
       "    </tr>\n",
       "    <tr>\n",
       "      <th>...</th>\n",
       "      <td>...</td>\n",
       "      <td>...</td>\n",
       "      <td>...</td>\n",
       "      <td>...</td>\n",
       "      <td>...</td>\n",
       "      <td>...</td>\n",
       "      <td>...</td>\n",
       "      <td>...</td>\n",
       "      <td>...</td>\n",
       "      <td>...</td>\n",
       "    </tr>\n",
       "    <tr>\n",
       "      <th>568449</th>\n",
       "      <td>568450</td>\n",
       "      <td>B001EO7N10</td>\n",
       "      <td>A28KG5XORO54AY</td>\n",
       "      <td>Lettie D. Carter</td>\n",
       "      <td>0</td>\n",
       "      <td>0</td>\n",
       "      <td>5</td>\n",
       "      <td>1299628800</td>\n",
       "      <td>Will not do without</td>\n",
       "      <td>Great for sesame chicken..this is a good if no...</td>\n",
       "    </tr>\n",
       "    <tr>\n",
       "      <th>568450</th>\n",
       "      <td>568451</td>\n",
       "      <td>B003S1WTCU</td>\n",
       "      <td>A3I8AFVPEE8KI5</td>\n",
       "      <td>R. Sawyer</td>\n",
       "      <td>0</td>\n",
       "      <td>0</td>\n",
       "      <td>2</td>\n",
       "      <td>1331251200</td>\n",
       "      <td>disappointed</td>\n",
       "      <td>I'm disappointed with the flavor. The chocolat...</td>\n",
       "    </tr>\n",
       "    <tr>\n",
       "      <th>568451</th>\n",
       "      <td>568452</td>\n",
       "      <td>B004I613EE</td>\n",
       "      <td>A121AA1GQV751Z</td>\n",
       "      <td>pksd \"pk_007\"</td>\n",
       "      <td>2</td>\n",
       "      <td>2</td>\n",
       "      <td>5</td>\n",
       "      <td>1329782400</td>\n",
       "      <td>Perfect for our maltipoo</td>\n",
       "      <td>These stars are small, so you can give 10-15 o...</td>\n",
       "    </tr>\n",
       "    <tr>\n",
       "      <th>568452</th>\n",
       "      <td>568453</td>\n",
       "      <td>B004I613EE</td>\n",
       "      <td>A3IBEVCTXKNOH</td>\n",
       "      <td>Kathy A. Welch \"katwel\"</td>\n",
       "      <td>1</td>\n",
       "      <td>1</td>\n",
       "      <td>5</td>\n",
       "      <td>1331596800</td>\n",
       "      <td>Favorite Training and reward treat</td>\n",
       "      <td>These are the BEST treats for training and rew...</td>\n",
       "    </tr>\n",
       "    <tr>\n",
       "      <th>568453</th>\n",
       "      <td>568454</td>\n",
       "      <td>B001LR2CU2</td>\n",
       "      <td>A3LGQPJCZVL9UC</td>\n",
       "      <td>srfell17</td>\n",
       "      <td>0</td>\n",
       "      <td>0</td>\n",
       "      <td>5</td>\n",
       "      <td>1338422400</td>\n",
       "      <td>Great Honey</td>\n",
       "      <td>I am very satisfied ,product is as advertised,...</td>\n",
       "    </tr>\n",
       "  </tbody>\n",
       "</table>\n",
       "<p>568454 rows × 10 columns</p>\n",
       "</div>"
      ],
      "text/plain": [
       "            Id   ProductId          UserId                      ProfileName  \\\n",
       "0            1  B001E4KFG0  A3SGXH7AUHU8GW                       delmartian   \n",
       "1            2  B00813GRG4  A1D87F6ZCVE5NK                           dll pa   \n",
       "2            3  B000LQOCH0   ABXLMWJIXXAIN  Natalia Corres \"Natalia Corres\"   \n",
       "3            4  B000UA0QIQ  A395BORC6FGVXV                             Karl   \n",
       "4            5  B006K2ZZ7K  A1UQRSCLF8GW1T    Michael D. Bigham \"M. Wassir\"   \n",
       "...        ...         ...             ...                              ...   \n",
       "568449  568450  B001EO7N10  A28KG5XORO54AY                 Lettie D. Carter   \n",
       "568450  568451  B003S1WTCU  A3I8AFVPEE8KI5                        R. Sawyer   \n",
       "568451  568452  B004I613EE  A121AA1GQV751Z                    pksd \"pk_007\"   \n",
       "568452  568453  B004I613EE   A3IBEVCTXKNOH          Kathy A. Welch \"katwel\"   \n",
       "568453  568454  B001LR2CU2  A3LGQPJCZVL9UC                         srfell17   \n",
       "\n",
       "        HelpfulnessNumerator  HelpfulnessDenominator  Score        Time  \\\n",
       "0                          1                       1      5  1303862400   \n",
       "1                          0                       0      1  1346976000   \n",
       "2                          1                       1      4  1219017600   \n",
       "3                          3                       3      2  1307923200   \n",
       "4                          0                       0      5  1350777600   \n",
       "...                      ...                     ...    ...         ...   \n",
       "568449                     0                       0      5  1299628800   \n",
       "568450                     0                       0      2  1331251200   \n",
       "568451                     2                       2      5  1329782400   \n",
       "568452                     1                       1      5  1331596800   \n",
       "568453                     0                       0      5  1338422400   \n",
       "\n",
       "                                   Summary  \\\n",
       "0                    Good Quality Dog Food   \n",
       "1                        Not as Advertised   \n",
       "2                    \"Delight\" says it all   \n",
       "3                           Cough Medicine   \n",
       "4                              Great taffy   \n",
       "...                                    ...   \n",
       "568449                 Will not do without   \n",
       "568450                        disappointed   \n",
       "568451            Perfect for our maltipoo   \n",
       "568452  Favorite Training and reward treat   \n",
       "568453                         Great Honey   \n",
       "\n",
       "                                                     Text  \n",
       "0       I have bought several of the Vitality canned d...  \n",
       "1       Product arrived labeled as Jumbo Salted Peanut...  \n",
       "2       This is a confection that has been around a fe...  \n",
       "3       If you are looking for the secret ingredient i...  \n",
       "4       Great taffy at a great price.  There was a wid...  \n",
       "...                                                   ...  \n",
       "568449  Great for sesame chicken..this is a good if no...  \n",
       "568450  I'm disappointed with the flavor. The chocolat...  \n",
       "568451  These stars are small, so you can give 10-15 o...  \n",
       "568452  These are the BEST treats for training and rew...  \n",
       "568453  I am very satisfied ,product is as advertised,...  \n",
       "\n",
       "[568454 rows x 10 columns]"
      ]
     },
     "execution_count": 6,
     "metadata": {},
     "output_type": "execute_result"
    }
   ],
   "source": [
    "import pandas as pd\n",
    "df = pd.read_csv(\"../../data/amazon-fine-food-reviews/Reviews.csv\")\n",
    "df"
   ]
  },
  {
   "cell_type": "code",
   "execution_count": 7,
   "id": "5dd2ab78-274d-48c5-b726-2878785a947e",
   "metadata": {},
   "outputs": [
    {
     "data": {
      "text/plain": [
       "{'id': 1,\n",
       " 'summary': 'Good Quality Dog Food',\n",
       " 'content': 'I have bought several of the Vitality canned dog food products and have found them all to be of good quality. The product looks more like a stew than a processed meat and it smells better. My Labrador is finicky and she appreciates this product better than  most.'}"
      ]
     },
     "execution_count": 7,
     "metadata": {},
     "output_type": "execute_result"
    }
   ],
   "source": [
    "def create_docs(df: pd.DataFrame):\n",
    "    for x in df.itertuples():\n",
    "        yield {\"id\": x.Id, \"summary\": x.Summary, \"content\": x.Text}\n",
    "docs = list(create_docs(df))\n",
    "docs[0]"
   ]
  },
  {
   "cell_type": "markdown",
   "id": "51a64b12-d559-4091-99f3-9e363f43d94c",
   "metadata": {},
   "source": [
    "## Step 1 : Build summary of documents \n",
    "\n",
    "In TNT LLM, the documents must be summarized in order to fit the context window"
   ]
  },
  {
   "cell_type": "code",
   "execution_count": 9,
   "id": "1e4bc3d3-62fe-4fae-9b8c-7e58990c4218",
   "metadata": {},
   "outputs": [
    {
     "name": "stderr",
     "output_type": "stream",
     "text": [
      "/home/amor/anaconda3/lib/python3.11/site-packages/langsmith/client.py:261: LangSmithMissingAPIKeyWarning: API key must be provided when using hosted LangSmith API\n",
      "  warnings.warn(\n"
     ]
    }
   ],
   "source": [
    "import re\n",
    "\n",
    "from langchain import hub\n",
    "from langchain_anthropic import ChatAnthropic\n",
    "from langchain_core.output_parsers import StrOutputParser\n",
    "from langchain_core.runnables import RunnableConfig, RunnableLambda, RunnablePassthrough\n",
    "\n",
    "summary_prompt = hub.pull(\"wfh/tnt-llm-summary-generation\").partial(\n",
    "    summary_length=20, explanation_length=30\n",
    ")\n",
    "\n",
    "\n",
    "def get_content(state: TaxonomyGenerationState):\n",
    "    docs = state[\"documents\"]\n",
    "    return [{\"content\": doc[\"content\"]} for doc in docs]\n",
    "\n",
    "\n",
    "def parse_summary(xml_string: str) -> dict:\n",
    "    summary_pattern = r\"<summary>(.*?)</summary>\"\n",
    "    explanation_pattern = r\"<explanation>(.*?)</explanation>\"\n",
    "\n",
    "    summary_match = re.search(summary_pattern, xml_string, re.DOTALL)\n",
    "    explanation_match = re.search(explanation_pattern, xml_string, re.DOTALL)\n",
    "\n",
    "    summary = summary_match.group(1).strip() if summary_match else \"\"\n",
    "    explanation = explanation_match.group(1).strip() if explanation_match else \"\"\n",
    "\n",
    "    return {\"summary\": summary, \"explanation\": explanation}\n",
    "\n",
    "\n",
    "def reduce_summaries(combined: dict) -> TaxonomyGenerationState:\n",
    "    summaries = combined[\"summaries\"]\n",
    "    documents = combined[\"documents\"]\n",
    "    return {\n",
    "        \"documents\": [\n",
    "            {\n",
    "                \"id\": doc[\"id\"],\n",
    "                \"content\": doc[\"content\"],\n",
    "                \"summary\": summ_info[\"summary\"],\n",
    "                \"explanation\": summ_info[\"explanation\"],\n",
    "            }\n",
    "            for doc, summ_info in zip(documents, summaries)\n",
    "        ]\n",
    "    }\n",
    "\n",
    "\n",
    "# Now combine as a \"map\" operation in a map-reduce chain\n",
    "# Input: state\n",
    "# Output: state U summaries\n",
    "# Processes docs in parallel\n",
    "summary_llm_chain = (\n",
    "    summary_prompt | ChatAnthropic(model=MODEL_NAME) | StrOutputParser()\n",
    "    # Customize the tracing name for easier organization\n",
    ").with_config(run_name=\"GenerateSummary\")\n",
    "\n",
    "\n",
    "summary_chain = summary_llm_chain | parse_summary\n",
    "\n",
    "# This effectively creates a \"map\" operation\n",
    "# Note you can make this more robust by handling individual errors\n",
    "map_step = RunnablePassthrough.assign(\n",
    "    summaries=get_content | RunnableLambda(func=summary_chain.batch, afunc=summary_chain.abatch)\n",
    ")\n",
    "\n",
    "\n",
    "# This is actually the node itself!\n",
    "map_reduce_chain = map_step | reduce_summaries"
   ]
  },
  {
   "cell_type": "code",
   "execution_count": 10,
   "id": "59f167ea-39cd-4777-b434-bc969b766f6b",
   "metadata": {},
   "outputs": [
    {
     "data": {
      "text/plain": [
       "{'documents': [{'id': 1,\n",
       "   'content': 'I have bought several of the Vitality canned dog food products and have found them all to be of good quality. The product looks more like a stew than a processed meat and it smells better. My Labrador is finicky and she appreciates this product better than  most.',\n",
       "   'summary': 'Dog owner praises Vitality canned food for quality, texture, and appeal to finicky Labrador.',\n",
       "   'explanation': \"I extracted key aspects: product quality, food characteristics, and positive dog's reaction while staying within 20 words.\"},\n",
       "  {'id': 2,\n",
       "   'content': 'Product arrived labeled as Jumbo Salted Peanuts...the peanuts were actually small sized unsalted. Not sure if this was an error or if the vendor intended to represent the product as \"Jumbo\".',\n",
       "   'summary': 'Customer received small unsalted peanuts instead of labeled jumbo salted peanuts, questioning product accuracy.',\n",
       "   'explanation': 'I extracted key points: product mismatch, size discrepancy, salt content difference, and implied customer dissatisfaction.'},\n",
       "  {'id': 3,\n",
       "   'content': 'This is a confection that has been around a few centuries.  It is a light, pillowy citrus gelatin with nuts - in this case Filberts. And it is cut into tiny squares and then liberally coated with powdered sugar.  And it is a tiny mouthful of heaven.  Not too chewy, and very flavorful.  I highly recommend this yummy treat.  If you are familiar with the story of C.S. Lewis\\' \"The Lion, The Witch, and The Wardrobe\" - this is the treat that seduces Edmund into selling out his Brother and Sisters to the Witch.',\n",
       "   'summary': 'Sweet citrus gelatin dessert with nuts, coated in powdered sugar, reminiscent of Turkish Delight from Narnia.',\n",
       "   'explanation': 'I extracted key descriptive elements: type of dessert, ingredients, texture, and cultural reference to create a concise summary.'},\n",
       "  {'id': 4,\n",
       "   'content': 'If you are looking for the secret ingredient in Robitussin I believe I have found it.  I got this in addition to the Root Beer Extract I ordered (which was good) and made some cherry soda.  The flavor is very medicinal.',\n",
       "   'summary': 'Purchased ingredient creates medicinal cherry soda flavor reminiscent of Robitussin, different from expected root beer extract.',\n",
       "   'explanation': 'Extracted key elements: product (ingredient), unexpected result (medicinal flavor), comparison to Robitussin, and contrast with root beer.'},\n",
       "  {'id': 5,\n",
       "   'content': 'Great taffy at a great price.  There was a wide assortment of yummy taffy.  Delivery was very quick.  If your a taffy lover, this is a deal.',\n",
       "   'summary': 'High-quality taffy with diverse flavors, fast shipping, and excellent value for taffy enthusiasts.',\n",
       "   'explanation': 'Extracted key points: product quality, variety, delivery speed, and value for taffy lovers.'}]}"
      ]
     },
     "execution_count": 10,
     "metadata": {},
     "output_type": "execute_result"
    }
   ],
   "source": [
    "# Test the document summary part\n",
    "map_reduce_chain.invoke({\"documents\": docs[:5]})"
   ]
  },
  {
   "cell_type": "code",
   "execution_count": null,
   "id": "00bef04e-910e-4bfd-82f8-edf2491dc406",
   "metadata": {},
   "outputs": [],
   "source": []
  },
  {
   "cell_type": "markdown",
   "id": "a453f8b1-ec54-4aa1-bd07-9ec3884b0eac",
   "metadata": {},
   "source": [
    "## Step 2 - Generate a first taxonomy\n",
    "\n",
    "The taxonomy is the core of the topic modeling.\n",
    "\n",
    "It is build incrementally but we need a first one to start.\n",
    "\n",
    "\n"
   ]
  },
  {
   "cell_type": "markdown",
   "id": "6e9ba816-c6ca-47a5-b32c-4b3af065d920",
   "metadata": {},
   "source": [
    "```\n",
    "human\n",
    "\n",
    "# Questions\n",
    "\n",
    "## Q1. Please generate a cluster table from the input data that meets the requirements.\n",
    "\n",
    "Tips\n",
    "\n",
    "- The cluster table should be a **flat list** of **mutually exclusive** categories. Sort them based on their semantic relatedness.\n",
    "\n",
    "- Though you should aim for {max_num_clusters} categories, you can have *fewer than {max_num_clusters} categories* in the cluster table;  but **do not exceed the limit.** \n",
    "\n",
    "- Be **specific** about each category. **Do not include vague categories** such as \"Other\", \"General\", \"Unclear\", \"Miscellaneous\" or \"Undefined\" in the cluster table.\n",
    "\n",
    "- You can ignore low quality or ambiguous data points.\n",
    "\n",
    "## Q2. Why did you cluster the data the way you did? Explain your reasoning **within {explanation_length} words**.\n",
    "\n",
    "## Provide your answers between the tags: <cluster_table>your generated cluster table with no more than {max_num_clusters} categories</cluster_table>, <explanation>explanation of your reasoning process within {explanation_length} words</explanation>.\n",
    "\n",
    "# Output\n",
    "```"
   ]
  },
  {
   "cell_type": "code",
   "execution_count": null,
   "id": "64110c3e-82ec-4118-82a9-6a3af42be7e0",
   "metadata": {},
   "outputs": [],
   "source": []
  },
  {
   "cell_type": "markdown",
   "id": "af6852ce-c592-4ce5-b37c-1d963ad7bcd4",
   "metadata": {},
   "source": [
    "**We need some code to parse input and output of the LLM calls**"
   ]
  },
  {
   "cell_type": "code",
   "execution_count": 11,
   "id": "9dbcb319-1158-4656-b403-9d78b4138618",
   "metadata": {},
   "outputs": [],
   "source": [
    "from typing import Dict\n",
    "\n",
    "from langchain_core.runnables import Runnable\n",
    "\n",
    "\n",
    "def parse_taxa(output_text: str) -> Dict:\n",
    "    \"\"\"Extract the taxonomy from the generated output.\"\"\"\n",
    "    cluster_matches = re.findall(\n",
    "        r\"\\s*<id>(.*?)</id>\\s*<name>(.*?)</name>\\s*<description>(.*?)</description>\\s*\",\n",
    "        output_text,\n",
    "        re.DOTALL,\n",
    "    )\n",
    "    clusters = [\n",
    "        {\"id\": id.strip(), \"name\": name.strip(), \"description\": description.strip()}\n",
    "        for id, name, description in cluster_matches\n",
    "    ]\n",
    "    # We don't parse the explanation since it isn't used downstream\n",
    "    return {\"clusters\": clusters}\n",
    "\n",
    "\n",
    "\n",
    "def format_docs(docs: List[Doc]) -> str:\n",
    "    xml_table = \"<conversations>\\n\"\n",
    "    for doc in docs:\n",
    "        xml_table += f'<conv_summ id={doc[\"id\"]}>{doc[\"summary\"]}</conv_summ>\\n'\n",
    "    xml_table += \"</conversations>\"\n",
    "    return xml_table\n",
    "\n",
    "\n",
    "def format_taxonomy(clusters):\n",
    "    xml = \"<cluster_table>\\n\"\n",
    "    for label in clusters:\n",
    "        xml += \"  <cluster>\\n\"\n",
    "        xml += f'    <id>{label[\"id\"]}</id>\\n'\n",
    "        xml += f'    <name>{label[\"name\"]}</name>\\n'\n",
    "        xml += f'    <description>{label[\"description\"]}</description>\\n'\n",
    "        xml += \"  </cluster>\\n\"\n",
    "    xml += \"</cluster_table>\"\n",
    "    return xml\n",
    "\n",
    "\n"
   ]
  },
  {
   "cell_type": "code",
   "execution_count": 12,
   "id": "267bc648-752a-4d5e-9401-720eaf19d154",
   "metadata": {},
   "outputs": [
    {
     "name": "stderr",
     "output_type": "stream",
     "text": [
      "/home/amor/anaconda3/lib/python3.11/site-packages/langsmith/client.py:261: LangSmithMissingAPIKeyWarning: API key must be provided when using hosted LangSmith API\n",
      "  warnings.warn(\n"
     ]
    }
   ],
   "source": [
    "import random\n",
    "\n",
    "\n",
    "# We will share an LLM for each step of the generate -> update -> review cycle\n",
    "# You may want to consider using Opus or another more powerful model for this\n",
    "taxonomy_generation_llm = ChatAnthropic(\n",
    "    model=MODEL_NAME, max_tokens_to_sample=2000\n",
    ")\n",
    "\n",
    "\n",
    "## Initial generation\n",
    "taxonomy_generation_prompt = hub.pull(\"wfh/tnt-llm-taxonomy-generation\").partial(\n",
    "    use_case=\"Generate the taxonomy that can be used to label the user intent in the conversation.\",\n",
    ")\n",
    "\n",
    "taxa_gen_llm_chain = (\n",
    "    taxonomy_generation_prompt | taxonomy_generation_llm | StrOutputParser()\n",
    ").with_config(run_name=\"GenerateTaxonomy\")\n",
    "\n",
    "\n",
    "generate_taxonomy_chain = taxa_gen_llm_chain | parse_taxa\n"
   ]
  },
  {
   "cell_type": "markdown",
   "id": "aba1b72a-b125-40e8-b7d0-5e65f37f0b8e",
   "metadata": {},
   "source": [
    "**We use the summary of the data in order to test our function**"
   ]
  },
  {
   "cell_type": "code",
   "execution_count": 13,
   "id": "1b1827ad-5cf4-4cf2-8ce0-c00c1ede42a7",
   "metadata": {},
   "outputs": [
    {
     "data": {
      "text/plain": [
       "{'id': 1,\n",
       " 'summary': 'Good Quality Dog Food',\n",
       " 'content': 'I have bought several of the Vitality canned dog food products and have found them all to be of good quality. The product looks more like a stew than a processed meat and it smells better. My Labrador is finicky and she appreciates this product better than  most.'}"
      ]
     },
     "execution_count": 13,
     "metadata": {},
     "output_type": "execute_result"
    }
   ],
   "source": [
    "# Docs are already with a summary, no need to pay the cost of LLM on all of them\n",
    "docs[0]"
   ]
  },
  {
   "cell_type": "code",
   "execution_count": null,
   "id": "1bd7f334-7e5b-44b7-9899-fb9169fca095",
   "metadata": {},
   "outputs": [],
   "source": []
  },
  {
   "cell_type": "code",
   "execution_count": 14,
   "id": "e6ae968c-a6dd-4de5-9cf9-10fcd0c15b0d",
   "metadata": {},
   "outputs": [],
   "source": [
    "first_taxonomy_str = taxa_gen_llm_chain.invoke({\n",
    "            \"data_xml\": format_docs(docs[:10]),\n",
    "            \"use_case\": \"Find the categories of product review\",\n",
    "            \"cluster_table_xml\": \"\",\n",
    "            \"suggestion_length\": 30,\n",
    "            \"cluster_name_length\": 10,\n",
    "            \"cluster_description_length\": 30,\n",
    "            \"explanation_length\": 20,\n",
    "            \"max_num_clusters\": 25,\n",
    "        })"
   ]
  },
  {
   "cell_type": "code",
   "execution_count": 15,
   "id": "e9368ecf-3e0d-45c1-b579-54849c8266d1",
   "metadata": {},
   "outputs": [
    {
     "name": "stdout",
     "output_type": "stream",
     "text": [
      "<cluster_table>\n",
      "<clusters>\n",
      "  <cluster>\n",
      "    <id>1</id>\n",
      "    <name>Pet Food Quality Evaluation</name>\n",
      "    <description>Reviews focusing on nutritional value and overall quality of dog food products</description>\n",
      "  </cluster>\n",
      "  <cluster>\n",
      "    <id>2</id>\n",
      "    <name>Product Expectation Mismatch</name>\n",
      "    <description>Reviews highlighting discrepancies between product advertising and actual product performance</description>\n",
      "  </cluster>\n",
      "  <cluster>\n",
      "    <id>3</id>\n",
      "    <name>Positive Taste Experience</name>\n",
      "    <description>Reviews expressing delight and satisfaction with the flavor of food products</description>\n",
      "  </cluster>\n",
      "  <cluster>\n",
      "    <id>4</id>\n",
      "    <name>Health and Wellness Products</name>\n",
      "    <description>Reviews related to medicinal or health-supporting products like cough medicine</description>\n",
      "  </cluster>\n",
      "</clusters>\n",
      "</cluster_table>\n",
      "\n",
      "<explanation>Clustered based on common themes: food quality, expectations, taste satisfaction, and health products.</explanation>\n"
     ]
    }
   ],
   "source": [
    "print(first_taxonomy_str)"
   ]
  },
  {
   "cell_type": "code",
   "execution_count": 33,
   "id": "b3c4435f-4d75-4053-b377-075ba9d39b2a",
   "metadata": {},
   "outputs": [
    {
     "data": {
      "text/plain": [
       "{'clusters': [{'id': '1',\n",
       "   'name': 'Pet Food Quality Evaluation',\n",
       "   'description': 'Reviews focusing on nutritional value and overall quality of dog food products'},\n",
       "  {'id': '2',\n",
       "   'name': 'Product Expectation Mismatch',\n",
       "   'description': 'Reviews highlighting discrepancies between product advertising and actual product performance'},\n",
       "  {'id': '3',\n",
       "   'name': 'Positive Taste Experience',\n",
       "   'description': 'Reviews expressing delight and satisfaction with the flavor of food products'},\n",
       "  {'id': '4',\n",
       "   'name': 'Health and Wellness Products',\n",
       "   'description': 'Reviews related to medicinal or health-supporting products like cough medicine'}]}"
      ]
     },
     "execution_count": 33,
     "metadata": {},
     "output_type": "execute_result"
    }
   ],
   "source": [
    "taxonomy = parse_taxa(first_taxonomy_str)\n",
    "taxonomy"
   ]
  },
  {
   "cell_type": "markdown",
   "id": "9d035e66-3b89-4175-ae47-e359a1aed89a",
   "metadata": {},
   "source": [
    "## Step 3 - Redo it but in batch mode\n",
    "\n",
    "We prepae for the scaling to the (almost) full dataset\n"
   ]
  },
  {
   "cell_type": "code",
   "execution_count": 95,
   "id": "4bad79e4-b95d-4bf5-87cf-d793bef1952c",
   "metadata": {
    "scrolled": true
   },
   "outputs": [],
   "source": [
    "def invoke_taxonomy_chain(\n",
    "    chain: Runnable,\n",
    "    state: TaxonomyGenerationState,\n",
    "    config: RunnableConfig,\n",
    "    mb_indices: List[int],\n",
    ") -> TaxonomyGenerationState:\n",
    "\n",
    "    # Get config to get later the length of prompt response\n",
    "    configurable = config[\"configurable\"]\n",
    "    \n",
    "    # Get docs of the batch in the right format\n",
    "    docs = state[\"documents\"]\n",
    "    minibatch = [docs[idx] for idx in mb_indices]\n",
    "    data_table_xml = format_docs(minibatch)\n",
    "\n",
    "    # Prepare old taxo for the prompt\n",
    "    previous_taxonomy = state[\"clusters\"][-1] if state[\"clusters\"] else []\n",
    "    cluster_table_xml = format_taxonomy(previous_taxonomy)\n",
    "\n",
    "    updated_taxonomy = chain.invoke(\n",
    "        {\n",
    "            \"data_xml\": data_table_xml,\n",
    "            \"use_case\": configurable[\"use_case\"],\n",
    "            \"cluster_table_xml\": cluster_table_xml,\n",
    "            \"suggestion_length\": configurable.get(\"suggestion_length\", 30),\n",
    "            \"cluster_name_length\": configurable.get(\"cluster_name_length\", 10),\n",
    "            \"cluster_description_length\": configurable.get(\n",
    "                \"cluster_description_length\", 30\n",
    "            ),\n",
    "            \"explanation_length\": configurable.get(\"explanation_length\", 20),\n",
    "            \"max_num_clusters\": configurable.get(\"max_num_clusters\", 25),\n",
    "        }\n",
    "    )\n",
    "\n",
    "    if type(updated_taxonomy) != str and \"clusters\" in updated_taxonomy.keys():\n",
    "        return {\n",
    "            \"clusters\": [updated_taxonomy[\"clusters\"]],\n",
    "        }\n",
    "    else:\n",
    "        return updated_taxonomy\n",
    "\n",
    "\n",
    "def generate_taxonomy(\n",
    "    state: TaxonomyGenerationState, config: RunnableConfig\n",
    ") -> TaxonomyGenerationState:\n",
    "    return invoke_taxonomy_chain(\n",
    "        generate_taxonomy_chain, state, config, state[\"minibatches\"][0]\n",
    "    )\n",
    "\n",
    "\n",
    "\n",
    "def get_minibatches(state: TaxonomyGenerationState, config: RunnableConfig):\n",
    "    batch_size = config[\"configurable\"].get(\"batch_size\", 15)\n",
    "    original = state[\"documents\"]\n",
    "    indices = list(range(len(original)))\n",
    "    random.shuffle(indices)\n",
    "    if len(indices) < batch_size:\n",
    "        # Don't pad needlessly if we can't fill a single batch\n",
    "        return [indices]\n",
    "\n",
    "    num_full_batches = len(indices) // batch_size\n",
    "\n",
    "    batches = [\n",
    "        indices[i * batch_size : (i + 1) * batch_size] for i in range(num_full_batches)\n",
    "    ]\n",
    "\n",
    "    leftovers = len(indices) % batch_size\n",
    "    if leftovers:\n",
    "        last_batch = indices[num_full_batches * batch_size :]\n",
    "        elements_to_add = batch_size - leftovers\n",
    "        last_batch += random.sample(indices, elements_to_add)\n",
    "        batches.append(last_batch)\n",
    "\n",
    "    return {\n",
    "        \"minibatches\": batches,\n",
    "    }"
   ]
  },
  {
   "cell_type": "code",
   "execution_count": 17,
   "id": "ca8becc7-0830-4716-9e98-cd1be4f3827f",
   "metadata": {},
   "outputs": [
    {
     "name": "stdout",
     "output_type": "stream",
     "text": [
      "{'minibatches': [[5, 14, 12, 22, 1, 29, 2, 11, 4, 7, 16, 20, 19, 9, 8], [13, 18, 25, 23, 24, 17, 26, 3, 10, 21, 28, 15, 0, 27, 6]]}\n"
     ]
    }
   ],
   "source": [
    "\"\"\"\n",
    "class TaxonomyGenerationState(TypedDict):\n",
    "    # The raw docs; we inject summaries within them in the first step\n",
    "    documents: List[Doc]\n",
    "    # Indices to be concise\n",
    "    minibatches: List[List[int]]\n",
    "    # Candidate Taxonomies (full trajectory)\n",
    "    clusters: Annotated[List[List[dict]], operator.add]\n",
    "\"\"\"\n",
    "\n",
    "my_docs = docs[:30]\n",
    "\n",
    "configurable = {\"configurable\": {\"use_case\": \"classify the food reviews into categories\", \"batch_size\": 15}}\n",
    "data = {\"documents\":my_docs}\n",
    "batches = get_minibatches(data, configurable)\n",
    "\n",
    "print(batches)"
   ]
  },
  {
   "cell_type": "code",
   "execution_count": 18,
   "id": "8f1119fa-2b1a-4a22-8f7c-a70140b83ac5",
   "metadata": {},
   "outputs": [],
   "source": [
    "\n",
    "rez = generate_taxonomy({\"documents\": my_docs, \"minibatches\": batches[\"minibatches\"], \"clusters\": []}, configurable)\n",
    "\n"
   ]
  },
  {
   "cell_type": "code",
   "execution_count": 21,
   "id": "3267fc6e-361b-415c-85da-a2e3c7917411",
   "metadata": {},
   "outputs": [
    {
     "name": "stdout",
     "output_type": "stream",
     "text": [
      "dict_keys(['clusters'])\n",
      "[{'id': '1', 'name': 'Pet Food Preferences', 'description': 'Reviews about cat and dog food quality and palatability'}, {'id': '2', 'name': 'Sweet Candy Enjoyment', 'description': 'Positive reviews of sweet candies like taffy and Twizzlers'}, {'id': '3', 'name': 'Condiment Flavor Intensity', 'description': 'Reviews highlighting strong taste experiences with sauces'}, {'id': '4', 'name': 'Product Satisfaction Levels', 'description': 'Reviews expressing general delight or disappointment with food products'}, {'id': '5', 'name': 'Delivery and Freshness', 'description': 'Comments about product delivery and freshness quality'}]\n"
     ]
    }
   ],
   "source": [
    "print(rez.keys())\n",
    "print(\"\\n\".join(str(x) for x in rez[\"clusters\"]))"
   ]
  },
  {
   "cell_type": "markdown",
   "id": "0758bff5-ae59-474e-8030-d491fbfcdb79",
   "metadata": {},
   "source": [
    "ok !"
   ]
  },
  {
   "cell_type": "code",
   "execution_count": null,
   "id": "796058cb-4861-4396-85bd-3ea429c5528d",
   "metadata": {},
   "outputs": [],
   "source": []
  },
  {
   "cell_type": "markdown",
   "id": "a27738aa-9250-4188-b8a0-9b8e3381c7e8",
   "metadata": {},
   "source": [
    "## Step 4 - Update the taxonomy"
   ]
  },
  {
   "cell_type": "code",
   "execution_count": 35,
   "id": "4f3d0be1-23db-4c30-a589-e9c66b5e29a7",
   "metadata": {},
   "outputs": [
    {
     "name": "stderr",
     "output_type": "stream",
     "text": [
      "/home/amor/anaconda3/lib/python3.11/site-packages/langsmith/client.py:261: LangSmithMissingAPIKeyWarning: API key must be provided when using hosted LangSmith API\n",
      "  warnings.warn(\n"
     ]
    }
   ],
   "source": [
    "taxonomy_update_prompt = hub.pull(\"wfh/tnt-llm-taxonomy-update\")\n",
    "\n",
    "taxa_update_llm_chain = (\n",
    "    taxonomy_update_prompt | taxonomy_generation_llm | StrOutputParser()\n",
    ").with_config(run_name=\"UpdateTaxonomy\")\n",
    "\n",
    "\n",
    "update_taxonomy_chain = taxa_update_llm_chain | parse_taxa\n",
    "\n",
    "\n",
    "def update_taxonomy(\n",
    "    state: TaxonomyGenerationState, config: RunnableConfig\n",
    ") -> TaxonomyGenerationState:\n",
    "    which_mb = len(state[\"clusters\"]) % len(state[\"minibatches\"])\n",
    "    return invoke_taxonomy_chain(\n",
    "        update_taxonomy_chain, state, config, state[\"minibatches\"][which_mb]\n",
    "    )"
   ]
  },
  {
   "cell_type": "code",
   "execution_count": 44,
   "id": "2e9e6770-ad26-44a2-aa30-2eab232b372a",
   "metadata": {},
   "outputs": [
    {
     "data": {
      "text/plain": [
       "{'clusters': [[{'id': '1',\n",
       "    'name': 'Food Taste Experience',\n",
       "    'description': 'Reviews focusing on flavor, enjoyment, and sensory qualities of food products'},\n",
       "   {'id': '2',\n",
       "    'name': 'Product Satisfaction Evaluation',\n",
       "    'description': 'Reviews expressing overall satisfaction, ease of use, and positive product perceptions'},\n",
       "   {'id': '3',\n",
       "    'name': 'Product Packaging Critique',\n",
       "    'description': 'Reviews addressing packaging accuracy, misleading information, and presentation issues'},\n",
       "   {'id': '4',\n",
       "    'name': 'Product Quality Assessment',\n",
       "    'description': 'Reviews evaluating product ingredients, composition, and overall quality standards'},\n",
       "   {'id': '5',\n",
       "    'name': 'Specific Food Type Commentary',\n",
       "    'description': 'Reviews about unique or niche food products like specialty ingredients or rare items'}]]}"
      ]
     },
     "execution_count": 44,
     "metadata": {},
     "output_type": "execute_result"
    }
   ],
   "source": [
    "my_docs = docs[:30]\n",
    "\n",
    "configurable = {\"configurable\": {\"use_case\": \"classify the food reviews into categories\", \"batch_size\": 15}}\n",
    "data = {\"documents\":my_docs}\n",
    "batches = get_minibatches(data, configurable)\n",
    "\n",
    "# taxonomy was defined previously\n",
    "rez = update_taxonomy({\"documents\": my_docs, \"minibatches\": batches[\"minibatches\"], \"clusters\": [taxonomy[\"clusters\"]]}, configurable)\n",
    "\n",
    "rez"
   ]
  },
  {
   "cell_type": "code",
   "execution_count": 45,
   "id": "0ea6e40e-51d8-44c3-9dac-3b6cd7164f04",
   "metadata": {},
   "outputs": [
    {
     "data": {
      "text/plain": [
       "{'clusters': [[{'id': '1',\n",
       "    'name': 'Food Taste Experience',\n",
       "    'description': 'Reviews focusing on flavor, enjoyment, and sensory qualities of food products'},\n",
       "   {'id': '2',\n",
       "    'name': 'Product Satisfaction Evaluation',\n",
       "    'description': 'Reviews expressing overall satisfaction, ease of use, and positive product perceptions'},\n",
       "   {'id': '3',\n",
       "    'name': 'Product Packaging Critique',\n",
       "    'description': 'Reviews addressing packaging accuracy, misleading information, and presentation issues'},\n",
       "   {'id': '4',\n",
       "    'name': 'Product Quality Assessment',\n",
       "    'description': 'Reviews evaluating product ingredients, composition, and overall quality standards'},\n",
       "   {'id': '5',\n",
       "    'name': 'Specific Food Type Commentary',\n",
       "    'description': 'Reviews about unique or niche food products like specialty ingredients or rare items'}]]}"
      ]
     },
     "execution_count": 45,
     "metadata": {},
     "output_type": "execute_result"
    }
   ],
   "source": [
    "rez"
   ]
  },
  {
   "cell_type": "markdown",
   "id": "d3a0957b-8485-4dd2-80f5-607ec19360c8",
   "metadata": {},
   "source": [
    "## Step 5 - Batch process a larger volume\n",
    "\n",
    "Now we can run the update taxonomy loop\n",
    "\n"
   ]
  },
  {
   "cell_type": "code",
   "execution_count": 48,
   "id": "156d9958-47bd-4ead-a41e-4b401b9455f0",
   "metadata": {},
   "outputs": [
    {
     "data": {
      "text/plain": [
       "11369"
      ]
     },
     "execution_count": 48,
     "metadata": {},
     "output_type": "execute_result"
    }
   ],
   "source": [
    "docs = list(create_docs(df.sample(frac=0.02)))\n",
    "len(docs)"
   ]
  },
  {
   "cell_type": "code",
   "execution_count": 49,
   "id": "0aec5417-efeb-48e4-9266-e7d606495f60",
   "metadata": {},
   "outputs": [
    {
     "data": {
      "text/plain": [
       "758"
      ]
     },
     "execution_count": 49,
     "metadata": {},
     "output_type": "execute_result"
    }
   ],
   "source": [
    "my_docs = docs\n",
    "\n",
    "configurable = {\"configurable\": {\"use_case\": \"classify the food reviews into categories\", \"batch_size\": 15}}\n",
    "data = {\"documents\":my_docs}\n",
    "batches = get_minibatches(data, configurable)\n",
    "\n",
    "len(batches[\"minibatches\"])"
   ]
  },
  {
   "cell_type": "code",
   "execution_count": 50,
   "id": "faf8a5b6-92e3-4aee-8fa5-84ba104b0462",
   "metadata": {},
   "outputs": [],
   "source": [
    "first_taxonomy = generate_taxonomy({\"documents\": my_docs, \n",
    "                                    \"minibatches\": batches[\"minibatches\"], \"clusters\": []}, configurable)\n",
    "\n"
   ]
  },
  {
   "cell_type": "code",
   "execution_count": 75,
   "id": "4460189f-1906-4b0e-abf7-e67625994a49",
   "metadata": {},
   "outputs": [
    {
     "data": {
      "text/plain": [
       "{'clusters': [[{'id': '1',\n",
       "    'name': 'Health-Supportive Beverages',\n",
       "    'description': 'Teas and drinks with specific wellness benefits like relieving throat issues or managing symptoms.'},\n",
       "   {'id': '2',\n",
       "    'name': 'Flavor-Focused Food Items',\n",
       "    'description': 'Products valued primarily for their taste and enjoyable sensory experience.'},\n",
       "   {'id': '3',\n",
       "    'name': 'Convenient Snack Options',\n",
       "    'description': 'Easy-to-consume food items suitable for quick eating or as part of meals.'},\n",
       "   {'id': '4',\n",
       "    'name': 'Product Quality Appreciation',\n",
       "    'description': 'Reviews emphasizing overall product excellence, nice attributes, or pleasant characteristics.'},\n",
       "   {'id': '5',\n",
       "    'name': 'Price-Value Considerations',\n",
       "    'description': 'Comments highlighting product cost relative to perceived quality or quantity.'}]]}"
      ]
     },
     "execution_count": 75,
     "metadata": {},
     "output_type": "execute_result"
    }
   ],
   "source": [
    "first_taxonomy"
   ]
  },
  {
   "cell_type": "code",
   "execution_count": 86,
   "id": "d30f9f3f-7a6b-447f-8c53-d7c33bf60abe",
   "metadata": {},
   "outputs": [],
   "source": [
    "final_taxonomy = update_taxonomy({\"documents\": my_docs, \n",
    "                                  \"minibatches\": batches[\"minibatches\"], \n",
    "                                  \"clusters\": [first_taxonomy[\"clusters\"][0]]}, \n",
    "                                 configurable)\n",
    "# Please note the first_taxonomy[\"clusters\"][0]]"
   ]
  },
  {
   "cell_type": "code",
   "execution_count": 87,
   "id": "48dcf69d-bf32-4655-9ed8-99bee4743cfc",
   "metadata": {},
   "outputs": [
    {
     "data": {
      "text/plain": [
       "{'clusters': [[{'id': '1',\n",
       "    'name': 'Positive Product Endorsement',\n",
       "    'description': 'Strong favorable reviews expressing enthusiasm and recommendation of the product.'},\n",
       "   {'id': '2',\n",
       "    'name': 'Negative Product Criticism',\n",
       "    'description': 'Reviews expressing disappointment, disgust, or significant dissatisfaction with the product.'},\n",
       "   {'id': '3',\n",
       "    'name': 'Neutral Product Assessment',\n",
       "    'description': 'Lukewarm or indifferent reviews indicating minimal emotional engagement with the product.'},\n",
       "   {'id': '4',\n",
       "    'name': 'Taste and Sensory Experience',\n",
       "    'description': 'Reviews focusing specifically on flavor, texture, and immediate sensory perception.'},\n",
       "   {'id': '5',\n",
       "    'name': 'Value and Price Perception',\n",
       "    'description': 'Comments highlighting economic considerations and perceived cost-quality relationship.'}]]}"
      ]
     },
     "execution_count": 87,
     "metadata": {},
     "output_type": "execute_result"
    }
   ],
   "source": [
    "final_taxonomy"
   ]
  },
  {
   "cell_type": "code",
   "execution_count": null,
   "id": "5f562d18-20b3-43fe-9758-3a89889235dd",
   "metadata": {},
   "outputs": [],
   "source": []
  },
  {
   "cell_type": "code",
   "execution_count": null,
   "id": "81cb6291-7074-450c-a46f-970a4e105995",
   "metadata": {},
   "outputs": [],
   "source": []
  },
  {
   "cell_type": "markdown",
   "id": "929f942c-d9cc-4752-bc98-8ce06d8b53ed",
   "metadata": {},
   "source": [
    "## Step 6 - Review mode\n",
    "\n",
    "Example of taxonomy found \n",
    "\n",
    "```\n",
    "{'clusters': [[{'id': '1',\n",
    "    'name': 'Flavor and Taste Evaluation',\n",
    "    'description': 'Reviews focusing on product taste, texture, and sensory experience'},\n",
    "   {'id': '2',\n",
    "    'name': 'Dietary and Nutritional Suitability',\n",
    "    'description': 'Reviews about product compatibility with special diets or health requirements'},\n",
    "   {'id': '3',\n",
    "    'name': 'Product Performance and Satisfaction',\n",
    "    'description': 'Reviews assessing overall product quality, value, and meeting consumer expectations'},\n",
    "   {'id': '4',\n",
    "    'name': 'Specialized Food and Beverage',\n",
    "    'description': 'Reviews of unique or niche food and drink products like gourmet items'}]]}\n",
    "```\n"
   ]
  },
  {
   "cell_type": "code",
   "execution_count": 96,
   "id": "1fdc2211-b6fa-4a55-9cbe-678d70a77cec",
   "metadata": {},
   "outputs": [
    {
     "name": "stderr",
     "output_type": "stream",
     "text": [
      "/home/amor/anaconda3/lib/python3.11/site-packages/langsmith/client.py:261: LangSmithMissingAPIKeyWarning: API key must be provided when using hosted LangSmith API\n",
      "  warnings.warn(\n"
     ]
    }
   ],
   "source": [
    "taxonomy_review_prompt = hub.pull(\"wfh/tnt-llm-taxonomy-review\")\n",
    "\n",
    "taxa_review_llm_chain = (\n",
    "    taxonomy_review_prompt | taxonomy_generation_llm | StrOutputParser()\n",
    ").with_config(run_name=\"ReviewTaxonomy\")\n",
    "\n",
    "\n",
    "review_taxonomy_chain = taxa_review_llm_chain | parse_taxa\n",
    "\n",
    "\n",
    "def review_taxonomy(\n",
    "    state: TaxonomyGenerationState, config: RunnableConfig\n",
    ") -> TaxonomyGenerationState:\n",
    "    batch_size = config[\"configurable\"].get(\"batch_size\", 200)\n",
    "    original = state[\"documents\"]\n",
    "    indices = list(range(len(original)))\n",
    "    random.shuffle(indices)\n",
    "    return invoke_taxonomy_chain(\n",
    "        review_taxonomy_chain, state, config, indices[:batch_size]\n",
    "    )"
   ]
  },
  {
   "cell_type": "code",
   "execution_count": 102,
   "id": "a8dd4ed1-367c-429b-b55e-65c3b837d932",
   "metadata": {},
   "outputs": [
    {
     "name": "stdout",
     "output_type": "stream",
     "text": [
      "{'minibatches': [[7, 2, 3, 13, 8, 5, 12, 6, 14, 0, 1, 10, 9, 11, 4]]}\n"
     ]
    }
   ],
   "source": [
    "doc_subset = my_docs[:15]\n",
    "\n",
    "configurable = {\"configurable\": {\"use_case\": \"classify the food reviews into categories\", \"batch_size\": 15}}\n",
    "data = {\"documents\":doc_subset}\n",
    "batches = get_minibatches(data, configurable)\n",
    "\n",
    "print(batches)\n",
    "\n",
    "reviewed_taxonomy = review_taxonomy({\"documents\": doc_subset, \"minibatches\": batches[\"minibatches\"], \"clusters\": [final_taxonomy[\"clusters\"][0]]}, \n",
    "                                 configurable)"
   ]
  },
  {
   "cell_type": "code",
   "execution_count": 103,
   "id": "18d97a93-2d51-47aa-baad-8d415d781d2e",
   "metadata": {},
   "outputs": [
    {
     "name": "stdout",
     "output_type": "stream",
     "text": [
      "Let me carefully evaluate the reference cluster table and provide systematic answers:\n",
      "\n",
      "<rating_score>75</rating_score>\n",
      "\n",
      "<explanation>\n",
      "The current reference table has moderate quality for classifying food reviews:\n",
      "- Strengths:\n",
      "  * Categories are distinct and non-overlapping\n",
      "  * No vague \"miscellaneous\" categories\n",
      "  * Names are concise and descriptive\n",
      "- Limitations:\n",
      "  * Current categories are somewhat generic\n",
      "  * Lacks specificity for detailed food review analysis\n",
      "  * Could benefit from more nuanced categorization of review sentiments and characteristics\n",
      "</explanation>\n",
      "\n",
      "<suggestions>\n",
      "1. Add more specific categories related to food reviews:\n",
      "- Customer Service Experience\n",
      "- Ingredient Quality Assessment\n",
      "- Packaging and Presentation Feedback\n",
      "- Nutritional and Health Considerations\n",
      "2. Refine existing sentiment categories to capture more granular review insights\n",
      "3. Ensure descriptions provide clear differentiation between categories\n",
      "</suggestions>\n",
      "\n",
      "<updated_table>\n",
      "<clusters>\n",
      "  <cluster>\n",
      "    <id>1</id>\n",
      "    <name>Enthusiastic Product Recommendation</name>\n",
      "    <description>Highly positive reviews with strong personal endorsement and excitement about the product.</description>\n",
      "  </cluster>\n",
      "  <cluster>\n",
      "    <id>2</id>\n",
      "    <name>Critical Product Dissatisfaction</name>\n",
      "    <description>Detailed negative reviews highlighting specific product failures or significant disappointments.</description>\n",
      "  </cluster>\n",
      "  <cluster>\n",
      "    <id>3</id>\n",
      "    <name>Balanced Product Assessment</name>\n",
      "    <description>Objective reviews weighing both positive and negative aspects without strong emotional bias.</description>\n",
      "  </cluster>\n",
      "  <cluster>\n",
      "    <id>4</id>\n",
      "    <name>Sensory and Flavor Experience</name>\n",
      "    <description>In-depth reviews focusing on taste, texture, aroma, and overall gustatory qualities.</description>\n",
      "  </cluster>\n",
      "  <cluster>\n",
      "    <id>5</id>\n",
      "    <name>Price and Value Evaluation</name>\n",
      "    <description>Reviews analyzing product's cost-effectiveness, pricing, and perceived economic value.</description>\n",
      "  </cluster>\n",
      "  <cluster>\n",
      "    <id>6</id>\n",
      "    <name>Ingredient Quality Analysis</name>\n",
      "    <description>Reviews examining product's ingredients, sourcing, freshness, and nutritional characteristics.</description>\n",
      "  </cluster>\n",
      "  <cluster>\n",
      "    <id>7</id>\n",
      "    <name>Customer Service Experience</name>\n",
      "    <description>Reviews highlighting interactions with brand, delivery, support, and overall customer engagement.</description>\n",
      "  </cluster>\n",
      "</clusters>\n",
      "</updated_table>\n"
     ]
    }
   ],
   "source": [
    "print(reviewed_taxonomy)"
   ]
  },
  {
   "cell_type": "code",
   "execution_count": null,
   "id": "09c46e52-e64f-46ca-9cd6-123ee74a65ef",
   "metadata": {},
   "outputs": [],
   "source": []
  },
  {
   "cell_type": "code",
   "execution_count": null,
   "id": "21471d94-adc9-45f8-9dda-f81d9dfeabb3",
   "metadata": {},
   "outputs": [],
   "source": []
  },
  {
   "cell_type": "markdown",
   "id": "3d46817c-4c47-47ff-ade5-c2ccdff87059",
   "metadata": {},
   "source": [
    "## Step 7 - Label our data\n",
    "\n",
    "Now that we have our taxonomy, we can label everything with a LLM\n"
   ]
  },
  {
   "cell_type": "code",
   "execution_count": 104,
   "id": "81076b31-4e49-4c94-8356-f173dc2ad7bc",
   "metadata": {},
   "outputs": [
    {
     "name": "stderr",
     "output_type": "stream",
     "text": [
      "/home/amor/anaconda3/lib/python3.11/site-packages/langsmith/client.py:261: LangSmithMissingAPIKeyWarning: API key must be provided when using hosted LangSmith API\n",
      "  warnings.warn(\n"
     ]
    }
   ],
   "source": [
    "labeling_prompt = hub.pull(\"wfh/tnt-llm-classify\")\n",
    "\n",
    "labeling_llm = ChatAnthropic(model=MODEL_NAME, max_tokens_to_sample=2000)\n",
    "labeling_llm_chain = (labeling_prompt | labeling_llm | StrOutputParser()).with_config(\n",
    "    run_name=\"ClassifyDocs\"\n",
    ")\n",
    "\n",
    "\n",
    "def parse_labels(output_text: str) -> Dict:\n",
    "    \"\"\"Parse the generated labels from the predictions.\"\"\"\n",
    "    category_matches = re.findall(\n",
    "        r\"\\s*<category>(.*?)</category>.*\",\n",
    "        output_text,\n",
    "        re.DOTALL,\n",
    "    )\n",
    "    categories = [{\"category\": category.strip()} for category in category_matches]\n",
    "    if len(categories) > 1:\n",
    "        logger.warning(f\"Multiple selected categories: {categories}\")\n",
    "    label = categories[0]\n",
    "    stripped = re.sub(r\"^\\d+\\.\\s*\", \"\", label[\"category\"]).strip()\n",
    "    return {\"category\": stripped}\n",
    "\n",
    "\n",
    "labeling_chain = labeling_llm_chain | parse_labels"
   ]
  },
  {
   "cell_type": "code",
   "execution_count": 110,
   "id": "ac221eef-19b0-4014-bdb4-851206df0d81",
   "metadata": {},
   "outputs": [],
   "source": [
    "xml_taxonomy = format_taxonomy(parse_taxa(reviewed_taxonomy)[\"clusters\"])\n",
    "results = labeling_chain.batch(\n",
    "    [\n",
    "        {\n",
    "            \"content\": doc[\"content\"],\n",
    "            \"taxonomy\": xml_taxonomy,\n",
    "        }\n",
    "        for doc in docs[:10]\n",
    "    ],\n",
    "    {\"max_concurrency\": 5},\n",
    "    return_exceptions=True,\n",
    ")\n",
    "# Update the docs to include the categories\n",
    "updated_docs = [{**doc, **category} for doc, category in zip(docs, results)]"
   ]
  },
  {
   "cell_type": "code",
   "execution_count": 113,
   "id": "de6a40f8-5775-4cfb-90d9-02dcae8b0ea3",
   "metadata": {},
   "outputs": [
    {
     "data": {
      "text/html": [
       "<div>\n",
       "<style scoped>\n",
       "    .dataframe tbody tr th:only-of-type {\n",
       "        vertical-align: middle;\n",
       "    }\n",
       "\n",
       "    .dataframe tbody tr th {\n",
       "        vertical-align: top;\n",
       "    }\n",
       "\n",
       "    .dataframe thead th {\n",
       "        text-align: right;\n",
       "    }\n",
       "</style>\n",
       "<table border=\"1\" class=\"dataframe\">\n",
       "  <thead>\n",
       "    <tr style=\"text-align: right;\">\n",
       "      <th></th>\n",
       "      <th>id</th>\n",
       "      <th>summary</th>\n",
       "      <th>content</th>\n",
       "      <th>category</th>\n",
       "    </tr>\n",
       "  </thead>\n",
       "  <tbody>\n",
       "    <tr>\n",
       "      <th>0</th>\n",
       "      <td>487213</td>\n",
       "      <td>Great Northern Popocorn</td>\n",
       "      <td>This popcorn is delicious!!! It was very easy ...</td>\n",
       "      <td>Balanced Product Assessment</td>\n",
       "    </tr>\n",
       "    <tr>\n",
       "      <th>1</th>\n",
       "      <td>248058</td>\n",
       "      <td>drink it now</td>\n",
       "      <td>This chai is delicious. Everything I wanted an...</td>\n",
       "      <td>Sensory and Flavor Experience</td>\n",
       "    </tr>\n",
       "    <tr>\n",
       "      <th>2</th>\n",
       "      <td>306452</td>\n",
       "      <td>Great!</td>\n",
       "      <td>Our Maltese puppy loves this food. We had a ha...</td>\n",
       "      <td>Enthusiastic Product Recommendation</td>\n",
       "    </tr>\n",
       "    <tr>\n",
       "      <th>3</th>\n",
       "      <td>105157</td>\n",
       "      <td>Great product.</td>\n",
       "      <td>I couldn't find this anywhere in stores.  My d...</td>\n",
       "      <td>Enthusiastic Product Recommendation</td>\n",
       "    </tr>\n",
       "    <tr>\n",
       "      <th>4</th>\n",
       "      <td>364953</td>\n",
       "      <td>awful</td>\n",
       "      <td>I bought this product because I thought it cou...</td>\n",
       "      <td>Critical Product Dissatisfaction</td>\n",
       "    </tr>\n",
       "    <tr>\n",
       "      <th>5</th>\n",
       "      <td>347646</td>\n",
       "      <td>Buttery oil</td>\n",
       "      <td>The popcorn popped up light but lacked a stron...</td>\n",
       "      <td>Sensory and Flavor Experience</td>\n",
       "    </tr>\n",
       "    <tr>\n",
       "      <th>6</th>\n",
       "      <td>551399</td>\n",
       "      <td>Love this YUMMY blue drink</td>\n",
       "      <td>I discovered Liquid Ice in Virginia at a bar. ...</td>\n",
       "      <td>Enthusiastic Product Recommendation</td>\n",
       "    </tr>\n",
       "    <tr>\n",
       "      <th>7</th>\n",
       "      <td>285368</td>\n",
       "      <td>Not what it was advertised as</td>\n",
       "      <td>This was advertised as sugar free.  It definit...</td>\n",
       "      <td>Critical Product Dissatisfaction</td>\n",
       "    </tr>\n",
       "    <tr>\n",
       "      <th>8</th>\n",
       "      <td>542517</td>\n",
       "      <td>Disgusting</td>\n",
       "      <td>This reminds me of dirty socks.  Its a pretty ...</td>\n",
       "      <td>Critical Product Dissatisfaction</td>\n",
       "    </tr>\n",
       "    <tr>\n",
       "      <th>9</th>\n",
       "      <td>399954</td>\n",
       "      <td>OK</td>\n",
       "      <td>At about two bucks a can for a pack of 12 (one...</td>\n",
       "      <td>Price and Value Evaluation</td>\n",
       "    </tr>\n",
       "  </tbody>\n",
       "</table>\n",
       "</div>"
      ],
      "text/plain": [
       "       id                        summary  \\\n",
       "0  487213        Great Northern Popocorn   \n",
       "1  248058                   drink it now   \n",
       "2  306452                         Great!   \n",
       "3  105157                 Great product.   \n",
       "4  364953                          awful   \n",
       "5  347646                    Buttery oil   \n",
       "6  551399     Love this YUMMY blue drink   \n",
       "7  285368  Not what it was advertised as   \n",
       "8  542517                     Disgusting   \n",
       "9  399954                             OK   \n",
       "\n",
       "                                             content  \\\n",
       "0  This popcorn is delicious!!! It was very easy ...   \n",
       "1  This chai is delicious. Everything I wanted an...   \n",
       "2  Our Maltese puppy loves this food. We had a ha...   \n",
       "3  I couldn't find this anywhere in stores.  My d...   \n",
       "4  I bought this product because I thought it cou...   \n",
       "5  The popcorn popped up light but lacked a stron...   \n",
       "6  I discovered Liquid Ice in Virginia at a bar. ...   \n",
       "7  This was advertised as sugar free.  It definit...   \n",
       "8  This reminds me of dirty socks.  Its a pretty ...   \n",
       "9  At about two bucks a can for a pack of 12 (one...   \n",
       "\n",
       "                              category  \n",
       "0          Balanced Product Assessment  \n",
       "1        Sensory and Flavor Experience  \n",
       "2  Enthusiastic Product Recommendation  \n",
       "3  Enthusiastic Product Recommendation  \n",
       "4     Critical Product Dissatisfaction  \n",
       "5        Sensory and Flavor Experience  \n",
       "6  Enthusiastic Product Recommendation  \n",
       "7     Critical Product Dissatisfaction  \n",
       "8     Critical Product Dissatisfaction  \n",
       "9           Price and Value Evaluation  "
      ]
     },
     "execution_count": 113,
     "metadata": {},
     "output_type": "execute_result"
    }
   ],
   "source": [
    "pd.DataFrame(updated_docs).head(50)"
   ]
  },
  {
   "cell_type": "code",
   "execution_count": null,
   "id": "b74dc06c-a5e1-4af3-9bd9-dea0a1997c07",
   "metadata": {},
   "outputs": [],
   "source": []
  },
  {
   "cell_type": "code",
   "execution_count": null,
   "id": "dd341d86-42be-4755-b711-7538173bab32",
   "metadata": {},
   "outputs": [],
   "source": []
  },
  {
   "cell_type": "code",
   "execution_count": null,
   "id": "bf52981f-6c35-4c38-adb5-cbfd5408fb1c",
   "metadata": {},
   "outputs": [],
   "source": []
  }
 ],
 "metadata": {
  "kernelspec": {
   "display_name": "Python 3 (ipykernel)",
   "language": "python",
   "name": "python3"
  },
  "language_info": {
   "codemirror_mode": {
    "name": "ipython",
    "version": 3
   },
   "file_extension": ".py",
   "mimetype": "text/x-python",
   "name": "python",
   "nbconvert_exporter": "python",
   "pygments_lexer": "ipython3",
   "version": "3.11.7"
  }
 },
 "nbformat": 4,
 "nbformat_minor": 5
}
