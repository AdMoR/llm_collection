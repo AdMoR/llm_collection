{
 "cells": [
  {
   "cell_type": "code",
   "execution_count": 1,
   "id": "0e34e8c6-8dbd-4dfe-ac59-0b010e52acb5",
   "metadata": {},
   "outputs": [],
   "source": [
    "import os\n",
    "\n",
    "os.environ[\"ANTHROPIC_API_KEY\"] = \"sk-ant-\"\n"
   ]
  },
  {
   "cell_type": "code",
   "execution_count": 2,
   "id": "e7f1bf13-9a6d-413a-a4b6-e9d8580bfa7a",
   "metadata": {},
   "outputs": [
    {
     "data": {
      "text/plain": [
       "[{'name': 'validate_user',\n",
       "  'args': {'user_id': 123,\n",
       "   'addresses': [{'street': '123 Fake St', 'city': 'Boston', 'state': 'MA'},\n",
       "    {'street': '234 Pretend Boulevard', 'city': 'Houston', 'state': 'TX'}]},\n",
       "  'id': 'toolu_01DtrWXgiezDrCRGYoP7K3tW',\n",
       "  'type': 'tool_call'}]"
      ]
     },
     "execution_count": 2,
     "metadata": {},
     "output_type": "execute_result"
    }
   ],
   "source": [
    "from typing import List\n",
    "from typing_extensions import TypedDict\n",
    "\n",
    "from langchain_anthropic import ChatAnthropic\n",
    "\n",
    "class Address(TypedDict):\n",
    "    street: str\n",
    "    city: str\n",
    "    state: str\n",
    "\n",
    "def validate_user(user_id: int, addresses: List[Address]) -> bool:\n",
    "    \"\"\"Validate user using historical addresses.\n",
    "\n",
    "    Args:\n",
    "        user_id: (int) the user ID.\n",
    "        addresses: Previous addresses.\n",
    "    \"\"\"\n",
    "    return True\n",
    "\n",
    "llm = ChatAnthropic(model=\"claude-3-5-haiku-20241022\").bind_tools([validate_user])\n",
    "\n",
    "result = llm.invoke(\n",
    "    \"Could you validate user 123? They previously lived at \"\n",
    "    \"123 Fake St in Boston MA and 234 Pretend Boulevard in \"\n",
    "    \"Houston TX.\"\n",
    ")\n",
    "result.tool_calls"
   ]
  },
  {
   "cell_type": "code",
   "execution_count": null,
   "id": "c41bb78b-01e6-45b7-975e-2f7c3a6d1e78",
   "metadata": {},
   "outputs": [],
   "source": []
  },
  {
   "cell_type": "code",
   "execution_count": null,
   "id": "59c2da5f-9e72-4c8f-94e3-c8c3feb317b8",
   "metadata": {},
   "outputs": [],
   "source": []
  },
  {
   "cell_type": "code",
   "execution_count": null,
   "id": "4c9392ff-90fd-41a5-95ef-348cd9528789",
   "metadata": {},
   "outputs": [],
   "source": []
  },
  {
   "cell_type": "code",
   "execution_count": null,
   "id": "96f6507b-8254-4ee5-b4e8-1119f0b2c23e",
   "metadata": {},
   "outputs": [],
   "source": []
  },
  {
   "cell_type": "code",
   "execution_count": null,
   "id": "7ac667d8-38f6-414d-9638-05f969a9a912",
   "metadata": {},
   "outputs": [],
   "source": []
  }
 ],
 "metadata": {
  "kernelspec": {
   "display_name": "Python 3 (ipykernel)",
   "language": "python",
   "name": "python3"
  },
  "language_info": {
   "codemirror_mode": {
    "name": "ipython",
    "version": 3
   },
   "file_extension": ".py",
   "mimetype": "text/x-python",
   "name": "python",
   "nbconvert_exporter": "python",
   "pygments_lexer": "ipython3",
   "version": "3.11.7"
  }
 },
 "nbformat": 4,
 "nbformat_minor": 5
}
