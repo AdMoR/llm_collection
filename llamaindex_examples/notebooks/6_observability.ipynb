{
 "cells": [
  {
   "cell_type": "code",
   "execution_count": null,
   "id": "906f7d83-b1d0-481d-a068-3eef7c5ca94e",
   "metadata": {},
   "outputs": [],
   "source": [
    "!pip install langfuse"
   ]
  },
  {
   "cell_type": "code",
   "execution_count": null,
   "id": "ea934343-8750-4185-ae1d-8f5257e016c1",
   "metadata": {},
   "outputs": [],
   "source": [
    "import sys\n",
    "import os \n",
    "import nest_asyncio\n",
    "\n",
    "# Sanity check\n",
    "print(sys.executable)\n",
    "nest_asyncio.apply()\n",
    "\n",
    "os.environ[\"LANGFUSE_SECRET_KEY\"]=\"sk-lf-305fb0a1-0d3f-4732-841a-baeed1abc7ff\"\n",
    "os.environ[\"LANGFUSE_PUBLIC_KEY\"]=\"pk-lf-b044ea0d-bbbb-4e59-9a38-b814356fde31\"\n",
    "os.environ[\"LANGFUSE_HOST\"]=\"https://cloud.langfuse.com\"\n",
    "\n",
    "\n",
    "from dotenv import load_dotenv\n",
    "load_dotenv() \n"
   ]
  },
  {
   "cell_type": "code",
   "execution_count": null,
   "id": "c36fd170-4d26-48b4-906a-4b655155dc6b",
   "metadata": {},
   "outputs": [],
   "source": [
    "import os\n",
    "from pydantic import BaseModel, Field\n",
    "from llama_index.core.workflow import (\n",
    "    Workflow,\n",
    "    step,\n",
    "    Event,\n",
    "    Context,\n",
    "    StartEvent,\n",
    "    StopEvent\n",
    ")\n",
    "from llama_index.llms.openai import OpenAI\n",
    "from llama_index.core import SimpleDirectoryReader\n",
    "from llama_index.core import (\n",
    "    SimpleDirectoryReader,\n",
    "    load_index_from_storage,\n",
    "    VectorStoreIndex,\n",
    "    StorageContext,\n",
    ")\n",
    "from llama_index.core.node_parser import SentenceSplitter\n",
    "from llama_index.retrievers.bm25 import BM25Retriever\n",
    "import Stemmer\n",
    "from llama_index.core import VectorStoreIndex, get_response_synthesizer\n",
    "from llama_index.core.retrievers import VectorIndexRetriever\n",
    "from llama_index.core.query_engine import RetrieverQueryEngine\n",
    "from langfuse.decorators import observe, langfuse_context"
   ]
  },
  {
   "cell_type": "code",
   "execution_count": null,
   "id": "fa5c5856-4fb8-48dd-936e-44d2aa27965f",
   "metadata": {},
   "outputs": [],
   "source": []
  },
  {
   "cell_type": "code",
   "execution_count": null,
   "id": "9f47a25f-739e-40ae-bd19-d85e7b619d41",
   "metadata": {},
   "outputs": [],
   "source": [
    "llm = OpenAI(temperature=0.05, model=\"gpt-4o-mini\")\n",
    "\n",
    "\n",
    "class EchoWorkflow(Workflow):\n",
    "    \"\"\"A dummy workflow with only one step sending back the input given.\"\"\"\n",
    "\n",
    "    @observe(capture_input=False)\n",
    "    @step()\n",
    "    async def run_step(self, ev: StartEvent) -> StopEvent:\n",
    "        langfuse_context.update_current_trace(\n",
    "            session_id=\"0000000\",\n",
    "            metadata={\"project\": \"very_important\"}\n",
    "        )\n",
    "        message = str(ev.get(\"message\", \"\"))\n",
    "        langfuse_context.update_current_observation(\n",
    "            input=message, \n",
    "        )\n",
    "        documents = SimpleDirectoryReader(\n",
    "            input_files=[\"../notebooks/paul_graham_essay.txt\"],\n",
    "        ).load_data()\n",
    "        splitter = SentenceSplitter(chunk_size=256)\n",
    "        nodes = splitter.get_nodes_from_documents(documents)\n",
    "        retriever_top_2 = BM25Retriever.from_defaults(\n",
    "            nodes=nodes,\n",
    "            similarity_top_k=2,\n",
    "            stemmer=Stemmer.Stemmer(\"english\"),\n",
    "            language=\"english\",\n",
    "        )\n",
    "        nodes = retriever_top_2.retrieve(message)\n",
    "        context = \"\\n \".join([x.text for x in nodes])\n",
    "        response = llm.complete(f\"Summarize this : {context}\")\n",
    "        return StopEvent(result=response.text)"
   ]
  },
  {
   "cell_type": "code",
   "execution_count": null,
   "id": "fb47c376-fec3-4e0d-a68c-929249c1d8db",
   "metadata": {},
   "outputs": [],
   "source": [
    "w = EchoWorkflow()\n",
    "r = await w.run(message=\"computer\")"
   ]
  },
  {
   "cell_type": "code",
   "execution_count": null,
   "id": "368c8a5e-9531-4dcd-9d4f-f4617a37f8d3",
   "metadata": {},
   "outputs": [],
   "source": [
    "r"
   ]
  },
  {
   "cell_type": "markdown",
   "id": "bdf61963-1576-40b1-9616-2c049e725924",
   "metadata": {},
   "source": [
    "## Get traces"
   ]
  },
  {
   "cell_type": "code",
   "execution_count": null,
   "id": "c6a2d752-2e56-417f-8038-4217a8b5d334",
   "metadata": {},
   "outputs": [],
   "source": [
    "import langfuse\n",
    "from langfuse import Langfuse\n",
    "\n",
    "langfuse = Langfuse()\n",
    "traces = langfuse.fetch_traces()\n",
    "traces.data[0]"
   ]
  },
  {
   "cell_type": "markdown",
   "id": "089dd506-150c-47e4-af61-fe93b9ebad34",
   "metadata": {},
   "source": [
    "## Get a dataset"
   ]
  },
  {
   "cell_type": "code",
   "execution_count": null,
   "id": "3f3d9bad-620e-43c1-99d2-0b3a90d4e7cd",
   "metadata": {},
   "outputs": [],
   "source": [
    "\n",
    "dataset = langfuse.get_dataset(\"MyDataset\")"
   ]
  },
  {
   "cell_type": "code",
   "execution_count": null,
   "id": "964d69bd-2eda-495b-9629-424b4aaa4c22",
   "metadata": {},
   "outputs": [],
   "source": [
    "dataset"
   ]
  },
  {
   "cell_type": "code",
   "execution_count": null,
   "id": "a4141068-da3d-48f5-a3bb-8d90bb894b5f",
   "metadata": {},
   "outputs": [],
   "source": [
    "for item in dataset.items:\n",
    "    if str(item.status) == \"DatasetStatus.ACTIVE\":\n",
    "        print(item.input, item.expected_output)"
   ]
  },
  {
   "cell_type": "code",
   "execution_count": null,
   "id": "813f1092-3dea-45d4-966a-25b5dbfdc004",
   "metadata": {},
   "outputs": [],
   "source": [
    "item.__dict__"
   ]
  },
  {
   "cell_type": "code",
   "execution_count": null,
   "id": "f28c4be0-95cb-4997-8cb1-570505954668",
   "metadata": {},
   "outputs": [],
   "source": []
  },
  {
   "cell_type": "markdown",
   "id": "8011e0d9-6054-404a-8394-9e4fd9dfe551",
   "metadata": {},
   "source": [
    "## A/B testing "
   ]
  },
  {
   "cell_type": "code",
   "execution_count": null,
   "id": "83085ac9-7ecc-4970-9944-19d2123742e7",
   "metadata": {},
   "outputs": [],
   "source": [
    "prompt = langfuse.get_prompt(\"JokeTemplate1\", version=1)\n",
    "compiled_prompt = prompt.compile(topic=\"cats\")\n",
    "\n",
    "compiled_prompt"
   ]
  },
  {
   "cell_type": "code",
   "execution_count": null,
   "id": "6676e11c-4078-4933-8e48-90d2d1e0a25b",
   "metadata": {},
   "outputs": [],
   "source": [
    "prompt = langfuse.get_prompt(\"JokeTemplate1\", version=2)\n",
    "compiled_prompt = prompt.compile(topic=\"cats\")\n",
    "\n",
    "compiled_prompt"
   ]
  },
  {
   "cell_type": "code",
   "execution_count": null,
   "id": "f57e73d1-454c-4053-b7df-d7b211530fe5",
   "metadata": {},
   "outputs": [],
   "source": []
  },
  {
   "cell_type": "code",
   "execution_count": null,
   "id": "eecc4c7f-b3c3-4001-89fb-7638fb576e5b",
   "metadata": {},
   "outputs": [],
   "source": []
  },
  {
   "cell_type": "code",
   "execution_count": null,
   "id": "b74224f4-da0e-42ab-9d21-80bfdb8c0d27",
   "metadata": {},
   "outputs": [],
   "source": []
  },
  {
   "cell_type": "code",
   "execution_count": null,
   "id": "c7ee187a-80ba-4ff8-a4ee-b65f43aac9da",
   "metadata": {},
   "outputs": [],
   "source": []
  }
 ],
 "metadata": {
  "kernelspec": {
   "display_name": "Python 3 (ipykernel)",
   "language": "python",
   "name": "python3"
  },
  "language_info": {
   "codemirror_mode": {
    "name": "ipython",
    "version": 3
   },
   "file_extension": ".py",
   "mimetype": "text/x-python",
   "name": "python",
   "nbconvert_exporter": "python",
   "pygments_lexer": "ipython3",
   "version": "3.10.13"
  }
 },
 "nbformat": 4,
 "nbformat_minor": 5
}
