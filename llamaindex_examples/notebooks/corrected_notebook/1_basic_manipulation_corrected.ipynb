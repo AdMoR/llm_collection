{
 "cells": [
  {
   "cell_type": "code",
   "execution_count": 1,
   "id": "e91a34e4-b24a-4dc9-a557-63e6cdd62598",
   "metadata": {
    "scrolled": true
   },
   "outputs": [
    {
     "data": {
      "text/plain": [
       "'\\n!pip install llama_index\\n!pip install llama-index-utils-workflow\\n!pip install llama-index-core\\n!pip install llama-index-retrievers-bm25\\n!pip install llama-index-llms-azure-openai\\n'"
      ]
     },
     "execution_count": 1,
     "metadata": {},
     "output_type": "execute_result"
    }
   ],
   "source": [
    "\"\"\"\n",
    "!pip install llama_index\n",
    "!pip install llama-index-utils-workflow\n",
    "!pip install llama-index-core\n",
    "!pip install llama-index-retrievers-bm25\n",
    "!pip install llama-index-llms-azure-openai\n",
    "\"\"\""
   ]
  },
  {
   "cell_type": "markdown",
   "id": "ac2e0b18-72e1-4ac7-be4e-a4d7131e9721",
   "metadata": {},
   "source": [
    "## Setting up calls to OpenAI"
   ]
  },
  {
   "cell_type": "code",
   "execution_count": null,
   "id": "5f782ae4-7e85-42c4-98a9-c57f8734b0f6",
   "metadata": {},
   "outputs": [],
   "source": []
  },
  {
   "cell_type": "code",
   "execution_count": null,
   "id": "5136c779-9f8f-427c-8312-f07fd93ea93a",
   "metadata": {},
   "outputs": [],
   "source": []
  },
  {
   "cell_type": "code",
   "execution_count": 2,
   "id": "f4edb8e8-0a5b-4624-9a8c-907fa2b32863",
   "metadata": {},
   "outputs": [
    {
     "name": "stdout",
     "output_type": "stream",
     "text": [
      "/Users/amorvan/Documents/code_dw/llm_collection/.venv/bin/python\n"
     ]
    },
    {
     "data": {
      "text/plain": [
       "'\\nOPENAI_API_MODEL_NAME = os.environ[\"OPENAI_API_MODEL_NAME\"]\\nOPENAI_DEV_KEY = os.environ[\"OPENAI_DEV_KEY\"]\\nOPENAI_API_TYPE = os.environ[\"OPENAI_API_TYPE\"]\\nOPENAI_API_VERSION = os.environ[\"OPENAI_API_VERSION\"]\\nOPENAI_API_BASE = os.environ[\"OPENAI_API_BASE\"]\\nOPENAI_MODEL_EMBEDDING = os.environ[\"OPENAI_MODEL_EMBEDDING\"]\\n'"
      ]
     },
     "execution_count": 2,
     "metadata": {},
     "output_type": "execute_result"
    }
   ],
   "source": [
    "import sys\n",
    "import os \n",
    "import nest_asyncio\n",
    "\n",
    "# Sanity check\n",
    "print(sys.executable)\n",
    "nest_asyncio.apply()\n",
    "\n",
    "\n",
    "\"\"\"\n",
    "OPENAI_API_MODEL_NAME = \"gpt-4o\"\n",
    "OPENAI_DEV_KEY = \"***************\"\n",
    "OPENAI_API_TYPE = \"azure\"\n",
    "OPENAI_API_VERSION = \"2023-03-15-preview\"\n",
    "OPENAI_API_BASE = \"https://*******.openai.azure.com/\"\n",
    "OPENAI_MODEL_EMBEDDING = \"text-embedding-ada-002\"\n",
    "\"\"\"\n",
    "\n",
    "from dotenv import load_dotenv\n",
    "load_dotenv() \n",
    "\n",
    "\"\"\"\n",
    "OPENAI_API_MODEL_NAME = os.environ[\"OPENAI_API_MODEL_NAME\"]\n",
    "OPENAI_DEV_KEY = os.environ[\"OPENAI_DEV_KEY\"]\n",
    "OPENAI_API_TYPE = os.environ[\"OPENAI_API_TYPE\"]\n",
    "OPENAI_API_VERSION = os.environ[\"OPENAI_API_VERSION\"]\n",
    "OPENAI_API_BASE = os.environ[\"OPENAI_API_BASE\"]\n",
    "OPENAI_MODEL_EMBEDDING = os.environ[\"OPENAI_MODEL_EMBEDDING\"]\n",
    "\"\"\"\n",
    "\n"
   ]
  },
  {
   "cell_type": "code",
   "execution_count": 3,
   "id": "b6b2cfa1-d14b-4746-83c7-82dc6ee8143c",
   "metadata": {},
   "outputs": [],
   "source": [
    "from llama_index.llms.azure_openai import AzureOpenAI\n",
    "from llama_index.llms.openai import OpenAI\n",
    "from llama_index.llms.azure_openai import AzureOpenAI\n",
    "from llama_index.embeddings.openai import OpenAIEmbedding\n",
    "from llama_index.core import Settings\n",
    "\n",
    "\n",
    "\n"
   ]
  },
  {
   "cell_type": "code",
   "execution_count": 4,
   "id": "df98aff9-194c-4baf-b82d-361a65b49ca0",
   "metadata": {},
   "outputs": [],
   "source": [
    "# Be careful to not load\n",
    "llm = OpenAI(model=\"gpt-4o-mini\", api_key=os.environ[\"OPENAI_API_KEY\"])\n"
   ]
  },
  {
   "cell_type": "code",
   "execution_count": 5,
   "id": "bdfa0921-e08b-40b1-9688-0c989cb2e338",
   "metadata": {},
   "outputs": [
    {
     "name": "stdout",
     "output_type": "stream",
     "text": [
      "Paul Graham is a prominent computer scientist, entrepreneur, and venture capitalist, best known for his work in the field of programming languages and for co-founding the startup accelerator Y Combinator. He is also recognized for his essays on technology, startups, and entrepreneurship, which have gained a significant following in the tech community. Graham co-authored the programming language Lisp dialect called Arc and has been influential in the development of various web technologies. His insights on startups and innovation have made him a respected figure in Silicon Valley.\n"
     ]
    }
   ],
   "source": [
    "response = llm.complete(\"Paul Graham is \")\n",
    "print(response)"
   ]
  },
  {
   "cell_type": "markdown",
   "id": "8dab28cf-101d-4d48-a6c3-46a5f68cba7e",
   "metadata": {},
   "source": [
    "## Your first Workflow"
   ]
  },
  {
   "cell_type": "code",
   "execution_count": 6,
   "id": "235d0994-8f38-4eb1-b1ef-3fa90538fc2c",
   "metadata": {},
   "outputs": [],
   "source": [
    "from llama_index.core.workflow import (\n",
    "    Workflow,\n",
    "    step,\n",
    "    Event,\n",
    "    Context,\n",
    "StartEvent, StopEvent\n",
    ")\n",
    "\n",
    "\n",
    "class MyWorkflow(Workflow):\n",
    "\n",
    "    @step\n",
    "    async def do_it(self, ev: StartEvent) -> StopEvent:\n",
    "        return StopEvent(result=\"coucou 2\")\n",
    "        \n",
    "\n"
   ]
  },
  {
   "cell_type": "code",
   "execution_count": 7,
   "id": "e36a7895-a9bb-4fe0-b3e3-69db4d7f8d62",
   "metadata": {},
   "outputs": [
    {
     "name": "stdout",
     "output_type": "stream",
     "text": [
      "<class 'NoneType'>\n",
      "<class 'llama_index.core.workflow.events.StopEvent'>\n",
      "basic_workflow.html\n"
     ]
    }
   ],
   "source": [
    "from llama_index.utils.workflow import draw_all_possible_flows\n",
    "\n",
    "draw_all_possible_flows(MyWorkflow, filename=\"basic_workflow.html\")"
   ]
  },
  {
   "cell_type": "code",
   "execution_count": 8,
   "id": "fa6fb2c9-1554-4f93-a0bd-8ad862163f92",
   "metadata": {},
   "outputs": [],
   "source": [
    "w = MyWorkflow()\n",
    "\n",
    "r = await w.run()"
   ]
  },
  {
   "cell_type": "code",
   "execution_count": 9,
   "id": "9fc7115f-5cc5-4101-adbf-af057ec8692f",
   "metadata": {},
   "outputs": [
    {
     "data": {
      "text/plain": [
       "'coucou 2'"
      ]
     },
     "execution_count": 9,
     "metadata": {},
     "output_type": "execute_result"
    }
   ],
   "source": [
    "r"
   ]
  },
  {
   "cell_type": "code",
   "execution_count": null,
   "id": "eff3d0bc-1754-4900-9a9d-4849b755d444",
   "metadata": {},
   "outputs": [],
   "source": []
  },
  {
   "cell_type": "markdown",
   "id": "98053d27-4fb3-4baf-8c02-e238b189e5eb",
   "metadata": {},
   "source": [
    "## Exercise : \n",
    "\n",
    "### Make a workflow that answers the query of a user\n",
    "\n",
    "User : What is an Ipod\n",
    "\n",
    "```python\n",
    "w = MyCustomWorkflow()\n",
    "result = await w.run()\n",
    "print(result)\n",
    "```\n",
    "\"An ipod is ....\"\n"
   ]
  },
  {
   "cell_type": "code",
   "execution_count": 10,
   "id": "226899f6-8590-4471-976d-d7bf4a034c0e",
   "metadata": {},
   "outputs": [],
   "source": [
    "\n",
    "class MyCustomWorkflow(Workflow):\n",
    "\n",
    "    @step\n",
    "    async def answer(self, ev: StartEvent) -> StopEvent:\n",
    "        question = ev.message\n",
    "        answer = llm.complete(f\"Answer this user question : {question}\")\n",
    "        return StopEvent(result=answer)\n",
    "        \n",
    "\n"
   ]
  },
  {
   "cell_type": "code",
   "execution_count": 11,
   "id": "30a4f1b1-0d3a-457a-b50d-3f146dc3956c",
   "metadata": {},
   "outputs": [
    {
     "name": "stdout",
     "output_type": "stream",
     "text": [
      "An iPod is a portable media player designed and marketed by Apple Inc. It was first introduced in 2001 and became popular for its ability to store and play music, as well as other media such as videos and podcasts. Over the years, several models of the iPod have been released, including the iPod Classic, iPod Mini, iPod Nano, iPod Shuffle, and iPod Touch. \n",
      "\n",
      "The iPod Touch, in particular, functions similarly to an iPhone but without cellular capabilities, allowing users to access apps, browse the internet, and play games in addition to listening to music. The iPod line has significantly influenced the way people consume music and has played a key role in the rise of digital music. However, with the advent of smartphones and streaming services, the popularity of standalone iPods has declined, and Apple officially discontinued the iPod Touch in 2022.\n"
     ]
    }
   ],
   "source": [
    "user_query = \"What is an Ipod\"\n",
    "\n",
    "w = MyCustomWorkflow()\n",
    "result = await w.run(message=user_query)\n",
    "print(result)"
   ]
  },
  {
   "cell_type": "code",
   "execution_count": null,
   "id": "be9b26e4-4fd9-4c2f-b997-b020df0318cb",
   "metadata": {},
   "outputs": [],
   "source": []
  },
  {
   "cell_type": "code",
   "execution_count": null,
   "id": "0a3d315b-7b1e-43a5-9e2d-bc94bc6e6746",
   "metadata": {},
   "outputs": [],
   "source": []
  },
  {
   "cell_type": "code",
   "execution_count": null,
   "id": "64d35571-55c8-4969-9545-97a0d5f7a963",
   "metadata": {},
   "outputs": [],
   "source": []
  },
  {
   "cell_type": "markdown",
   "id": "9fce5af8-2271-4262-988c-fd58ed68ba34",
   "metadata": {},
   "source": [
    "### A more complex worflow\n",
    "\n",
    "Answer in two steps : \n",
    "- Find the answer of the question\n",
    "- Transform it into a poem\n",
    "\n",
    "Use a prompt template for it.\n"
   ]
  },
  {
   "cell_type": "code",
   "execution_count": 12,
   "id": "57e5f7d6-4556-4a54-829d-609fc4831015",
   "metadata": {},
   "outputs": [],
   "source": [
    "from llama_index.core import PromptTemplate\n",
    "\n",
    "\n",
    "class AnswerEvent(Event):\n",
    "    pass\n",
    "\n",
    "\n",
    "\n",
    "class MyNewWorkflow(Workflow):\n",
    "\n",
    "    @step\n",
    "    async def step_a(self, ev: StartEvent) -> AnswerEvent:\n",
    "        question = ev.message\n",
    "        answer = llm.complete(f\"Answer this user question : {question}\")\n",
    "        return AnswerEvent(result=answer)\n",
    "\n",
    "\n",
    "    @step\n",
    "    async def step_b(self, ev: AnswerEvent) -> StopEvent:\n",
    "        result = ev.result\n",
    "        poem = llm.complete(f\"Make this text a poem :  {result}\")\n",
    "        return StopEvent(result=poem)\n",
    "        \n",
    "        \n",
    "\n"
   ]
  },
  {
   "cell_type": "code",
   "execution_count": 13,
   "id": "1e6dbd81-dddf-47f5-a1b8-5aad987b8262",
   "metadata": {},
   "outputs": [
    {
     "name": "stdout",
     "output_type": "stream",
     "text": [
      "In two thousand one, a marvel was born,  \n",
      "An iPod emerged, a new age was sworn.  \n",
      "A portable player, sleek and refined,  \n",
      "By Apple Inc., a treasure to find.  \n",
      "\n",
      "With music and videos, it captured the heart,  \n",
      "A world of sound, a digital art.  \n",
      "From Classic to Nano, each model a gem,  \n",
      "A journey through time, a musical hymn.  \n",
      "\n",
      "The Classic held memories, a hard drive so vast,  \n",
      "While Nano was nimble, a flash player cast.  \n",
      "The Shuffle, so compact, with no screen to see,  \n",
      "And Touch, like an iPhone, with apps set free.  \n",
      "\n",
      "Though smartphones now reign, the iPod still glows,  \n",
      "A chapter in history, where nostalgia flows.  \n",
      "In twenty-two, the Touch took its bow,  \n",
      "The end of an era, we cherish it now.  \n",
      "\n",
      "So here’s to the iPod, a legend in sound,  \n",
      "In the heart of our music, its spirit is found.  \n",
      "Though times may have changed, and new paths we tread,  \n",
      "The echoes of iPods will never be dead.  \n"
     ]
    }
   ],
   "source": [
    "user_query = \"What is an Ipod\"\n",
    "\n",
    "w = MyNewWorkflow()\n",
    "result = await w.run(message=user_query)\n",
    "print(result)"
   ]
  },
  {
   "cell_type": "code",
   "execution_count": null,
   "id": "8d6a93dd-1760-4c96-9791-3b4d9c3732b9",
   "metadata": {},
   "outputs": [],
   "source": []
  },
  {
   "cell_type": "code",
   "execution_count": null,
   "id": "9dc01af1-45f4-44db-b75e-4480c226a6fb",
   "metadata": {},
   "outputs": [],
   "source": []
  }
 ],
 "metadata": {
  "kernelspec": {
   "display_name": "Python 3 (ipykernel)",
   "language": "python",
   "name": "python3"
  },
  "language_info": {
   "codemirror_mode": {
    "name": "ipython",
    "version": 3
   },
   "file_extension": ".py",
   "mimetype": "text/x-python",
   "name": "python",
   "nbconvert_exporter": "python",
   "pygments_lexer": "ipython3",
   "version": "3.10.13"
  }
 },
 "nbformat": 4,
 "nbformat_minor": 5
}
