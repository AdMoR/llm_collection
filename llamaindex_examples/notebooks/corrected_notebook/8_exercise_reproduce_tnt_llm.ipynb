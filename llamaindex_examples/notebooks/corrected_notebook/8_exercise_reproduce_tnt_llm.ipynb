{
 "cells": [
  {
   "cell_type": "markdown",
   "id": "25d24d84-1993-4d7a-8a8a-9da49aaa9964",
   "metadata": {
    "pycharm": {
     "name": "#%% md\n"
    }
   },
   "source": [
    "# TNT LLM - Text mining at scale\n",
    "\n",
    "In this notebook, we propose to review step by step the code proposed in this [documentation article](https://langchain-ai.github.io/langgraph/tutorials/tnt-llm/tnt-llm/#3a-taxonomy-generation-utilities)\n",
    "\n",
    "The LLM worklfow is composed of several step in order to build a **taxonomy** from a base of unlabeled free-text.\n",
    "    \n",
    "![image](data:image/jpg;base64,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)\n"
   ]
  },
  {
   "cell_type": "code",
   "execution_count": 2,
   "id": "07d08750-3b8e-4af6-ac2d-cbf8528c8508",
   "metadata": {
    "pycharm": {
     "name": "#%%\n"
    }
   },
   "outputs": [
    {
     "name": "stdout",
     "output_type": "stream",
     "text": [
      "Requirement already satisfied: langchain in /Users/amorvan/Documents/code_dw/llm_collection/venv/lib/python3.13/site-packages (0.3.13)\r\n",
      "Requirement already satisfied: PyYAML>=5.3 in /Users/amorvan/Documents/code_dw/llm_collection/venv/lib/python3.13/site-packages (from langchain) (6.0.2)\r\n",
      "Requirement already satisfied: SQLAlchemy<3,>=1.4 in /Users/amorvan/Documents/code_dw/llm_collection/venv/lib/python3.13/site-packages (from langchain) (2.0.36)\r\n",
      "Requirement already satisfied: aiohttp<4.0.0,>=3.8.3 in /Users/amorvan/Documents/code_dw/llm_collection/venv/lib/python3.13/site-packages (from langchain) (3.11.9)\r\n",
      "Requirement already satisfied: langchain-core<0.4.0,>=0.3.26 in /Users/amorvan/Documents/code_dw/llm_collection/venv/lib/python3.13/site-packages (from langchain) (0.3.28)\r\n",
      "Requirement already satisfied: langchain-text-splitters<0.4.0,>=0.3.3 in /Users/amorvan/Documents/code_dw/llm_collection/venv/lib/python3.13/site-packages (from langchain) (0.3.4)\r\n",
      "Requirement already satisfied: langsmith<0.3,>=0.1.17 in /Users/amorvan/Documents/code_dw/llm_collection/venv/lib/python3.13/site-packages (from langchain) (0.2.4)\r\n",
      "Requirement already satisfied: numpy<3,>=1.26.2 in /Users/amorvan/Documents/code_dw/llm_collection/venv/lib/python3.13/site-packages (from langchain) (2.1.3)\r\n",
      "Requirement already satisfied: pydantic<3.0.0,>=2.7.4 in /Users/amorvan/Documents/code_dw/llm_collection/venv/lib/python3.13/site-packages (from langchain) (2.9.2)\r\n",
      "Requirement already satisfied: requests<3,>=2 in /Users/amorvan/Documents/code_dw/llm_collection/venv/lib/python3.13/site-packages (from langchain) (2.32.3)\r\n",
      "Requirement already satisfied: tenacity!=8.4.0,<10,>=8.1.0 in /Users/amorvan/Documents/code_dw/llm_collection/venv/lib/python3.13/site-packages (from langchain) (8.5.0)\r\n",
      "Requirement already satisfied: aiohappyeyeballs>=2.3.0 in /Users/amorvan/Documents/code_dw/llm_collection/venv/lib/python3.13/site-packages (from aiohttp<4.0.0,>=3.8.3->langchain) (2.4.4)\r\n",
      "Requirement already satisfied: aiosignal>=1.1.2 in /Users/amorvan/Documents/code_dw/llm_collection/venv/lib/python3.13/site-packages (from aiohttp<4.0.0,>=3.8.3->langchain) (1.3.1)\r\n",
      "Requirement already satisfied: attrs>=17.3.0 in /Users/amorvan/Documents/code_dw/llm_collection/venv/lib/python3.13/site-packages (from aiohttp<4.0.0,>=3.8.3->langchain) (24.2.0)\r\n",
      "Requirement already satisfied: frozenlist>=1.1.1 in /Users/amorvan/Documents/code_dw/llm_collection/venv/lib/python3.13/site-packages (from aiohttp<4.0.0,>=3.8.3->langchain) (1.5.0)\r\n",
      "Requirement already satisfied: multidict<7.0,>=4.5 in /Users/amorvan/Documents/code_dw/llm_collection/venv/lib/python3.13/site-packages (from aiohttp<4.0.0,>=3.8.3->langchain) (6.1.0)\r\n",
      "Requirement already satisfied: propcache>=0.2.0 in /Users/amorvan/Documents/code_dw/llm_collection/venv/lib/python3.13/site-packages (from aiohttp<4.0.0,>=3.8.3->langchain) (0.2.1)\r\n",
      "Requirement already satisfied: yarl<2.0,>=1.17.0 in /Users/amorvan/Documents/code_dw/llm_collection/venv/lib/python3.13/site-packages (from aiohttp<4.0.0,>=3.8.3->langchain) (1.18.3)\r\n",
      "Requirement already satisfied: jsonpatch<2.0,>=1.33 in /Users/amorvan/Documents/code_dw/llm_collection/venv/lib/python3.13/site-packages (from langchain-core<0.4.0,>=0.3.26->langchain) (1.33)\r\n",
      "Requirement already satisfied: packaging<25,>=23.2 in /Users/amorvan/Documents/code_dw/llm_collection/venv/lib/python3.13/site-packages (from langchain-core<0.4.0,>=0.3.26->langchain) (24.2)\r\n",
      "Requirement already satisfied: typing-extensions>=4.7 in /Users/amorvan/Documents/code_dw/llm_collection/venv/lib/python3.13/site-packages (from langchain-core<0.4.0,>=0.3.26->langchain) (4.12.2)\r\n",
      "Requirement already satisfied: httpx<1,>=0.23.0 in /Users/amorvan/Documents/code_dw/llm_collection/venv/lib/python3.13/site-packages (from langsmith<0.3,>=0.1.17->langchain) (0.28.0)\r\n",
      "Requirement already satisfied: orjson<4.0.0,>=3.9.14 in /Users/amorvan/Documents/code_dw/llm_collection/venv/lib/python3.13/site-packages (from langsmith<0.3,>=0.1.17->langchain) (3.10.12)\r\n",
      "Requirement already satisfied: requests-toolbelt<2.0.0,>=1.0.0 in /Users/amorvan/Documents/code_dw/llm_collection/venv/lib/python3.13/site-packages (from langsmith<0.3,>=0.1.17->langchain) (1.0.0)\r\n",
      "Requirement already satisfied: annotated-types>=0.6.0 in /Users/amorvan/Documents/code_dw/llm_collection/venv/lib/python3.13/site-packages (from pydantic<3.0.0,>=2.7.4->langchain) (0.7.0)\r\n",
      "Requirement already satisfied: pydantic-core==2.23.4 in /Users/amorvan/Documents/code_dw/llm_collection/venv/lib/python3.13/site-packages (from pydantic<3.0.0,>=2.7.4->langchain) (2.23.4)\r\n",
      "Requirement already satisfied: charset-normalizer<4,>=2 in /Users/amorvan/Documents/code_dw/llm_collection/venv/lib/python3.13/site-packages (from requests<3,>=2->langchain) (3.4.0)\r\n",
      "Requirement already satisfied: idna<4,>=2.5 in /Users/amorvan/Documents/code_dw/llm_collection/venv/lib/python3.13/site-packages (from requests<3,>=2->langchain) (3.10)\r\n",
      "Requirement already satisfied: urllib3<3,>=1.21.1 in /Users/amorvan/Documents/code_dw/llm_collection/venv/lib/python3.13/site-packages (from requests<3,>=2->langchain) (2.2.3)\r\n",
      "Requirement already satisfied: certifi>=2017.4.17 in /Users/amorvan/Documents/code_dw/llm_collection/venv/lib/python3.13/site-packages (from requests<3,>=2->langchain) (2024.8.30)\r\n",
      "Requirement already satisfied: anyio in /Users/amorvan/Documents/code_dw/llm_collection/venv/lib/python3.13/site-packages (from httpx<1,>=0.23.0->langsmith<0.3,>=0.1.17->langchain) (4.6.2.post1)\r\n",
      "Requirement already satisfied: httpcore==1.* in /Users/amorvan/Documents/code_dw/llm_collection/venv/lib/python3.13/site-packages (from httpx<1,>=0.23.0->langsmith<0.3,>=0.1.17->langchain) (1.0.7)\r\n",
      "Requirement already satisfied: h11<0.15,>=0.13 in /Users/amorvan/Documents/code_dw/llm_collection/venv/lib/python3.13/site-packages (from httpcore==1.*->httpx<1,>=0.23.0->langsmith<0.3,>=0.1.17->langchain) (0.14.0)\r\n",
      "Requirement already satisfied: jsonpointer>=1.9 in /Users/amorvan/Documents/code_dw/llm_collection/venv/lib/python3.13/site-packages (from jsonpatch<2.0,>=1.33->langchain-core<0.4.0,>=0.3.26->langchain) (3.0.0)\r\n",
      "Requirement already satisfied: sniffio>=1.1 in /Users/amorvan/Documents/code_dw/llm_collection/venv/lib/python3.13/site-packages (from anyio->httpx<1,>=0.23.0->langsmith<0.3,>=0.1.17->langchain) (1.3.1)\r\n",
      "\r\n",
      "\u001b[1m[\u001b[0m\u001b[34;49mnotice\u001b[0m\u001b[1;39;49m]\u001b[0m\u001b[39;49m A new release of pip is available: \u001b[0m\u001b[31;49m24.2\u001b[0m\u001b[39;49m -> \u001b[0m\u001b[32;49m24.3.1\u001b[0m\r\n",
      "\u001b[1m[\u001b[0m\u001b[34;49mnotice\u001b[0m\u001b[1;39;49m]\u001b[0m\u001b[39;49m To update, run: \u001b[0m\u001b[32;49mpip install --upgrade pip\u001b[0m\r\n",
      "Collecting boto3\r\n",
      "  Downloading boto3-1.35.96-py3-none-any.whl.metadata (6.7 kB)\r\n",
      "Collecting botocore<1.36.0,>=1.35.96 (from boto3)\r\n",
      "  Downloading botocore-1.35.96-py3-none-any.whl.metadata (5.7 kB)\r\n",
      "Collecting jmespath<2.0.0,>=0.7.1 (from boto3)\r\n",
      "  Using cached jmespath-1.0.1-py3-none-any.whl.metadata (7.6 kB)\r\n",
      "Collecting s3transfer<0.11.0,>=0.10.0 (from boto3)\r\n",
      "  Using cached s3transfer-0.10.4-py3-none-any.whl.metadata (1.7 kB)\r\n",
      "Requirement already satisfied: python-dateutil<3.0.0,>=2.1 in /Users/amorvan/Documents/code_dw/llm_collection/venv/lib/python3.13/site-packages (from botocore<1.36.0,>=1.35.96->boto3) (2.9.0.post0)\r\n",
      "Requirement already satisfied: urllib3!=2.2.0,<3,>=1.25.4 in /Users/amorvan/Documents/code_dw/llm_collection/venv/lib/python3.13/site-packages (from botocore<1.36.0,>=1.35.96->boto3) (2.2.3)\r\n",
      "Requirement already satisfied: six>=1.5 in /Users/amorvan/Documents/code_dw/llm_collection/venv/lib/python3.13/site-packages (from python-dateutil<3.0.0,>=2.1->botocore<1.36.0,>=1.35.96->boto3) (1.16.0)\r\n",
      "Downloading boto3-1.35.96-py3-none-any.whl (139 kB)\r\n",
      "Downloading botocore-1.35.96-py3-none-any.whl (13.3 MB)\r\n",
      "\u001b[2K   \u001b[90m━━━━━━━━━━━━━━━━━━━━━━━━━━━━━━━━━━━━━━━━\u001b[0m \u001b[32m13.3/13.3 MB\u001b[0m \u001b[31m7.9 MB/s\u001b[0m eta \u001b[36m0:00:00\u001b[0ma \u001b[36m0:00:01\u001b[0m\r\n",
      "\u001b[?25hUsing cached jmespath-1.0.1-py3-none-any.whl (20 kB)\r\n",
      "Using cached s3transfer-0.10.4-py3-none-any.whl (83 kB)\r\n",
      "Installing collected packages: jmespath, botocore, s3transfer, boto3\r\n",
      "Successfully installed boto3-1.35.96 botocore-1.35.96 jmespath-1.0.1 s3transfer-0.10.4\r\n",
      "\r\n",
      "\u001b[1m[\u001b[0m\u001b[34;49mnotice\u001b[0m\u001b[1;39;49m]\u001b[0m\u001b[39;49m A new release of pip is available: \u001b[0m\u001b[31;49m24.2\u001b[0m\u001b[39;49m -> \u001b[0m\u001b[32;49m24.3.1\u001b[0m\r\n",
      "\u001b[1m[\u001b[0m\u001b[34;49mnotice\u001b[0m\u001b[1;39;49m]\u001b[0m\u001b[39;49m To update, run: \u001b[0m\u001b[32;49mpip install --upgrade pip\u001b[0m\r\n"
     ]
    }
   ],
   "source": [
    "!pip install langchain\n",
    "!pip install boto3"
   ]
  },
  {
   "cell_type": "code",
   "execution_count": 1,
   "id": "c31f89a4-9f59-460f-b86c-9b998f5b8cc8",
   "metadata": {
    "pycharm": {
     "name": "#%%\n"
    }
   },
   "outputs": [
    {
     "name": "stdout",
     "output_type": "stream",
     "text": [
      "/Users/amorvan/Documents/code_dw/llm_collection/venv/bin/python3.13\n"
     ]
    }
   ],
   "source": [
    "import sys\n",
    "import os \n",
    "import nest_asyncio\n",
    "\n",
    "# Sanity check\n",
    "print(sys.executable)\n",
    "nest_asyncio.apply()\n",
    "\n",
    "#os.environ[\"OPENAI_API_KEY\"] = \"sk-\"\n",
    "#os.environ[\n",
    "#    \"AZURE_OPENAI_ENDPOINT\"\n",
    "#] = \"https://<your-resource-name>.openai.azure.com/\"\n",
    "#os.environ[\"OPENAI_API_VERSION\"] = \"2023-07-01-preview\"\n",
    "\n",
    "import base64\n",
    "import json\n",
    "import boto3\n",
    "import jwt\n",
    "from botocore.exceptions import ClientError\n",
    "\n",
    "\n",
    "\n",
    "\n",
    "OPENAI_API_MODEL_NAME = [\"gpt-4-32k\", \"gpt-4\", \"gpt-4o\"]\n",
    "OPENAI_DEV_KEY = \"***************\"\n",
    "OPENAI_API_TYPE = \"azure\"\n",
    "OPENAI_API_VERSION = \"2023-03-15-preview\"\n",
    "OPENAI_API_BASE = \"https://*******.openai.azure.com/\"\n",
    "OPENAI_MODEL_EMBEDDING = \"text-embedding-ada-002\"\n",
    "\n"
   ]
  },
  {
   "cell_type": "code",
   "execution_count": 2,
   "id": "e8675691-f3ae-426b-8ec6-cb358b1e068f",
   "metadata": {
    "pycharm": {
     "name": "#%%\n"
    }
   },
   "outputs": [],
   "source": [
    "from llama_index.llms.openai import OpenAI\n",
    "from llama_index.llms.azure_openai import AzureOpenAI\n",
    "from llama_index.embeddings.openai import OpenAIEmbedding\n",
    "from llama_index.core import Settings\n",
    "\n",
    "temperature = 0\n",
    "model_name=\"gpt-4o\"\n",
    "llm = AzureOpenAI(\n",
    "        engine=model_name,\n",
    "        model=model_name,\n",
    "        api_key=OPENAI_DEV_KEY,\n",
    "        azure_endpoint=OPENAI_API_BASE,\n",
    "        api_version=OPENAI_API_VERSION,\n",
    "        temperature=temperature,\n",
    "    )"
   ]
  },
  {
   "cell_type": "code",
   "execution_count": 3,
   "id": "d48ed832",
   "metadata": {
    "collapsed": false,
    "jupyter": {
     "outputs_hidden": false
    },
    "pycharm": {
     "name": "#%%\n"
    }
   },
   "outputs": [
    {
     "data": {
      "text/plain": [
       "CompletionResponse(text='Hello! How can I assist you today?', additional_kwargs={}, raw=ChatCompletion(id='chatcmpl-Ao62PunWHq4VlkEiH4YIkCjTtmxyw', choices=[Choice(finish_reason='stop', index=0, logprobs=None, message=ChatCompletionMessage(content='Hello! How can I assist you today?', refusal=None, role='assistant', audio=None, function_call=None, tool_calls=None))], created=1736502973, model='gpt-4', object='chat.completion', service_tier=None, system_fingerprint=None, usage=CompletionUsage(completion_tokens=9, prompt_tokens=8, total_tokens=17, completion_tokens_details=None, prompt_tokens_details=None)), logprobs=None, delta=None)"
      ]
     },
     "execution_count": 3,
     "metadata": {},
     "output_type": "execute_result"
    }
   ],
   "source": [
    "llm.complete(\"Hello\")"
   ]
  },
  {
   "cell_type": "code",
   "execution_count": 4,
   "id": "9a470763-3dd3-41c4-adec-b8574a837cad",
   "metadata": {
    "pycharm": {
     "name": "#%%\n"
    }
   },
   "outputs": [],
   "source": [
    "import os, re\n",
    "from pydantic import BaseModel, Field\n",
    "from llama_index.core.workflow import (\n",
    "    Workflow,\n",
    "    step,\n",
    "    Event,\n",
    "    Context,\n",
    "    StartEvent,\n",
    "    StopEvent\n",
    ")\n",
    "from llama_index.core.llms import ChatMessage, MessageRole\n",
    "from llama_index.core import ChatPromptTemplate\n",
    "from llama_index.llms.openai import OpenAI\n",
    "from llama_index.core import SimpleDirectoryReader\n",
    "from llama_index.core import (\n",
    "    SimpleDirectoryReader,\n",
    "    load_index_from_storage,\n",
    "    VectorStoreIndex,\n",
    "    StorageContext,\n",
    ")\n",
    "from llama_index.core.node_parser import SentenceSplitter\n",
    "from llama_index.retrievers.bm25 import BM25Retriever\n",
    "import Stemmer\n",
    "from llama_index.core import VectorStoreIndex, get_response_synthesizer\n",
    "from llama_index.core.retrievers import VectorIndexRetriever\n",
    "from llama_index.core.query_engine import RetrieverQueryEngine\n",
    "from llama_index.core.postprocessor import LLMRerank\n",
    "from llama_index.core.evaluation import FaithfulnessEvaluator"
   ]
  },
  {
   "cell_type": "markdown",
   "id": "d509748d-5d87-46e4-a558-ce2fd254accd",
   "metadata": {
    "pycharm": {
     "name": "#%% md\n"
    }
   },
   "source": [
    "### How to do efficiently a map reduce with LLamaIndex ? \n",
    "\n",
    "1 - The Workflow is a subworkflow with only 1 update operation\n",
    "\n",
    "The recursion pattern would be \n",
    "\n",
    "- `S_n` is the current taxonomy at step N\n",
    "- I have the set of documents `D_n`\n",
    "- I map the documents into summaries\n",
    "- The reduce is the transformation of summaries into a step taxonomy `t_n`\n",
    "\n",
    " The taxonomy update could be done outside of the workflow `S_n+1 = f(S_n, t_n)`\n",
    "\n",
    "\n",
    "\n"
   ]
  },
  {
   "cell_type": "code",
   "execution_count": null,
   "id": "6fed409d-2e1e-4172-82b3-5582c9e1e291",
   "metadata": {
    "pycharm": {
     "name": "#%%\n"
    }
   },
   "outputs": [],
   "source": []
  },
  {
   "cell_type": "markdown",
   "id": "3102271b-2370-4392-85dc-19d20b353a1b",
   "metadata": {
    "pycharm": {
     "name": "#%% md\n"
    }
   },
   "source": [
    "## Part 1 - Build your first (empty) MapReduce Workflow\n",
    "\n",
    "You need : \n",
    "- a step that emits the tasks **map_dataset**\n",
    "- A step that maps a given record **map_fn**\n",
    "- A step that reduces the received MappedResult : **reduce**\n",
    "\n",
    "\n",
    "Useful function \n",
    "- `ctx.send_event( ev )`\n",
    "- `ctx.collect_events( ev, ExpectEventtList )`\n",
    "- `ctx.set(VAR_NAME, value)` and `value = await ctx.get(VAR_NAME)`\n",
    "\n",
    "\n"
   ]
  },
  {
   "cell_type": "code",
   "execution_count": 5,
   "id": "b2f0ad94-e2f8-419e-a83c-fb5cfb8008a4",
   "metadata": {
    "pycharm": {
     "name": "#%%\n"
    }
   },
   "outputs": [],
   "source": [
    "class MapEvent(Event):\n",
    "    text: str\n",
    "\n",
    "class SummaryEvent(Event):\n",
    "    summary: str\n",
    "\n",
    "\n",
    "class DummyBatchTaxnomyWorkflow(Workflow):\n",
    "\n",
    "    @step\n",
    "    async def map_dataset(self, ctx: Context, ev: StartEvent) -> MapEvent:\n",
    "        batch_size = 10\n",
    "        _ = await ctx.set(\"batch_size\", batch_size)\n",
    "        for _ in range(batch_size):\n",
    "            ctx.send_event(MapEvent(text=\"coucou\"))\n",
    "\n",
    "    @step\n",
    "    async def map_fn(self, ev: MapEvent) -> SummaryEvent:\n",
    "        return SummaryEvent(summary=\"Coucou\")\n",
    "\n",
    "    @step\n",
    "    async def reduce(self, ctx: Context, ev: SummaryEvent) -> StopEvent:\n",
    "        batch_size = await ctx.get(\"batch_size\")\n",
    "        result = ctx.collect_events(ev, [SummaryEvent] * batch_size)\n",
    "        if result is None:\n",
    "            return None\n",
    "        return StopEvent(result=\"\"\"<cluster_table>\n",
    "              <cluster>\n",
    "                <id>1</id>\n",
    "                <name>Product Quality and Preference</name>\n",
    "                <description>Focuses on the quality of pet food and specific preferences of pets regarding the product.</description>\n",
    "              </cluster>\n",
    "              <cluster>\n",
    "                <id>2</id>\n",
    "                <name>Product Mislabeling Issues</name>\n",
    "                <description>Addresses discrepancies in product labeling, including size and type mismatches, leading to customer confusion.</description>\n",
    "              </cluster>\n",
    "            </cluster_table>\"\"\"\n",
    "            )\n",
    "\n",
    "\n",
    "\n",
    "        \n"
   ]
  },
  {
   "cell_type": "code",
   "execution_count": 6,
   "id": "153dd603-d75c-434c-88fc-d62fa3d24bcb",
   "metadata": {
    "pycharm": {
     "name": "#%%\n"
    }
   },
   "outputs": [
    {
     "name": "stdout",
     "output_type": "stream",
     "text": [
      "<class 'NoneType'>\n",
      "<class '__main__.MapEvent'>\n",
      "<class '__main__.SummaryEvent'>\n",
      "<class 'llama_index.core.workflow.events.StopEvent'>\n",
      "batch_workflow.html\n"
     ]
    }
   ],
   "source": [
    "from llama_index.utils.workflow import draw_all_possible_flows\n",
    "\n",
    "draw_all_possible_flows(DummyBatchTaxnomyWorkflow, filename=\"batch_workflow.html\")"
   ]
  },
  {
   "cell_type": "code",
   "execution_count": 7,
   "id": "0d96d7a2-1f4c-4d6e-a3ba-2824d3052943",
   "metadata": {
    "pycharm": {
     "name": "#%%\n"
    }
   },
   "outputs": [
    {
     "data": {
      "text/plain": [
       "'<cluster_table>\\n              <cluster>\\n                <id>1</id>\\n                <name>Product Quality and Preference</name>\\n                <description>Focuses on the quality of pet food and specific preferences of pets regarding the product.</description>\\n              </cluster>\\n              <cluster>\\n                <id>2</id>\\n                <name>Product Mislabeling Issues</name>\\n                <description>Addresses discrepancies in product labeling, including size and type mismatches, leading to customer confusion.</description>\\n              </cluster>\\n            </cluster_table>'"
      ]
     },
     "execution_count": 7,
     "metadata": {},
     "output_type": "execute_result"
    }
   ],
   "source": [
    "w = DummyBatchTaxnomyWorkflow()\n",
    "r = await w.run(message=\"ok\")\n",
    "r"
   ]
  },
  {
   "cell_type": "code",
   "execution_count": null,
   "id": "58143c89-bf62-4ed1-8dfb-343cd33e4696",
   "metadata": {
    "pycharm": {
     "name": "#%%\n"
    }
   },
   "outputs": [],
   "source": []
  },
  {
   "cell_type": "code",
   "execution_count": null,
   "id": "b8ae63c1-cfa4-4344-9b9f-27cf4b22c979",
   "metadata": {
    "pycharm": {
     "name": "#%%\n"
    }
   },
   "outputs": [],
   "source": []
  },
  {
   "cell_type": "markdown",
   "id": "1ddafe5b-be91-4bc3-b4b8-257d14008a0f",
   "metadata": {
    "pycharm": {
     "name": "#%% md\n"
    }
   },
   "source": [
    "## Part 2 - Adapt the workflow for the use case\n",
    "\n",
    "todo : \n",
    "- Handle the batch size dynamically\n",
    "- Adapt the input to be a list of text\n",
    "- Load the prompt templates\n",
    "- Parse the result\n",
    "\n",
    "\n",
    "\n",
    "\n",
    "\n"
   ]
  },
  {
   "cell_type": "code",
   "execution_count": 88,
   "id": "20e2ce43-4a2d-4e30-8eb5-c401611e0994",
   "metadata": {
    "pycharm": {
     "name": "#%%\n"
    }
   },
   "outputs": [
    {
     "data": {
      "text/plain": [
       "ChatPromptTemplate(metadata={'prompt_type': <PromptType.CUSTOM: 'custom'>}, template_vars=['content', 'summary_length', 'explanation_length'], kwargs={}, output_parser=None, template_var_mappings=None, function_mappings=None, message_templates=[ChatMessage(role=<MessageRole.SYSTEM: 'system'>, content='\\n    # Instruction\\n    \\n    ## Context\\n    - **Goal**: You are tasked with summarizing the input text for the given use case. The summary will represent the input data for clustering in the next step.\\n    - **Data**: Your input data is a conversation history between a User and an AI agent.\\n    \\n    # Data\\n    <data>\\n    {content}\\n    </data>\\n    ', additional_kwargs={}), ChatMessage(role=<MessageRole.USER: 'user'>, content='\\n    # Questions\\n    ## Q1. Summarize the input text in 20 words or less for the use case.\\n    Write the summary between <summary> </summary> tags.\\n    \\n    Tips:\\n    - The summary should contain the relevant information for the use case in as much detail as possible.\\n    - Be concise and clear. Do not add phrases like \"This is the summary of the data ...\" or \"Summarized text: ...\".\\n    - Similarly, do not reference the user (\\'the user asked XYZ\\') unless it\\'s absolutely relevant.\\n    - Within {summary_length} words, include as much relevant information as possible.\\n    - Do not include any line breaks in the summary.\\n    - Provide your answer in **English** only.\\n    \\n    ## Q2. Explain how you wrote the summary in {explanation_length} words or less.\\n    \\n    ## Provide your answers between the tags <summary>your answer to Q1</summary>, <explanation>your answer to Q2</explanation>\\n    \\n    # Output\\n    ', additional_kwargs={})])"
      ]
     },
     "execution_count": 88,
     "metadata": {},
     "output_type": "execute_result"
    }
   ],
   "source": [
    "# Prompts were extracted from  hub.pull(\"wfh/tnt-llm-summary-generation\")\n",
    "\n",
    "SUMMARIZATION_PROMPT_SYSTEM = \"\"\"\n",
    "    # Instruction\n",
    "    \n",
    "    ## Context\n",
    "    - **Goal**: You are tasked with summarizing the input text for the given use case. The summary will represent the input data for clustering in the next step.\n",
    "    - **Data**: Your input data is a conversation history between a User and an AI agent.\n",
    "    \n",
    "    # Data\n",
    "    <data>\n",
    "    {content}\n",
    "    </data>\n",
    "    \"\"\"\n",
    "\n",
    "SUMMARIZATION_PROMPT_USER = \"\"\"\n",
    "    # Questions\n",
    "    ## Q1. Summarize the input text in 20 words or less for the use case.\n",
    "    Write the summary between <summary> </summary> tags.\n",
    "    \n",
    "    Tips:\n",
    "    - The summary should contain the relevant information for the use case in as much detail as possible.\n",
    "    - Be concise and clear. Do not add phrases like \"This is the summary of the data ...\" or \"Summarized text: ...\".\n",
    "    - Similarly, do not reference the user ('the user asked XYZ') unless it's absolutely relevant.\n",
    "    - Within {summary_length} words, include as much relevant information as possible.\n",
    "    - Do not include any line breaks in the summary.\n",
    "    - Provide your answer in **English** only.\n",
    "    \n",
    "    ## Q2. Explain how you wrote the summary in {explanation_length} words or less.\n",
    "    \n",
    "    ## Provide your answers between the tags <summary>your answer to Q1</summary>, <explanation>your answer to Q2</explanation>\n",
    "    \n",
    "    # Output\n",
    "    \"\"\"\n",
    "\n",
    "\n",
    "tnt_template_msgs = [\n",
    "    ChatMessage(\n",
    "        role=MessageRole.SYSTEM,\n",
    "        content=SUMMARIZATION_PROMPT_SYSTEM,\n",
    "    ),\n",
    "    ChatMessage(role=MessageRole.USER, content=SUMMARIZATION_PROMPT_USER),\n",
    "]\n",
    "\n",
    "tnt_template = ChatPromptTemplate.from_messages(tnt_template_msgs)\n",
    "tnt_template"
   ]
  },
  {
   "cell_type": "code",
   "execution_count": 98,
   "id": "d571e618-9f66-4a21-9627-86dac4a57d6c",
   "metadata": {
    "pycharm": {
     "name": "#%%\n"
    }
   },
   "outputs": [
    {
     "data": {
      "text/plain": [
       "ChatResponse(message=ChatMessage(role=<MessageRole.ASSISTANT: 'assistant'>, content=\"<summary>User dislikes the red color of the product received, describing it as ugly.</summary>  \\n<explanation>I focused on the user's sentiment about the product color, ensuring clarity and conciseness while capturing the main issue expressed.</explanation>\", additional_kwargs={}), raw=ChatCompletion(id='chatcmpl-AhGddCYoTQtIDKlqHM5ItUohKC4er', choices=[Choice(finish_reason='stop', index=0, logprobs=None, message=ChatCompletionMessage(content=\"<summary>User dislikes the red color of the product received, describing it as ugly.</summary>  \\n<explanation>I focused on the user's sentiment about the product color, ensuring clarity and conciseness while capturing the main issue expressed.</explanation>\", refusal=None, role='assistant', audio=None, function_call=None, tool_calls=None))], created=1734875425, model='gpt-4o-mini-2024-07-18', object='chat.completion', service_tier=None, system_fingerprint='fp_0aa8d3e20b', usage=CompletionUsage(completion_tokens=51, prompt_tokens=320, total_tokens=371, completion_tokens_details=CompletionTokensDetails(accepted_prediction_tokens=0, audio_tokens=0, reasoning_tokens=0, rejected_prediction_tokens=0), prompt_tokens_details=PromptTokensDetails(audio_tokens=0, cached_tokens=0))), delta=None, logprobs=None, additional_kwargs={'prompt_tokens': 320, 'completion_tokens': 51, 'total_tokens': 371})"
      ]
     },
     "execution_count": 98,
     "metadata": {},
     "output_type": "execute_result"
    }
   ],
   "source": [
    "tnt_prompt = tnt_template.format_messages(\n",
    "    summary_length=20, explanation_length=30, content=\"I really did not like the color of product that was sent to me, red is ugly\"\n",
    ")\n",
    "result = llm.chat(tnt_prompt)\n",
    "result.message.content"
   ]
  },
  {
   "cell_type": "code",
   "execution_count": 107,
   "id": "5c9c11ca-06a3-4ead-a4bd-c4753ac0f453",
   "metadata": {
    "pycharm": {
     "name": "#%%\n"
    }
   },
   "outputs": [
    {
     "data": {
      "text/plain": [
       "{'summary': 'User dislikes the red color of the product received, describing it as ugly.',\n",
       " 'explanation': \"I focused on the user's sentiment about the product color, ensuring clarity and conciseness while capturing the main issue expressed.\"}"
      ]
     },
     "execution_count": 107,
     "metadata": {},
     "output_type": "execute_result"
    }
   ],
   "source": [
    "def parse_summary(xml_string: str) -> dict:\n",
    "    summary_pattern = r\"<summary>(.*?)</summary>\"\n",
    "    explanation_pattern = r\"<explanation>(.*?)</explanation>\"\n",
    "\n",
    "    summary_match = re.search(summary_pattern, xml_string, re.DOTALL)\n",
    "    explanation_match = re.search(explanation_pattern, xml_string, re.DOTALL)\n",
    "\n",
    "    summary = summary_match.group(1).strip() if summary_match else \"\"\n",
    "    explanation = explanation_match.group(1).strip() if explanation_match else \"\"\n",
    "\n",
    "    return {\"summary\": summary, \"explanation\": explanation}\n",
    "\n",
    "\n",
    "parse_summary(result.message.content)"
   ]
  },
  {
   "cell_type": "markdown",
   "id": "c314f89d-8445-428e-b2d8-2aca8ce65b9a",
   "metadata": {
    "pycharm": {
     "name": "#%% md\n"
    }
   },
   "source": [
    "# Prompts were extracted from  hub.pull(\"wfh/tnt-llm-taxonomy-generation\")\n",
    "```python\n",
    "taxonomy_generation_prompt = hub.pull(\"wfh/tnt-llm-taxonomy-generation\").partial(\n",
    "    use_case=\"Generate the taxonomy that can be used to label the user intent in the conversation.\",\n",
    ")\n",
    "messages = taxonomy_generation_prompt.invoke({\n",
    "    \"cluster_description_length\": 20, \n",
    "    \"cluster_name_length\": 10, \n",
    "    \"data_xml\": \"\", \n",
    "    \"explanation_length\": 20, \n",
    "    \"max_num_clusters\": 5}).messages\n",
    "\n",
    "\n",
    "print(messages[0].content)\n",
    "print(\"*\" * 20 + \"\\n\")\n",
    "print(messages[1].content)\n",
    "```"
   ]
  },
  {
   "cell_type": "code",
   "execution_count": 115,
   "id": "8926cce1-60c1-4873-85b0-cc42b6c08369",
   "metadata": {
    "pycharm": {
     "name": "#%%\n"
    }
   },
   "outputs": [
    {
     "data": {
      "text/plain": [
       "'\\ncontent\\nnb_categories\\ncluster_name_length\\ncluster_description_length\\nexplanation_length\\n'"
      ]
     },
     "execution_count": 115,
     "metadata": {},
     "output_type": "execute_result"
    }
   ],
   "source": [
    "TAXO_SYSTEM_PROMPT = \"\"\"\n",
    "    # Instruction\n",
    "    ## Context\n",
    "    - **Goal**: Your goal is to cluster the input data into meaningful categories for the given use case.\n",
    "    - **Data**: The input data will be a list of human-AI conversation summaries in XML format, including the following elements:\n",
    "      - **id**: conversation index.\n",
    "      - **text**: conversation summary.\n",
    "    - **Use case**: Generate the taxonomy that can be used to label the user intent in the conversation.\n",
    "    ## Requirements\n",
    "    ### Format\n",
    "    - Output clusters in **XML format** with each cluster as a `<cluster>` element, containing the following sub-elements:\n",
    "      - **id**: category number starting from 1 in an incremental manner.\n",
    "      - **name**: category name should be **within {cluster_name_length} words**. It can be either verb phrase or noun phrase, whichever is more appropriate.\n",
    "      - **description**: category description should be **within {cluster_description_length} words**.\n",
    "    Here is an example of your output:\n",
    "    ```xml\n",
    "    <clusters>\n",
    "      <cluster>\n",
    "        <id>category id</id>\n",
    "        <name>category name</name>\n",
    "        <description>category description</description>\n",
    "      </cluster>\n",
    "    </clusters>\n",
    "    ```\n",
    "    - Total number of categories should be **no more than {nb_categories}**.\n",
    "    - Output should be in **English** only.\n",
    "    ### Quality\n",
    "    - **No overlap or contradiction** among the categories.\n",
    "    - **Name** is a concise and clear label for the category. Use only phrases that are specific to each category and avoid those that are common to all categories.\n",
    "    - **Description** differentiates one category from another.\n",
    "    - **Name** and **description** can **accurately** and **consistently** classify new data points **without ambiguity**.\n",
    "    - **Name** and **description** are *consistent with each other*.\n",
    "     Output clusters match the data as closely as possible, without missing important categories or adding unnecessary ones.\n",
    "    - Output clusters should strive to be orthogonal, providing solid coverage of the target domain.\n",
    "    - Output clusters serve the given use case well.\n",
    "    - Output clusters should be specific and meaningful. - - Do not invent categories that are not in the data.\n",
    "    \n",
    "    \n",
    "    # Data\n",
    "    <conversations>\n",
    "    {content}\n",
    "    </conversations>\n",
    "    \"\"\"\n",
    "\n",
    "TAXO_USER_PROMPT = \"\"\"\n",
    "    # Questions\n",
    "    ## Q1. Please generate a cluster table from the input data that meets the requirements.\n",
    "    Tips\n",
    "    - The cluster table should be a **flat list** of **mutually exclusive** categories. Sort them based on their semantic relatedness.\n",
    "    - Though you should aim for {nb_categories} categories, you can have *fewer than {nb_categories} categories* in the cluster table;  but **do not exceed the limit.** \n",
    "    - Be **specific** about each category. **Do not include vague categories** such as \"Other\", \"General\", \"Unclear\", \"Miscellaneous\" or \"Undefined\" in the cluster table.\n",
    "    - You can ignore low quality or ambiguous data points.\n",
    "    ## Q2. Why did you cluster the data the way you did? Explain your reasoning **within {explanation_length} words**.\n",
    "    ## Provide your answers between the tags: <cluster_table>your generated cluster table with no more than {nb_categories} categories</cluster_table>, <explanation>explanation of your reasoning process within 20 words</explanation>.\n",
    "    # Output\n",
    "    \"\"\"\n",
    "\n",
    "\"\"\"\n",
    "content\n",
    "nb_categories\n",
    "cluster_name_length\n",
    "cluster_description_length\n",
    "explanation_length\n",
    "\"\"\"\n",
    "\n"
   ]
  },
  {
   "cell_type": "code",
   "execution_count": 144,
   "id": "30cba1b1-ffd4-4681-ace1-56ac406872eb",
   "metadata": {
    "pycharm": {
     "name": "#%%\n"
    }
   },
   "outputs": [
    {
     "data": {
      "text/plain": [
       "ChatPromptTemplate(metadata={'prompt_type': <PromptType.CUSTOM: 'custom'>}, template_vars=['cluster_name_length', 'cluster_description_length', 'nb_categories', 'content', 'nb_categories', 'nb_categories', 'explanation_length', 'nb_categories'], kwargs={}, output_parser=None, template_var_mappings=None, function_mappings=None, message_templates=[ChatMessage(role=<MessageRole.SYSTEM: 'system'>, content='\\n    # Instruction\\n    ## Context\\n    - **Goal**: Your goal is to cluster the input data into meaningful categories for the given use case.\\n    - **Data**: The input data will be a list of human-AI conversation summaries in XML format, including the following elements:\\n      - **id**: conversation index.\\n      - **text**: conversation summary.\\n    - **Use case**: Generate the taxonomy that can be used to label the user intent in the conversation.\\n    ## Requirements\\n    ### Format\\n    - Output clusters in **XML format** with each cluster as a `<cluster>` element, containing the following sub-elements:\\n      - **id**: category number starting from 1 in an incremental manner.\\n      - **name**: category name should be **within {cluster_name_length} words**. It can be either verb phrase or noun phrase, whichever is more appropriate.\\n      - **description**: category description should be **within {cluster_description_length} words**.\\n    Here is an example of your output:\\n    ```xml\\n    <clusters>\\n      <cluster>\\n        <id>category id</id>\\n        <name>category name</name>\\n        <description>category description</description>\\n      </cluster>\\n    </clusters>\\n    ```\\n    - Total number of categories should be **no more than {nb_categories}**.\\n    - Output should be in **English** only.\\n    ### Quality\\n    - **No overlap or contradiction** among the categories.\\n    - **Name** is a concise and clear label for the category. Use only phrases that are specific to each category and avoid those that are common to all categories.\\n    - **Description** differentiates one category from another.\\n    - **Name** and **description** can **accurately** and **consistently** classify new data points **without ambiguity**.\\n    - **Name** and **description** are *consistent with each other*.\\n     Output clusters match the data as closely as possible, without missing important categories or adding unnecessary ones.\\n    - Output clusters should strive to be orthogonal, providing solid coverage of the target domain.\\n    - Output clusters serve the given use case well.\\n    - Output clusters should be specific and meaningful. - - Do not invent categories that are not in the data.\\n    \\n    \\n    # Data\\n    <conversations>\\n    {content}\\n    </conversations>\\n    ', additional_kwargs={}), ChatMessage(role=<MessageRole.USER: 'user'>, content='\\n    # Questions\\n    ## Q1. Please generate a cluster table from the input data that meets the requirements.\\n    Tips\\n    - The cluster table should be a **flat list** of **mutually exclusive** categories. Sort them based on their semantic relatedness.\\n    - Though you should aim for {nb_categories} categories, you can have *fewer than {nb_categories} categories* in the cluster table;  but **do not exceed the limit.** \\n    - Be **specific** about each category. **Do not include vague categories** such as \"Other\", \"General\", \"Unclear\", \"Miscellaneous\" or \"Undefined\" in the cluster table.\\n    - You can ignore low quality or ambiguous data points.\\n    ## Q2. Why did you cluster the data the way you did? Explain your reasoning **within {explanation_length} words**.\\n    ## Provide your answers between the tags: <cluster_table>your generated cluster table with no more than {nb_categories} categories</cluster_table>, <explanation>explanation of your reasoning process within 20 words</explanation>.\\n    # Output\\n    ', additional_kwargs={})])"
      ]
     },
     "execution_count": 144,
     "metadata": {},
     "output_type": "execute_result"
    }
   ],
   "source": [
    "tnt_taxonomy_template_msgs = [\n",
    "    ChatMessage(\n",
    "        role=MessageRole.SYSTEM,\n",
    "        content=TAXO_SYSTEM_PROMPT,\n",
    "    ),\n",
    "    ChatMessage(role=MessageRole.USER, content=TAXO_USER_PROMPT),\n",
    "]\n",
    "\n",
    "tnt_taxo_template = ChatPromptTemplate.from_messages(tnt_taxonomy_template_msgs)\n",
    "tnt_taxo_template"
   ]
  },
  {
   "cell_type": "code",
   "execution_count": 186,
   "id": "d6cafeb7-9517-4dbd-9df1-a786bb606d9f",
   "metadata": {
    "pycharm": {
     "name": "#%%\n"
    }
   },
   "outputs": [],
   "source": [
    "from typing import Dict, List, Any\n",
    "\n",
    "\n",
    "def parse_taxa(output_text: str) -> Dict:\n",
    "    \"\"\"Extract the taxonomy from the generated output.\"\"\"\n",
    "    cluster_matches = re.findall(\n",
    "        r\"\\s*<id>(.*?)</id>\\s*<name>(.*?)</name>\\s*<description>(.*?)</description>\\s*\",\n",
    "        output_text,\n",
    "        re.DOTALL,\n",
    "    )\n",
    "    clusters = [\n",
    "        {\"id\": id.strip(), \"name\": name.strip(), \"description\": description.strip()}\n",
    "        for id, name, description in cluster_matches\n",
    "    ]\n",
    "    # We don't parse the explanation since it isn't used downstream\n",
    "    return {\"clusters\": clusters}\n",
    "\n",
    "\n",
    "\n",
    "def format_docs(docs: List[str]) -> str:\n",
    "    xml_table = \"<conversations>\\n\"\n",
    "    for i, doc in enumerate(docs):\n",
    "        xml_table += f'<conv_summ id={i}>{doc}</conv_summ>\\n'\n",
    "    xml_table += \"</conversations>\"\n",
    "    return xml_table\n",
    "\n"
   ]
  },
  {
   "cell_type": "code",
   "execution_count": 192,
   "id": "bc1e9a5f-b503-4bda-a4ac-69a2bd138ba8",
   "metadata": {
    "pycharm": {
     "name": "#%%\n"
    }
   },
   "outputs": [],
   "source": [
    "class MapEvent(Event):\n",
    "    text: str\n",
    "\n",
    "\n",
    "class SummaryEvent(Event):\n",
    "    summary: str\n",
    "\n",
    "\n",
    "class BatchTaxnomyWorkflow(Workflow):\n",
    "\n",
    "    @step\n",
    "    async def map_dataset(self, ctx: Context, ev: StartEvent) -> MapEvent:\n",
    "        documents = ev[\"documents\"]\n",
    "        batch_size = len(documents)\n",
    "        _ = await ctx.set(\"batch_size\", batch_size)\n",
    "        for doc in documents:\n",
    "            ctx.send_event(MapEvent(text=doc))\n",
    "\n",
    "    @step\n",
    "    async def map_fn(self, ev: MapEvent) -> SummaryEvent:\n",
    "        tnt_prompt = tnt_template.format_messages(\n",
    "            summary_length=20, explanation_length=30, content=ev.text\n",
    "        )\n",
    "        result = llm.chat(tnt_prompt)\n",
    "        return SummaryEvent(summary=result.message.content)\n",
    "\n",
    "    @step\n",
    "    async def reduce_fn(self, ctx: Context, ev: SummaryEvent) -> StopEvent:\n",
    "        batch_size = await ctx.get(\"batch_size\")\n",
    "        results = ctx.collect_events(ev, [SummaryEvent] * batch_size)\n",
    "        if results is None:\n",
    "            return None\n",
    "        summary_xml = format_docs([x.summary for x in results])\n",
    "\n",
    "        prompt = tnt_taxo_template.format_messages(\n",
    "            content=summary_xml,\n",
    "            nb_categories=5,\n",
    "            cluster_name_length=15,\n",
    "            cluster_description_length=30,\n",
    "            explanation_length=30,\n",
    "        )\n",
    "        result = llm.chat(prompt)\n",
    "        rez = parse_taxa(result.message.content)\n",
    "        taxo = format_taxonomy(rez[\"clusters\"])\n",
    "        return StopEvent(result=taxo)\n",
    "\n"
   ]
  },
  {
   "cell_type": "code",
   "execution_count": 193,
   "id": "c2012baf-05ef-414c-bdf9-b32ec820244b",
   "metadata": {
    "pycharm": {
     "name": "#%%\n"
    }
   },
   "outputs": [
    {
     "data": {
      "text/plain": [
       "Pandas(Index=0, Id=1, ProductId='B001E4KFG0', UserId='A3SGXH7AUHU8GW', ProfileName='delmartian', HelpfulnessNumerator=1, HelpfulnessDenominator=1, Score=5, Time=1303862400, Summary='Good Quality Dog Food', Text='I have bought several of the Vitality canned dog food products and have found them all to be of good quality. The product looks more like a stew than a processed meat and it smells better. My Labrador is finicky and she appreciates this product better than  most.')"
      ]
     },
     "execution_count": 193,
     "metadata": {},
     "output_type": "execute_result"
    }
   ],
   "source": [
    "import pandas as pd\n",
    "df = pd.read_csv(\"/Users/amorvan/Documents/code_dw/llm_collection/amazon-fine-food-reviews/Reviews.csv\")\n",
    "rows = list(df.itertuples())\n",
    "rows[0]"
   ]
  },
  {
   "cell_type": "code",
   "execution_count": 194,
   "id": "8e2068b2-0bdc-4f93-b884-a69474d6e3f3",
   "metadata": {
    "pycharm": {
     "name": "#%%\n"
    }
   },
   "outputs": [
    {
     "data": {
      "text/plain": [
       "'<cluster_table>\\n  <cluster>\\n    <id>1</id>\\n    <name>Praise for Dog Food Quality</name>\\n    <description>User appreciates the quality and appeal of a specific dog food brand.</description>\\n  </cluster>\\n  <cluster>\\n    <id>2</id>\\n    <name>Product Discrepancy Issues</name>\\n    <description>User reports issues with received product size and salt content, questioning vendor accuracy.</description>\\n  </cluster>\\n</cluster_table>'"
      ]
     },
     "execution_count": 194,
     "metadata": {},
     "output_type": "execute_result"
    }
   ],
   "source": [
    "w = BatchTaxnomyWorkflow()\n",
    "r = await w.run(documents=[x.Text for x in rows[:2]])\n",
    "r"
   ]
  },
  {
   "cell_type": "code",
   "execution_count": 195,
   "id": "fa08b169-1332-48aa-9ac4-14a7132deba4",
   "metadata": {
    "pycharm": {
     "name": "#%%\n"
    }
   },
   "outputs": [
    {
     "name": "stdout",
     "output_type": "stream",
     "text": [
      "<cluster_table>\n",
      "  <cluster>\n",
      "    <id>1</id>\n",
      "    <name>Praise for Dog Food Quality</name>\n",
      "    <description>User appreciates the quality and appeal of a specific dog food brand.</description>\n",
      "  </cluster>\n",
      "  <cluster>\n",
      "    <id>2</id>\n",
      "    <name>Product Discrepancy Issues</name>\n",
      "    <description>User reports issues with received product size and salt content, questioning vendor accuracy.</description>\n",
      "  </cluster>\n",
      "</cluster_table>\n"
     ]
    }
   ],
   "source": [
    "print(r)"
   ]
  },
  {
   "cell_type": "code",
   "execution_count": null,
   "id": "36167811-1c7d-4bbb-b25d-c82658d36b2d",
   "metadata": {
    "pycharm": {
     "name": "#%%\n"
    }
   },
   "outputs": [],
   "source": []
  },
  {
   "cell_type": "markdown",
   "id": "05de5101-4fad-49ea-9c4e-dd0a7d9ff1f8",
   "metadata": {
    "pycharm": {
     "name": "#%% md\n"
    }
   },
   "source": [
    "## Part 3 - The new workflow will host the handling of the batch processing\n",
    "\n",
    "todo : \n",
    "- Handle the rest of the logic : process batches, update iteratively the taxonomy\n",
    "- Use the workflow defined before to handle the batches\n",
    "\n",
    "\n",
    "\n",
    "\n",
    "\n",
    "\n"
   ]
  },
  {
   "cell_type": "code",
   "execution_count": 183,
   "id": "a62bd8b5-1e4d-4a4a-9eaa-711c0c841734",
   "metadata": {
    "pycharm": {
     "name": "#%%\n"
    }
   },
   "outputs": [
    {
     "name": "stderr",
     "output_type": "stream",
     "text": [
      "/Users/amorvan/Documents/code_dw/llm_collection/venv/lib/python3.13/site-packages/langsmith/client.py:261: LangSmithMissingAPIKeyWarning: API key must be provided when using hosted LangSmith API\n",
      "  warnings.warn(\n"
     ]
    },
    {
     "name": "stdout",
     "output_type": "stream",
     "text": [
      "# Instruction\n",
      "## Context\n",
      "- **Goal**: You goal is to review the given reference table based on the input data for the specified use case, then update the reference table if needed.\n",
      "  - You will be given a reference cluster table, which is built on existing data. The reference table will be used to classify new data points.\n",
      "  - You will compare the input data with the reference table, output a rating score of the quality of the reference table, suggest potential edits, and update the reference table if needed.\n",
      "- **Reference cluster table**: The input cluster table is in XML format with each cluster as a `<cluster>` element, containing the following sub-elements:\n",
      "  - **id**: category index.\n",
      "  - **name**: category name.\n",
      "  - **description**: category description used to classify data points.\n",
      "- **Data**: The input data will be a list of human-AI conversation summaries in XML format, including the following elements:\n",
      "  - **id**: conversation index.\n",
      "  - **text**: conversation summary.\n",
      "- **Use case**: {use_case}\n",
      "\n",
      "## Requirements\n",
      "### Format\n",
      "- Output clusters in **XML format** with each cluster as a `<cluster>` element, containing the following sub-elements:\n",
      "  - **id**: category number starting from 1 in an incremental manner.\n",
      "  - **name**: category name should be **within {cluster_name_length} words**. It can be either verb phrase or noun phrase, whichever is more appropriate.\n",
      "  - **description**: category description should be **within {cluster_description_length} words**.\n",
      "\n",
      "Here is an example of your output:\n",
      "```xml\n",
      "<clusters>\n",
      "  <cluster>\n",
      "    <id>category id</id>\n",
      "    <name>category name</name>\n",
      "    <description>category description</description>\n",
      "  </cluster>\n",
      "</clusters>\n",
      "```\n",
      "- Total number of categories should be **no more than {max_num_clusters}**.\n",
      "- Output should be in **English** only.\n",
      "\n",
      "### Quality\n",
      "- **No overlap or contradiction** among the categories.\n",
      "- **Name** is a concise and clear label for the category. Use only phrases that are specific to each category and avoid those that are common to all categories.\n",
      "- **Description** differentiates one category from another.\n",
      "- **Name** and **description** can **accurately** and **consistently** classify new data points **without ambiguity**.\n",
      "- **Name** and **description** are *consistent with each other*.\n",
      "- Output clusters match the data as closely as possible, without missing important categories or adding unnecessary ones.\n",
      "- Output clusters should strive to be orthogonal, providing solid coverage of the target domain.\n",
      "- Output clusters serve the given use case well.\n",
      "- Output clusters should be specific and meaningful. Do not invent categories that are not in the data.\n",
      "\n",
      "# Reference cluster table\n",
      "<reference_table>\n",
      "{cluster_table_xml}\n",
      "</reference_table>\n",
      "\n",
      "# Data\n",
      "<conversations>\n",
      "{data_xml}\n",
      "</conversations>\n",
      "********************\n",
      "\n",
      "# Questions\n",
      "## Q1: Review the given reference table and the input data and provide a rating score of the reference table. The rating score should be an integer between 0 and 100, higher rating score means better quality. You should consider the following factors when rating the reference cluster table:\n",
      "- **Intrinsic quality**:\n",
      "  - 1) if the cluster table meets the *Requirements* section, with clear and consistent category names and descriptions, and no overlap or contradiction among the categories;\n",
      "  - 2) if the categories in the cluster table are relevant to the the given use case;\n",
      "  - 3) if the cluster table includes any vague categories such as \"Other\", \"General\", \"Unclear\", \"Miscellaneous\" or \"Undefined\".\n",
      "- **Extrinsic quality**:\n",
      "  - 1) if the cluster table can accurately and consistently classify the input data without ambiguity;\n",
      "  - 2) if there are missing categories in the cluster table but appear in the input data;\n",
      "  - 3) if there are unnecessary categories in the cluster table that do not appear in the input data.\n",
      "## Q2: Explain your rating score in Q1 **within {explanation_length} words**.\n",
      "## Q3: Based on your review, decide if you need to edit the reference table to improve its quality. If yes, suggest potential edits **within {suggestion_length} words**. If no, please output the original reference table.\n",
      "\n",
      "Tips:\n",
      "- You can edit the category name, description, or remove a category. You can also merge or add new categories if needed. Your edits should meet the *Requirements* section.\n",
      "- The cluster table should be a **flat list** of **mutually exclusive** categories. Sort them based on their semantic relatedness.\n",
      "- You can have *fewer than {max_num_clusters} categories* in the cluster table, but **do not exceed the limit.**\n",
      "- Be **specific** about each category. **Do not include vague categories** such as \"Other\", \"General\", \"Unclear\", \"Miscellaneous\" or \"Undefined\" in the cluster table.\n",
      "- You can ignore low quality or ambiguous data points.\n",
      "## Q4: If you decide to edit the reference table, please provide your updated reference table. If you decide not to edit the reference table, please output the original reference table.\n",
      "## Provide your answers between the following tags:\n",
      "<rating_score>integer between 0 and 100</rating_score>\n",
      "<explanation>explanation of your rating score within {explanation_length} words</explanation>\n",
      "<suggestions>suggested edits within {suggestion_length} words, or \"N/A\" if no edits needed</suggestions>\n",
      "<updated_table>\n",
      "your updated cluster table in XML format if you decided to edit the reference table, or the original reference table if no edits made\n",
      "</updated_table>\n",
      "# Output\n",
      "\n"
     ]
    }
   ],
   "source": [
    "taxonomy_update_prompt = hub.pull(\"wfh/tnt-llm-taxonomy-update\")\n",
    "rez = taxonomy_update_prompt.messages\n",
    "\n",
    "print(rez[0].prompt.template)\n",
    "print(\"*\"*20 + \"\\n\")\n",
    "print(rez[1].prompt.template)"
   ]
  },
  {
   "cell_type": "code",
   "execution_count": 211,
   "id": "99fc25b0-b316-459a-8c5d-325fd6777e22",
   "metadata": {
    "pycharm": {
     "name": "#%%\n"
    }
   },
   "outputs": [],
   "source": [
    "TAXONOMY_UPDATE_SYSTEM = \"\"\"\n",
    "    # Instruction\n",
    "    ## Context\n",
    "    - **Goal**: You goal is to review the given reference table based on the input data for the specified use case, then update the reference table if needed.\n",
    "      - You will be given a reference cluster table, which is built on existing data. The reference table will be used to classify new data points.\n",
    "      - You will compare the input data with the reference table, output a rating score of the quality of the reference table, suggest potential edits, and update the reference table if needed.\n",
    "    - **Reference cluster table**: The input cluster table is in XML format with each cluster as a `<cluster>` element, containing the following sub-elements:\n",
    "      - **id**: category index.\n",
    "      - **name**: category name.\n",
    "      - **description**: category description used to classify data points.\n",
    "    - **Data**: The input data will be a list of human-AI conversation summaries in XML format, including the following elements:\n",
    "      - **id**: conversation index.\n",
    "      - **text**: conversation summary.\n",
    "    - **Use case**: {use_case}\n",
    "    \n",
    "    ## Requirements\n",
    "    ### Format\n",
    "    - Output clusters in **XML format** with each cluster as a `<cluster>` element, containing the following sub-elements:\n",
    "      - **id**: category number starting from 1 in an incremental manner.\n",
    "      - **name**: category name should be **within {cluster_name_length} words**. It can be either verb phrase or noun phrase, whichever is more appropriate.\n",
    "      - **description**: category description should be **within {cluster_description_length} words**.\n",
    "    \n",
    "    Here is an example of your output:\n",
    "    ```xml\n",
    "    <clusters>\n",
    "      <cluster>\n",
    "        <id>category id</id>\n",
    "        <name>category name</name>\n",
    "        <description>category description</description>\n",
    "      </cluster>\n",
    "    </clusters>\n",
    "    ```\n",
    "    - Total number of categories should be **no more than {max_num_clusters}**.\n",
    "    - Output should be in **English** only.\n",
    "    \n",
    "    ### Quality\n",
    "    - **No overlap or contradiction** among the categories.\n",
    "    - **Name** is a concise and clear label for the category. Use only phrases that are specific to each category and avoid those that are common to all categories.\n",
    "    - **Description** differentiates one category from another.\n",
    "    - **Name** and **description** can **accurately** and **consistently** classify new data points **without ambiguity**.\n",
    "    - **Name** and **description** are *consistent with each other*.\n",
    "    - Output clusters match the data as closely as possible, without missing important categories or adding unnecessary ones.\n",
    "    - Output clusters should strive to be orthogonal, providing solid coverage of the target domain.\n",
    "    - Output clusters serve the given use case well.\n",
    "    - Output clusters should be specific and meaningful. Do not invent categories that are not in the data.\n",
    "    \n",
    "    # Reference cluster table\n",
    "    <reference_table>\n",
    "    {cluster_table_xml}\n",
    "    </reference_table>\n",
    "    \n",
    "    # Data\n",
    "    <conversations>\n",
    "    {data_xml}\n",
    "    </conversations>\n",
    "   \"\"\"\n",
    "\n",
    "TAXONOMY_UPDATE_USER = \"\"\"\n",
    "    # Questions\n",
    "    ## Q1: Review the given reference table and the input data and provide a rating score of the reference table. The rating score should be an integer between 0 and 100, higher rating score means better quality. You should consider the following factors when rating the reference cluster table:\n",
    "    - **Intrinsic quality**:\n",
    "      - 1) if the cluster table meets the *Requirements* section, with clear and consistent category names and descriptions, and no overlap or contradiction among the categories;\n",
    "      - 2) if the categories in the cluster table are relevant to the the given use case;\n",
    "      - 3) if the cluster table includes any vague categories such as \"Other\", \"General\", \"Unclear\", \"Miscellaneous\" or \"Undefined\".\n",
    "    - **Extrinsic quality**:\n",
    "      - 1) if the cluster table can accurately and consistently classify the input data without ambiguity;\n",
    "      - 2) if there are missing categories in the cluster table but appear in the input data;\n",
    "      - 3) if there are unnecessary categories in the cluster table that do not appear in the input data.\n",
    "    ## Q2: Explain your rating score in Q1 **within {explanation_length} words**.\n",
    "    ## Q3: Based on your review, decide if you need to edit the reference table to improve its quality. If yes, suggest potential edits **within {suggestion_length} words**. If no, please output the original reference table.\n",
    "    \n",
    "    Tips:\n",
    "    - You can edit the category name, description, or remove a category. You can also merge or add new categories if needed. Your edits should meet the *Requirements* section.\n",
    "    - The cluster table should be a **flat list** of **mutually exclusive** categories. Sort them based on their semantic relatedness.\n",
    "    - You can have *fewer than {max_num_clusters} categories* in the cluster table, but **do not exceed the limit.**\n",
    "    - Be **specific** about each category. **Do not include vague categories** such as \"Other\", \"General\", \"Unclear\", \"Miscellaneous\" or \"Undefined\" in the cluster table.\n",
    "    - You can ignore low quality or ambiguous data points.\n",
    "    ## Q4: If you decide to edit the reference table, please provide your updated reference table. If you decide not to edit the reference table, please output the original reference table.\n",
    "    ## Provide your answers between the following tags:\n",
    "    <rating_score>integer between 0 and 100</rating_score>\n",
    "    <explanation>explanation of your rating score within {explanation_length} words</explanation>\n",
    "    <suggestions>suggested edits within {suggestion_length} words, or \"N/A\" if no edits needed</suggestions>\n",
    "    <updated_table>\n",
    "    your updated cluster table in XML format if you decided to edit the reference table, or the original reference table if no edits made\n",
    "    </updated_table>\n",
    "    # Output\n",
    "    \"\"\"\n"
   ]
  },
  {
   "cell_type": "code",
   "execution_count": 212,
   "id": "373162f8-bb31-45af-a1bb-ed9cf3004afe",
   "metadata": {
    "pycharm": {
     "name": "#%%\n"
    }
   },
   "outputs": [
    {
     "data": {
      "text/plain": [
       "ChatPromptTemplate(metadata={'prompt_type': <PromptType.CUSTOM: 'custom'>}, template_vars=['use_case', 'cluster_name_length', 'cluster_description_length', 'max_num_clusters', 'cluster_table_xml', 'data_xml', 'explanation_length', 'suggestion_length', 'max_num_clusters', 'explanation_length', 'suggestion_length'], kwargs={}, output_parser=None, template_var_mappings=None, function_mappings=None, message_templates=[ChatMessage(role=<MessageRole.SYSTEM: 'system'>, content='\\n    # Instruction\\n    ## Context\\n    - **Goal**: You goal is to review the given reference table based on the input data for the specified use case, then update the reference table if needed.\\n      - You will be given a reference cluster table, which is built on existing data. The reference table will be used to classify new data points.\\n      - You will compare the input data with the reference table, output a rating score of the quality of the reference table, suggest potential edits, and update the reference table if needed.\\n    - **Reference cluster table**: The input cluster table is in XML format with each cluster as a `<cluster>` element, containing the following sub-elements:\\n      - **id**: category index.\\n      - **name**: category name.\\n      - **description**: category description used to classify data points.\\n    - **Data**: The input data will be a list of human-AI conversation summaries in XML format, including the following elements:\\n      - **id**: conversation index.\\n      - **text**: conversation summary.\\n    - **Use case**: {use_case}\\n    \\n    ## Requirements\\n    ### Format\\n    - Output clusters in **XML format** with each cluster as a `<cluster>` element, containing the following sub-elements:\\n      - **id**: category number starting from 1 in an incremental manner.\\n      - **name**: category name should be **within {cluster_name_length} words**. It can be either verb phrase or noun phrase, whichever is more appropriate.\\n      - **description**: category description should be **within {cluster_description_length} words**.\\n    \\n    Here is an example of your output:\\n    ```xml\\n    <clusters>\\n      <cluster>\\n        <id>category id</id>\\n        <name>category name</name>\\n        <description>category description</description>\\n      </cluster>\\n    </clusters>\\n    ```\\n    - Total number of categories should be **no more than {max_num_clusters}**.\\n    - Output should be in **English** only.\\n    \\n    ### Quality\\n    - **No overlap or contradiction** among the categories.\\n    - **Name** is a concise and clear label for the category. Use only phrases that are specific to each category and avoid those that are common to all categories.\\n    - **Description** differentiates one category from another.\\n    - **Name** and **description** can **accurately** and **consistently** classify new data points **without ambiguity**.\\n    - **Name** and **description** are *consistent with each other*.\\n    - Output clusters match the data as closely as possible, without missing important categories or adding unnecessary ones.\\n    - Output clusters should strive to be orthogonal, providing solid coverage of the target domain.\\n    - Output clusters serve the given use case well.\\n    - Output clusters should be specific and meaningful. Do not invent categories that are not in the data.\\n    \\n    # Reference cluster table\\n    <reference_table>\\n    {cluster_table_xml}\\n    </reference_table>\\n    \\n    # Data\\n    <conversations>\\n    {data_xml}\\n    </conversations>\\n   ', additional_kwargs={}), ChatMessage(role=<MessageRole.USER: 'user'>, content='\\n    # Questions\\n    ## Q1: Review the given reference table and the input data and provide a rating score of the reference table. The rating score should be an integer between 0 and 100, higher rating score means better quality. You should consider the following factors when rating the reference cluster table:\\n    - **Intrinsic quality**:\\n      - 1) if the cluster table meets the *Requirements* section, with clear and consistent category names and descriptions, and no overlap or contradiction among the categories;\\n      - 2) if the categories in the cluster table are relevant to the the given use case;\\n      - 3) if the cluster table includes any vague categories such as \"Other\", \"General\", \"Unclear\", \"Miscellaneous\" or \"Undefined\".\\n    - **Extrinsic quality**:\\n      - 1) if the cluster table can accurately and consistently classify the input data without ambiguity;\\n      - 2) if there are missing categories in the cluster table but appear in the input data;\\n      - 3) if there are unnecessary categories in the cluster table that do not appear in the input data.\\n    ## Q2: Explain your rating score in Q1 **within {explanation_length} words**.\\n    ## Q3: Based on your review, decide if you need to edit the reference table to improve its quality. If yes, suggest potential edits **within {suggestion_length} words**. If no, please output the original reference table.\\n    \\n    Tips:\\n    - You can edit the category name, description, or remove a category. You can also merge or add new categories if needed. Your edits should meet the *Requirements* section.\\n    - The cluster table should be a **flat list** of **mutually exclusive** categories. Sort them based on their semantic relatedness.\\n    - You can have *fewer than {max_num_clusters} categories* in the cluster table, but **do not exceed the limit.**\\n    - Be **specific** about each category. **Do not include vague categories** such as \"Other\", \"General\", \"Unclear\", \"Miscellaneous\" or \"Undefined\" in the cluster table.\\n    - You can ignore low quality or ambiguous data points.\\n    ## Q4: If you decide to edit the reference table, please provide your updated reference table. If you decide not to edit the reference table, please output the original reference table.\\n    ## Provide your answers between the following tags:\\n    <rating_score>integer between 0 and 100</rating_score>\\n    <explanation>explanation of your rating score within {explanation_length} words</explanation>\\n    <suggestions>suggested edits within {suggestion_length} words, or \"N/A\" if no edits needed</suggestions>\\n    <updated_table>\\n    your updated cluster table in XML format if you decided to edit the reference table, or the original reference table if no edits made\\n    </updated_table>\\n    # Output\\n    ', additional_kwargs={})])"
      ]
     },
     "execution_count": 212,
     "metadata": {},
     "output_type": "execute_result"
    }
   ],
   "source": [
    "tnt_taxonomy_update_template_msgs = [\n",
    "    ChatMessage(\n",
    "        role=MessageRole.SYSTEM,\n",
    "        content=TAXONOMY_UPDATE_SYSTEM,\n",
    "    ),\n",
    "    ChatMessage(role=MessageRole.USER, content=TAXONOMY_UPDATE_USER),\n",
    "]\n",
    "\n",
    "tnt_taxo_update_template = ChatPromptTemplate.from_messages(tnt_taxonomy_update_template_msgs)\n",
    "tnt_taxo_update_template\n",
    "\n"
   ]
  },
  {
   "cell_type": "code",
   "execution_count": 213,
   "id": "a0e5ce24-ca7e-4e20-a4ac-ca844bcba9a2",
   "metadata": {
    "pycharm": {
     "name": "#%%\n"
    }
   },
   "outputs": [],
   "source": [
    "def format_taxonomy(clusters):\n",
    "    xml = \"<cluster_table>\\n\"\n",
    "    for label in clusters:\n",
    "        xml += \"  <cluster>\\n\"\n",
    "        xml += f'    <id>{label[\"id\"]}</id>\\n'\n",
    "        xml += f'    <name>{label[\"name\"]}</name>\\n'\n",
    "        xml += f'    <description>{label[\"description\"]}</description>\\n'\n",
    "        xml += \"  </cluster>\\n\"\n",
    "    xml += \"</cluster_table>\"\n",
    "    return xml"
   ]
  },
  {
   "cell_type": "code",
   "execution_count": 214,
   "id": "2093a7da-8335-4c75-92fe-ce6417990cdf",
   "metadata": {
    "pycharm": {
     "name": "#%%\n"
    }
   },
   "outputs": [],
   "source": [
    "\n",
    "class BatchUpdateTaxnomyWorkflow(Workflow):\n",
    "\n",
    "    @step\n",
    "    async def map_dataset(self, ctx: Context, ev: StartEvent) -> MapEvent:\n",
    "        documents = ev[\"documents\"]\n",
    "        taxonomy = ev.get(\"taxonomy\")\n",
    "        batch_size = len(documents)\n",
    "        _ = await ctx.set(\"batch_size\", batch_size)\n",
    "        _ = await ctx.set(\"taxonomy\", taxonomy)\n",
    "        for doc in documents:\n",
    "            ctx.send_event(MapEvent(text=doc))\n",
    "\n",
    "    @step\n",
    "    async def map_fn(self, ev: MapEvent) -> SummaryEvent:\n",
    "        tnt_prompt = tnt_template.format_messages(\n",
    "            summary_length=20, explanation_length=30, content=ev.text\n",
    "        )\n",
    "        result = llm.chat(tnt_prompt)\n",
    "        return SummaryEvent(summary=result.message.content)\n",
    "\n",
    "    @step\n",
    "    async def reduce_fn(self, ctx: Context, ev: SummaryEvent) -> StopEvent:\n",
    "        batch_size = await ctx.get(\"batch_size\")\n",
    "        taxonomy = await ctx.get(\"taxonomy\")\n",
    "        results = ctx.collect_events(ev, [SummaryEvent] * batch_size)\n",
    "        if results is None:\n",
    "            return None\n",
    "        summary_xml = format_docs([x.summary for x in results])\n",
    "\n",
    "        if taxonomy is None:\n",
    "            prompt = tnt_taxo_template.format_messages(\n",
    "                content=summary_xml,\n",
    "                nb_categories=15,\n",
    "                cluster_name_length=15,\n",
    "                cluster_description_length=30,\n",
    "                explanation_length=30,\n",
    "            )\n",
    "        else:\n",
    "            #taxonomy_xml = format_taxonomy(taxonomy)\n",
    "            prompt = tnt_taxo_template.format_messages(\n",
    "                data_xml=summary_xml,\n",
    "                cluster_table_xml=taxonomy,\n",
    "                nb_categories=15,\n",
    "                cluster_name_length=15,\n",
    "                cluster_description_length=30,\n",
    "                explanation_length=30,\n",
    "            )\n",
    "            \n",
    "        result = llm.chat(prompt)\n",
    "        rez = parse_taxa(result.message.content)\n",
    "        taxo = format_taxonomy(rez[\"clusters\"])\n",
    "        return StopEvent(result=taxo)\n"
   ]
  },
  {
   "cell_type": "code",
   "execution_count": 215,
   "id": "c2496f9a-b264-4cef-9ccb-67ad3ac59ada",
   "metadata": {
    "pycharm": {
     "name": "#%%\n"
    }
   },
   "outputs": [],
   "source": [
    "w = BatchUpdateTaxnomyWorkflow()\n",
    "\n",
    "#r = await w.run(documents=[x.Text for x in rows[6:8]], taxonomy=r)"
   ]
  },
  {
   "cell_type": "code",
   "execution_count": null,
   "id": "a3ac4ca0-3840-4bdb-be7d-311f677f37ee",
   "metadata": {
    "pycharm": {
     "name": "#%%\n"
    }
   },
   "outputs": [],
   "source": []
  },
  {
   "cell_type": "code",
   "execution_count": 209,
   "id": "10ee46ec-115e-41b5-b288-dcc8c725c7b9",
   "metadata": {
    "pycharm": {
     "name": "#%%\n"
    }
   },
   "outputs": [
    {
     "data": {
      "text/plain": [
       "11369"
      ]
     },
     "execution_count": 209,
     "metadata": {},
     "output_type": "execute_result"
    }
   ],
   "source": [
    "import pandas as pd\n",
    "df = pd.read_csv(\"/Users/amorvan/Documents/code_dw/llm_collection/amazon-fine-food-reviews/Reviews.csv\")\n",
    "rows = list(df.sample(frac=0.02).itertuples())\n",
    "len(rows)"
   ]
  },
  {
   "cell_type": "code",
   "execution_count": 210,
   "id": "f97ba0c7-4a6d-4e29-8ac6-d0072c053276",
   "metadata": {
    "pycharm": {
     "name": "#%%\n"
    }
   },
   "outputs": [
    {
     "name": "stdout",
     "output_type": "stream",
     "text": [
      "<cluster_table>\n",
      "  <cluster>\n",
      "    <id>1</id>\n",
      "    <name>Product Quality and Satisfaction</name>\n",
      "    <description>Reviews focusing on the quality, taste, and overall satisfaction with various food and beverage products.</description>\n",
      "  </cluster>\n",
      "  <cluster>\n",
      "    <id>2</id>\n",
      "    <name>Pet Food and Treats</name>\n",
      "    <description>Conversations about the quality, preferences, and experiences related to pet food and treats for dogs and cats.</description>\n",
      "  </cluster>\n",
      "  <cluster>\n",
      "    <id>3</id>\n",
      "    <name>Health and Dietary Preferences</name>\n",
      "    <description>Discussions on health benefits, dietary choices, and preferences for low-calorie or organic food products.</description>\n",
      "  </cluster>\n",
      "  <cluster>\n",
      "    <id>4</id>\n",
      "    <name>Shopping Experience and Recommendations</name>\n",
      "    <description>Insights on shopping experiences, product recommendations, and comparisons between different brands and retailers.</description>\n",
      "  </cluster>\n",
      "  <cluster>\n",
      "    <id>5</id>\n",
      "    <name>Cooking and Preparation Tips</name>\n",
      "    <description>Advice and tips on cooking methods, ingredient pairings, and preparation techniques for various dishes.</description>\n",
      "  </cluster>\n",
      "</cluster_table>\n"
     ]
    }
   ],
   "source": [
    "first_taxo = await w.run(documents=[x.Text for x in rows[:200]])\n",
    "print(first_taxo)"
   ]
  },
  {
   "cell_type": "code",
   "execution_count": 216,
   "id": "9897c328-1839-4d0f-8713-ccb57728f5fd",
   "metadata": {
    "pycharm": {
     "name": "#%%\n"
    }
   },
   "outputs": [],
   "source": [
    "all_taxos = [first_taxo]\n",
    "for i in range(round(len(rows) / 200)):\n",
    "    batch = rows[i*200: (i+1)*200]\n",
    "    new_taxo = await w.run(documents=[x.Text for x in rows[:200]], taxonomy=all_taxos[-1])\n",
    "    all_taxos.append(new_taxo)\n",
    "    if i > 5:\n",
    "        break"
   ]
  },
  {
   "cell_type": "code",
   "execution_count": 217,
   "id": "81ed87fd-3293-47cc-a470-c01a23f2576c",
   "metadata": {
    "pycharm": {
     "name": "#%%\n"
    }
   },
   "outputs": [
    {
     "data": {
      "text/plain": [
       "['<cluster_table>\\n  <cluster>\\n    <id>1</id>\\n    <name>Product Quality and Satisfaction</name>\\n    <description>Reviews focusing on the quality, taste, and overall satisfaction with various food and beverage products.</description>\\n  </cluster>\\n  <cluster>\\n    <id>2</id>\\n    <name>Pet Food and Treats</name>\\n    <description>Conversations about the quality, preferences, and experiences related to pet food and treats for dogs and cats.</description>\\n  </cluster>\\n  <cluster>\\n    <id>3</id>\\n    <name>Health and Dietary Preferences</name>\\n    <description>Discussions on health benefits, dietary choices, and preferences for low-calorie or organic food products.</description>\\n  </cluster>\\n  <cluster>\\n    <id>4</id>\\n    <name>Shopping Experience and Recommendations</name>\\n    <description>Insights on shopping experiences, product recommendations, and comparisons between different brands and retailers.</description>\\n  </cluster>\\n  <cluster>\\n    <id>5</id>\\n    <name>Cooking and Preparation Tips</name>\\n    <description>Advice and tips on cooking methods, ingredient pairings, and preparation techniques for various dishes.</description>\\n  </cluster>\\n</cluster_table>',\n",
       " '<cluster_table>\\n  <cluster>\\n    <id>1</id>\\n    <name>Requesting Information</name>\\n    <description>Users seek specific details or clarification on a topic or service.</description>\\n  </cluster>\\n  <cluster>\\n    <id>2</id>\\n    <name>Technical Support Queries</name>\\n    <description>Users ask for help with technical issues or troubleshooting problems.</description>\\n  </cluster>\\n  <cluster>\\n    <id>3</id>\\n    <name>Product Recommendations</name>\\n    <description>Users request suggestions for products based on their needs or preferences.</description>\\n  </cluster>\\n  <cluster>\\n    <id>4</id>\\n    <name>Feedback and Reviews</name>\\n    <description>Users provide opinions or experiences regarding products or services.</description>\\n  </cluster>\\n  <cluster>\\n    <id>5</id>\\n    <name>Account Management</name>\\n    <description>Users inquire about managing their accounts, including updates and settings.</description>\\n  </cluster>\\n  <cluster>\\n    <id>6</id>\\n    <name>Service Availability</name>\\n    <description>Users ask about the availability of services or products in their area.</description>\\n  </cluster>\\n  <cluster>\\n    <id>7</id>\\n    <name>Billing and Payments</name>\\n    <description>Users have questions related to billing, invoices, or payment methods.</description>\\n  </cluster>\\n  <cluster>\\n    <id>8</id>\\n    <name>Order Status Inquiries</name>\\n    <description>Users seek updates on the status of their orders or deliveries.</description>\\n  </cluster>\\n  <cluster>\\n    <id>9</id>\\n    <name>Cancellation Requests</name>\\n    <description>Users request to cancel services or orders they previously made.</description>\\n  </cluster>\\n  <cluster>\\n    <id>10</id>\\n    <name>General Inquiries</name>\\n    <description>Users ask broad questions that do not fit into specific categories.</description>\\n  </cluster>\\n</cluster_table>',\n",
       " '<cluster_table>\\n  <cluster>\\n    <id>1</id>\\n    <name>Requesting Information</name>\\n    <description>Users seek specific details or clarification on a topic or service.</description>\\n  </cluster>\\n  <cluster>\\n    <id>2</id>\\n    <name>Technical Support Queries</name>\\n    <description>Users ask for help with technical issues or troubleshooting problems.</description>\\n  </cluster>\\n  <cluster>\\n    <id>3</id>\\n    <name>Product Recommendations</name>\\n    <description>Users request suggestions for products based on their needs or preferences.</description>\\n  </cluster>\\n  <cluster>\\n    <id>4</id>\\n    <name>Feedback and Reviews</name>\\n    <description>Users provide opinions or feedback about products or services they have used.</description>\\n  </cluster>\\n  <cluster>\\n    <id>5</id>\\n    <name>Account Management</name>\\n    <description>Users inquire about managing their accounts, including updates and settings.</description>\\n  </cluster>\\n  <cluster>\\n    <id>6</id>\\n    <name>Service Availability</name>\\n    <description>Users ask about the availability of services or products in their area.</description>\\n  </cluster>\\n  <cluster>\\n    <id>7</id>\\n    <name>Order Status Inquiries</name>\\n    <description>Users seek updates on the status of their orders or deliveries.</description>\\n  </cluster>\\n  <cluster>\\n    <id>8</id>\\n    <name>Billing and Payment Issues</name>\\n    <description>Users have questions or concerns regarding billing and payment processes.</description>\\n  </cluster>\\n  <cluster>\\n    <id>9</id>\\n    <name>Cancellation Requests</name>\\n    <description>Users request to cancel services or orders they previously made.</description>\\n  </cluster>\\n  <cluster>\\n    <id>10</id>\\n    <name>General Inquiries</name>\\n    <description>Users ask broad questions that do not fit into specific categories.</description>\\n  </cluster>\\n</cluster_table>',\n",
       " '<cluster_table>\\n  <cluster>\\n    <id>1</id>\\n    <name>Requesting Information</name>\\n    <description>Users seek specific details or clarification on a topic or service.</description>\\n  </cluster>\\n  <cluster>\\n    <id>2</id>\\n    <name>Technical Support Queries</name>\\n    <description>Users ask for help with technical issues or troubleshooting problems.</description>\\n  </cluster>\\n  <cluster>\\n    <id>3</id>\\n    <name>Product Recommendations</name>\\n    <description>Users request suggestions for products based on their needs or preferences.</description>\\n  </cluster>\\n  <cluster>\\n    <id>4</id>\\n    <name>Feedback and Reviews</name>\\n    <description>Users provide opinions or feedback about products or services they have used.</description>\\n  </cluster>\\n  <cluster>\\n    <id>5</id>\\n    <name>Account Management</name>\\n    <description>Users inquire about managing their accounts, including settings and subscriptions.</description>\\n  </cluster>\\n  <cluster>\\n    <id>6</id>\\n    <name>Order Status Inquiries</name>\\n    <description>Users check the status of their orders or deliveries.</description>\\n  </cluster>\\n  <cluster>\\n    <id>7</id>\\n    <name>Service Cancellation Requests</name>\\n    <description>Users express intent to cancel services or subscriptions.</description>\\n  </cluster>\\n  <cluster>\\n    <id>8</id>\\n    <name>Billing and Payment Questions</name>\\n    <description>Users ask about billing issues, payment methods, or invoices.</description>\\n  </cluster>\\n  <cluster>\\n    <id>9</id>\\n    <name>Appointment Scheduling</name>\\n    <description>Users seek to schedule or reschedule appointments or meetings.</description>\\n  </cluster>\\n  <cluster>\\n    <id>10</id>\\n    <name>General Inquiries</name>\\n    <description>Users ask broad questions that do not fit into specific categories.</description>\\n  </cluster>\\n</cluster_table>',\n",
       " '<cluster_table>\\n  <cluster>\\n    <id>1</id>\\n    <name>Requesting Technical Support</name>\\n    <description>Users seeking assistance with technical issues or troubleshooting problems related to products or services.</description>\\n  </cluster>\\n  <cluster>\\n    <id>2</id>\\n    <name>Inquiring About Product Features</name>\\n    <description>Users asking for detailed information about specific features or functionalities of a product.</description>\\n  </cluster>\\n  <cluster>\\n    <id>3</id>\\n    <name>Seeking Pricing Information</name>\\n    <description>Users looking for details regarding the pricing, discounts, or payment options for products or services.</description>\\n  </cluster>\\n  <cluster>\\n    <id>4</id>\\n    <name>Requesting Order Status</name>\\n    <description>Users inquiring about the status of their orders, including shipping and delivery updates.</description>\\n  </cluster>\\n  <cluster>\\n    <id>5</id>\\n    <name>Providing Feedback or Reviews</name>\\n    <description>Users sharing their experiences, opinions, or suggestions regarding products or services.</description>\\n  </cluster>\\n  <cluster>\\n    <id>6</id>\\n    <name>Asking for Account Assistance</name>\\n    <description>Users needing help with account-related issues, such as login problems or account settings.</description>\\n  </cluster>\\n  <cluster>\\n    <id>7</id>\\n    <name>Requesting Cancellation or Refund</name>\\n    <description>Users seeking to cancel orders or request refunds for products or services.</description>\\n  </cluster>\\n  <cluster>\\n    <id>8</id>\\n    <name>Inquiring About Company Policies</name>\\n    <description>Users asking for clarification on company policies, including return and warranty policies.</description>\\n  </cluster>\\n  <cluster>\\n    <id>9</id>\\n    <name>Requesting Product Recommendations</name>\\n    <description>Users looking for suggestions on products that best fit their needs or preferences.</description>\\n  </cluster>\\n  <cluster>\\n    <id>10</id>\\n    <name>Asking for Installation Guidance</name>\\n    <description>Users needing instructions or assistance with the installation of products or software.</description>\\n  </cluster>\\n</cluster_table>',\n",
       " '<cluster_table>\\n  <cluster>\\n    <id>1</id>\\n    <name>Requesting Information</name>\\n    <description>Users seek specific details or clarification on a topic or service.</description>\\n  </cluster>\\n  <cluster>\\n    <id>2</id>\\n    <name>Technical Support Queries</name>\\n    <description>Users ask for help with technical issues or troubleshooting problems.</description>\\n  </cluster>\\n  <cluster>\\n    <id>3</id>\\n    <name>Product Recommendations</name>\\n    <description>Users request suggestions for products based on their needs or preferences.</description>\\n  </cluster>\\n  <cluster>\\n    <id>4</id>\\n    <name>Feedback and Reviews</name>\\n    <description>Users provide opinions or evaluations about products or services.</description>\\n  </cluster>\\n  <cluster>\\n    <id>5</id>\\n    <name>Service Complaints</name>\\n    <description>Users express dissatisfaction or issues with services received.</description>\\n  </cluster>\\n  <cluster>\\n    <id>6</id>\\n    <name>Account Management</name>\\n    <description>Users inquire about managing their accounts, including updates and settings.</description>\\n  </cluster>\\n  <cluster>\\n    <id>7</id>\\n    <name>Order Status Inquiries</name>\\n    <description>Users check the status of their orders or deliveries.</description>\\n  </cluster>\\n  <cluster>\\n    <id>8</id>\\n    <name>Billing Questions</name>\\n    <description>Users ask about charges, invoices, or payment methods related to services.</description>\\n  </cluster>\\n  <cluster>\\n    <id>9</id>\\n    <name>Service Availability</name>\\n    <description>Users inquire about the availability of services in their location.</description>\\n  </cluster>\\n  <cluster>\\n    <id>10</id>\\n    <name>Appointment Scheduling</name>\\n    <description>Users seek to book, change, or cancel appointments.</description>\\n  </cluster>\\n  <cluster>\\n    <id>11</id>\\n    <name>General Inquiries</name>\\n    <description>Users ask broad questions that do not fit into specific categories.</description>\\n  </cluster>\\n  <cluster>\\n    <id>12</id>\\n    <name>Promotional Offers</name>\\n    <description>Users inquire about discounts, deals, or special promotions available.</description>\\n  </cluster>\\n  <cluster>\\n    <id>13</id>\\n    <name>Service Features Exploration</name>\\n    <description>Users seek information about specific features or functionalities of a service.</description>\\n  </cluster>\\n  <cluster>\\n    <id>14</id>\\n    <name>Privacy and Security Concerns</name>\\n    <description>Users express concerns or questions regarding data privacy and security measures.</description>\\n  </cluster>\\n  <cluster>\\n    <id>15</id>\\n    <name>Technical Updates and Changes</name>\\n    <description>Users inquire about recent updates or changes to technology or services.</description>\\n  </cluster>\\n</cluster_table>',\n",
       " '<cluster_table>\\n  <cluster>\\n    <id>1</id>\\n    <name>Requesting Information</name>\\n    <description>Users seek specific details or clarification on a topic or service.</description>\\n  </cluster>\\n  <cluster>\\n    <id>2</id>\\n    <name>Technical Support Queries</name>\\n    <description>Users ask for help with technical issues or troubleshooting problems.</description>\\n  </cluster>\\n  <cluster>\\n    <id>3</id>\\n    <name>Product Recommendations</name>\\n    <description>Users request suggestions for products based on their needs or preferences.</description>\\n  </cluster>\\n  <cluster>\\n    <id>4</id>\\n    <name>Feedback and Reviews</name>\\n    <description>Users provide opinions or feedback about products or services they have used.</description>\\n  </cluster>\\n  <cluster>\\n    <id>5</id>\\n    <name>Account Management</name>\\n    <description>Users inquire about managing their accounts, including updates and settings.</description>\\n  </cluster>\\n  <cluster>\\n    <id>6</id>\\n    <name>Service Availability</name>\\n    <description>Users ask about the availability of services or products in their area.</description>\\n  </cluster>\\n  <cluster>\\n    <id>7</id>\\n    <name>Billing and Payments</name>\\n    <description>Users seek assistance with billing inquiries or payment processing issues.</description>\\n  </cluster>\\n  <cluster>\\n    <id>8</id>\\n    <name>Order Tracking</name>\\n    <description>Users want to track the status of their orders or deliveries.</description>\\n  </cluster>\\n  <cluster>\\n    <id>9</id>\\n    <name>Cancellation Requests</name>\\n    <description>Users request to cancel services or orders they previously made.</description>\\n  </cluster>\\n  <cluster>\\n    <id>10</id>\\n    <name>General Inquiries</name>\\n    <description>Users ask broad questions that do not fit into specific categories.</description>\\n  </cluster>\\n</cluster_table>',\n",
       " '<cluster_table>\\n  <cluster>\\n    <id>1</id>\\n    <name>Requesting Technical Support</name>\\n    <description>Users seeking help with technical issues or troubleshooting problems related to products or services.</description>\\n  </cluster>\\n  <cluster>\\n    <id>2</id>\\n    <name>Inquiring About Product Features</name>\\n    <description>Users asking for detailed information about specific features or functionalities of a product.</description>\\n  </cluster>\\n  <cluster>\\n    <id>3</id>\\n    <name>Seeking Pricing Information</name>\\n    <description>Users looking for details regarding pricing, discounts, or payment options for products or services.</description>\\n  </cluster>\\n  <cluster>\\n    <id>4</id>\\n    <name>Requesting Order Status</name>\\n    <description>Users inquiring about the status of their orders, including shipping and delivery updates.</description>\\n  </cluster>\\n  <cluster>\\n    <id>5</id>\\n    <name>Providing Feedback or Reviews</name>\\n    <description>Users sharing their experiences, opinions, or suggestions regarding products or services.</description>\\n  </cluster>\\n  <cluster>\\n    <id>6</id>\\n    <name>Asking for Account Assistance</name>\\n    <description>Users needing help with account-related issues, such as login problems or account settings.</description>\\n  </cluster>\\n  <cluster>\\n    <id>7</id>\\n    <name>Requesting Cancellation or Refund</name>\\n    <description>Users seeking to cancel orders or request refunds for products or services.</description>\\n  </cluster>\\n  <cluster>\\n    <id>8</id>\\n    <name>Inquiring About Company Policies</name>\\n    <description>Users asking for clarification on company policies, including return and warranty policies.</description>\\n  </cluster>\\n  <cluster>\\n    <id>9</id>\\n    <name>Requesting Product Recommendations</name>\\n    <description>Users looking for suggestions on products that best fit their needs or preferences.</description>\\n  </cluster>\\n  <cluster>\\n    <id>10</id>\\n    <name>Seeking Installation Guidance</name>\\n    <description>Users needing assistance with the installation or setup of products or services.</description>\\n  </cluster>\\n  <cluster>\\n    <id>11</id>\\n    <name>Asking for Technical Documentation</name>\\n    <description>Users requesting manuals, guides, or technical documents related to products or services.</description>\\n  </cluster>\\n  <cluster>\\n    <id>12</id>\\n    <name>Inquiring About Promotions or Offers</name>\\n    <description>Users asking about current promotions, discounts, or special offers available.</description>\\n  </cluster>\\n  <cluster>\\n    <id>13</id>\\n    <name>Requesting Service Upgrades</name>\\n    <description>Users interested in upgrading their current services or subscriptions for enhanced features.</description>\\n  </cluster>\\n  <cluster>\\n    <id>14</id>\\n    <name>Asking for Compatibility Information</name>\\n    <description>Users inquiring about the compatibility of products with other devices or systems.</description>\\n  </cluster>\\n  <cluster>\\n    <id>15</id>\\n    <name>Seeking General Advice</name>\\n    <description>Users looking for general advice or tips related to products, services, or usage.</description>\\n  </cluster>\\n</cluster_table>']"
      ]
     },
     "execution_count": 217,
     "metadata": {},
     "output_type": "execute_result"
    }
   ],
   "source": [
    "all_taxos"
   ]
  },
  {
   "cell_type": "code",
   "execution_count": 218,
   "id": "f142a4be-aa4b-489e-9102-ed0e40047554",
   "metadata": {
    "pycharm": {
     "name": "#%%\n"
    }
   },
   "outputs": [
    {
     "name": "stdout",
     "output_type": "stream",
     "text": [
      "<cluster_table>\n",
      "  <cluster>\n",
      "    <id>1</id>\n",
      "    <name>Requesting Technical Support</name>\n",
      "    <description>Users seeking help with technical issues or troubleshooting problems related to products or services.</description>\n",
      "  </cluster>\n",
      "  <cluster>\n",
      "    <id>2</id>\n",
      "    <name>Inquiring About Product Features</name>\n",
      "    <description>Users asking for detailed information about specific features or functionalities of a product.</description>\n",
      "  </cluster>\n",
      "  <cluster>\n",
      "    <id>3</id>\n",
      "    <name>Seeking Pricing Information</name>\n",
      "    <description>Users looking for details regarding pricing, discounts, or payment options for products or services.</description>\n",
      "  </cluster>\n",
      "  <cluster>\n",
      "    <id>4</id>\n",
      "    <name>Requesting Order Status</name>\n",
      "    <description>Users inquiring about the status of their orders, including shipping and delivery updates.</description>\n",
      "  </cluster>\n",
      "  <cluster>\n",
      "    <id>5</id>\n",
      "    <name>Providing Feedback or Reviews</name>\n",
      "    <description>Users sharing their experiences, opinions, or suggestions regarding products or services.</description>\n",
      "  </cluster>\n",
      "  <cluster>\n",
      "    <id>6</id>\n",
      "    <name>Asking for Account Assistance</name>\n",
      "    <description>Users needing help with account-related issues, such as login problems or account settings.</description>\n",
      "  </cluster>\n",
      "  <cluster>\n",
      "    <id>7</id>\n",
      "    <name>Requesting Cancellation or Refund</name>\n",
      "    <description>Users seeking to cancel orders or request refunds for products or services.</description>\n",
      "  </cluster>\n",
      "  <cluster>\n",
      "    <id>8</id>\n",
      "    <name>Inquiring About Company Policies</name>\n",
      "    <description>Users asking for clarification on company policies, including return and warranty policies.</description>\n",
      "  </cluster>\n",
      "  <cluster>\n",
      "    <id>9</id>\n",
      "    <name>Requesting Product Recommendations</name>\n",
      "    <description>Users looking for suggestions on products that best fit their needs or preferences.</description>\n",
      "  </cluster>\n",
      "  <cluster>\n",
      "    <id>10</id>\n",
      "    <name>Seeking Installation Guidance</name>\n",
      "    <description>Users needing assistance with the installation or setup of products or services.</description>\n",
      "  </cluster>\n",
      "  <cluster>\n",
      "    <id>11</id>\n",
      "    <name>Asking for Technical Documentation</name>\n",
      "    <description>Users requesting manuals, guides, or technical documents related to products or services.</description>\n",
      "  </cluster>\n",
      "  <cluster>\n",
      "    <id>12</id>\n",
      "    <name>Inquiring About Promotions or Offers</name>\n",
      "    <description>Users asking about current promotions, discounts, or special offers available.</description>\n",
      "  </cluster>\n",
      "  <cluster>\n",
      "    <id>13</id>\n",
      "    <name>Requesting Service Upgrades</name>\n",
      "    <description>Users interested in upgrading their current services or subscriptions for enhanced features.</description>\n",
      "  </cluster>\n",
      "  <cluster>\n",
      "    <id>14</id>\n",
      "    <name>Asking for Compatibility Information</name>\n",
      "    <description>Users inquiring about the compatibility of products with other devices or systems.</description>\n",
      "  </cluster>\n",
      "  <cluster>\n",
      "    <id>15</id>\n",
      "    <name>Seeking General Advice</name>\n",
      "    <description>Users looking for general advice or tips related to products, services, or usage.</description>\n",
      "  </cluster>\n",
      "</cluster_table>\n"
     ]
    }
   ],
   "source": [
    "print(all_taxos[-1])"
   ]
  },
  {
   "cell_type": "code",
   "execution_count": 219,
   "id": "5f22e853-770c-4beb-ab22-975ba84cad93",
   "metadata": {
    "pycharm": {
     "name": "#%%\n"
    }
   },
   "outputs": [
    {
     "name": "stdout",
     "output_type": "stream",
     "text": [
      "<cluster_table>\n",
      "  <cluster>\n",
      "    <id>1</id>\n",
      "    <name>Requesting Information</name>\n",
      "    <description>Users seek specific details or clarification on a topic or service.</description>\n",
      "  </cluster>\n",
      "  <cluster>\n",
      "    <id>2</id>\n",
      "    <name>Technical Support Queries</name>\n",
      "    <description>Users ask for help with technical issues or troubleshooting problems.</description>\n",
      "  </cluster>\n",
      "  <cluster>\n",
      "    <id>3</id>\n",
      "    <name>Product Recommendations</name>\n",
      "    <description>Users request suggestions for products based on their needs or preferences.</description>\n",
      "  </cluster>\n",
      "  <cluster>\n",
      "    <id>4</id>\n",
      "    <name>Feedback and Reviews</name>\n",
      "    <description>Users provide opinions or feedback about products or services they have used.</description>\n",
      "  </cluster>\n",
      "  <cluster>\n",
      "    <id>5</id>\n",
      "    <name>Account Management</name>\n",
      "    <description>Users inquire about managing their accounts, including updates and settings.</description>\n",
      "  </cluster>\n",
      "  <cluster>\n",
      "    <id>6</id>\n",
      "    <name>Service Availability</name>\n",
      "    <description>Users ask about the availability of services or products in their area.</description>\n",
      "  </cluster>\n",
      "  <cluster>\n",
      "    <id>7</id>\n",
      "    <name>Order Status Inquiries</name>\n",
      "    <description>Users seek updates on the status of their orders or deliveries.</description>\n",
      "  </cluster>\n",
      "  <cluster>\n",
      "    <id>8</id>\n",
      "    <name>Billing and Payment Issues</name>\n",
      "    <description>Users have questions or concerns regarding billing and payment processes.</description>\n",
      "  </cluster>\n",
      "  <cluster>\n",
      "    <id>9</id>\n",
      "    <name>Cancellation Requests</name>\n",
      "    <description>Users request to cancel services or orders they previously made.</description>\n",
      "  </cluster>\n",
      "  <cluster>\n",
      "    <id>10</id>\n",
      "    <name>General Inquiries</name>\n",
      "    <description>Users ask broad questions that do not fit into specific categories.</description>\n",
      "  </cluster>\n",
      "</cluster_table>\n"
     ]
    }
   ],
   "source": [
    "print(all_taxos[2])"
   ]
  },
  {
   "cell_type": "code",
   "execution_count": null,
   "id": "1ea98ec8-85e9-48a3-988a-e65bf333852c",
   "metadata": {
    "pycharm": {
     "name": "#%%\n"
    }
   },
   "outputs": [],
   "source": []
  },
  {
   "cell_type": "code",
   "execution_count": null,
   "id": "76d1a26d-bafc-4ad3-80d4-2ab2105e961a",
   "metadata": {
    "pycharm": {
     "name": "#%%\n"
    }
   },
   "outputs": [],
   "source": []
  },
  {
   "cell_type": "code",
   "execution_count": null,
   "id": "05e03db0-1701-4c0e-a241-d0e7e19310d9",
   "metadata": {
    "pycharm": {
     "name": "#%%\n"
    }
   },
   "outputs": [],
   "source": []
  }
 ],
 "metadata": {
  "kernelspec": {
   "display_name": "Python 3 (ipykernel)",
   "language": "python",
   "name": "python3"
  },
  "language_info": {
   "codemirror_mode": {
    "name": "ipython",
    "version": 3
   },
   "file_extension": ".py",
   "mimetype": "text/x-python",
   "name": "python",
   "nbconvert_exporter": "python",
   "pygments_lexer": "ipython3",
   "version": "3.10.13"
  }
 },
 "nbformat": 4,
 "nbformat_minor": 5
}
