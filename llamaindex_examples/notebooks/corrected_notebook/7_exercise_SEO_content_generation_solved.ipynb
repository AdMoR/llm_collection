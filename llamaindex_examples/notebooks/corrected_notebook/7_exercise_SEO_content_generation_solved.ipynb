{
 "cells": [
  {
   "cell_type": "code",
   "execution_count": 1,
   "id": "a60b4b16-46d6-4c91-8c4f-467e64548c40",
   "metadata": {},
   "outputs": [
    {
     "name": "stdout",
     "output_type": "stream",
     "text": [
      "/home/amor/Documents/code_dw/human_in_the_loop_workflow_demo/venv/bin/python3.11\n"
     ]
    }
   ],
   "source": [
    "import sys\n",
    "import os \n",
    "import nest_asyncio\n",
    "\n",
    "# Sanity check\n",
    "print(sys.executable)\n",
    "nest_asyncio.apply()\n",
    "\n",
    "from dotenv import load_dotenv\n",
    "load_dotenv() "
   ]
  },
  {
   "cell_type": "code",
   "execution_count": 88,
   "id": "8298ae0e-5547-4730-b4bc-8f3ab86cb474",
   "metadata": {},
   "outputs": [],
   "source": [
    "import os\n",
    "from pydantic import BaseModel, Field\n",
    "from llama_index.core.workflow import (\n",
    "    Workflow,\n",
    "    step,\n",
    "    Event,\n",
    "    Context,\n",
    "    StartEvent,\n",
    "    StopEvent\n",
    ")\n",
    "from llama_index.llms.openai import OpenAI\n",
    "from llama_index.core import SimpleDirectoryReader\n",
    "from llama_index.core import (\n",
    "    SimpleDirectoryReader,\n",
    "    load_index_from_storage,\n",
    "    VectorStoreIndex,\n",
    "    StorageContext,\n",
    ")\n",
    "from llama_index.core.node_parser import SentenceSplitter\n",
    "from llama_index.retrievers.bm25 import BM25Retriever\n",
    "import Stemmer\n",
    "from llama_index.core import VectorStoreIndex, get_response_synthesizer\n",
    "from llama_index.core.retrievers import VectorIndexRetriever\n",
    "from llama_index.core.query_engine import RetrieverQueryEngine\n",
    "from llama_index.core.postprocessor import LLMRerank\n",
    "from llama_index.core.evaluation import FaithfulnessEvaluator"
   ]
  },
  {
   "cell_type": "code",
   "execution_count": null,
   "id": "fc767b27-1efc-4822-b8ad-e100ad58a091",
   "metadata": {},
   "outputs": [],
   "source": []
  },
  {
   "cell_type": "markdown",
   "id": "f3d9424f-4e51-4d69-94bb-2c9a90adaec8",
   "metadata": {},
   "source": [
    "## Exercise : \n",
    "\n",
    "Your goal is to streamline the content creation for a Blog post\n",
    "\n",
    "You will use the following textbook pdf `./data/textbook/AnatomyandPhysiology-OP.pdf`\n",
    "\n",
    "Every paragraph produced should be deeply sourced from some of the notebook content\n",
    "\n"
   ]
  },
  {
   "cell_type": "code",
   "execution_count": null,
   "id": "041e4780-125b-44e3-a595-64e3a4ab286b",
   "metadata": {},
   "outputs": [],
   "source": [
    "\n",
    "documents = SimpleDirectoryReader(\n",
    "    input_files=[\"./data/textbook/AnatomyandPhysiology-OP.pdf\"],\n",
    ").load_data()\n",
    "splitter = SentenceSplitter(chunk_size=256)\n",
    "nodes = splitter.get_nodes_from_documents(documents)\n"
   ]
  },
  {
   "cell_type": "code",
   "execution_count": 3,
   "id": "9ac90d56-0f2d-41cf-9ffb-5c7d9b550840",
   "metadata": {},
   "outputs": [],
   "source": [
    "len(nodes)"
   ]
  },
  {
   "cell_type": "code",
   "execution_count": 4,
   "id": "fc766786-0560-47c1-b475-dd16e99a584b",
   "metadata": {},
   "outputs": [
    {
     "data": {
      "text/plain": [
       "15888"
      ]
     },
     "execution_count": 4,
     "metadata": {},
     "output_type": "execute_result"
    }
   ],
   "source": [
    "retriever_top_5 = BM25Retriever.from_defaults(\n",
    "    nodes=nodes,\n",
    "    similarity_top_k=5,\n",
    "    stemmer=Stemmer.Stemmer(\"english\"),\n",
    "    language=\"english\",\n",
    ")"
   ]
  },
  {
   "cell_type": "code",
   "execution_count": null,
   "id": "3841d766-270a-484c-b744-f38ecd495399",
   "metadata": {},
   "outputs": [],
   "source": []
  },
  {
   "cell_type": "markdown",
   "id": "764c30f1-896b-4dd9-b3ec-084d2ff0771d",
   "metadata": {},
   "source": [
    "### Test 1 - Basic approach"
   ]
  },
  {
   "cell_type": "code",
   "execution_count": 5,
   "id": "606392f4-c6ad-4cb3-8f47-47fa8a4bf9fb",
   "metadata": {},
   "outputs": [
    {
     "ename": "AttributeError",
     "evalue": "'Response' object has no attribute 'text'",
     "output_type": "error",
     "traceback": [
      "\u001b[0;31m---------------------------------------------------------------------------\u001b[0m",
      "\u001b[0;31mAttributeError\u001b[0m                            Traceback (most recent call last)",
      "Cell \u001b[0;32mIn[5], line 13\u001b[0m\n\u001b[1;32m      7\u001b[0m query_engine \u001b[38;5;241m=\u001b[39m RetrieverQueryEngine(\n\u001b[1;32m      8\u001b[0m     retriever\u001b[38;5;241m=\u001b[39mretriever_top_5,\n\u001b[1;32m      9\u001b[0m     response_synthesizer\u001b[38;5;241m=\u001b[39mresponse_synthesizer,\n\u001b[1;32m     10\u001b[0m )\n\u001b[1;32m     11\u001b[0m response \u001b[38;5;241m=\u001b[39m query_engine\u001b[38;5;241m.\u001b[39mquery(\u001b[38;5;124m\"\u001b[39m\u001b[38;5;124mTell me about how the skin works\u001b[39m\u001b[38;5;124m\"\u001b[39m)\n\u001b[0;32m---> 13\u001b[0m \u001b[43mresponse\u001b[49m\u001b[38;5;241;43m.\u001b[39;49m\u001b[43mtext\u001b[49m\n",
      "\u001b[0;31mAttributeError\u001b[0m: 'Response' object has no attribute 'text'"
     ]
    }
   ],
   "source": [
    "# configure response synthesizer\n",
    "response_synthesizer = get_response_synthesizer(\n",
    "    response_mode=\"tree_summarize\",\n",
    ")\n",
    "\n",
    "# assemble query engine\n",
    "query_engine = RetrieverQueryEngine(\n",
    "    retriever=retriever_top_5,\n",
    "    response_synthesizer=response_synthesizer,\n",
    ")\n",
    "response = query_engine.query(\"Tell me about how the skin works\")\n",
    "\n"
   ]
  },
  {
   "cell_type": "code",
   "execution_count": 7,
   "id": "c5fb1bfc-2398-4752-b499-79083f31c22c",
   "metadata": {},
   "outputs": [
    {
     "data": {
      "text/plain": [
       "\"The skin, as part of the integumentary system, is responsible for more than just outward appearance. It is the body's largest organ system, covering about 16 percent of body weight and protecting inner organs. The skin requires daily care and protection to maintain its health. It consists of layers that work together to perform essential functions, such as protecting against external threats, regulating body temperature, and serving as a barrier to prevent dehydration and infection. Additionally, specialized cells like keratinocytes and melanocytes play crucial roles in skin structure and function, contributing to processes like skin pigmentation and regeneration.\""
      ]
     },
     "execution_count": 7,
     "metadata": {},
     "output_type": "execute_result"
    }
   ],
   "source": [
    "response.response"
   ]
  },
  {
   "cell_type": "code",
   "execution_count": 16,
   "id": "c5e5f6a7-1349-47f4-a101-74a8660d1b47",
   "metadata": {},
   "outputs": [
    {
     "ename": "IndexError",
     "evalue": "list index out of range",
     "output_type": "error",
     "traceback": [
      "\u001b[0;31m---------------------------------------------------------------------------\u001b[0m",
      "\u001b[0;31mIndexError\u001b[0m                                Traceback (most recent call last)",
      "Cell \u001b[0;32mIn[16], line 1\u001b[0m\n\u001b[0;32m----> 1\u001b[0m \u001b[43mresponse\u001b[49m\u001b[38;5;241;43m.\u001b[39;49m\u001b[43msource_nodes\u001b[49m\u001b[43m[\u001b[49m\u001b[38;5;241;43m5\u001b[39;49m\u001b[43m]\u001b[49m\u001b[38;5;241m.\u001b[39mtext\n",
      "\u001b[0;31mIndexError\u001b[0m: list index out of range"
     ]
    }
   ],
   "source": [
    "response.source_nodes[5].text"
   ]
  },
  {
   "cell_type": "markdown",
   "id": "f952995b-1583-4d23-93f4-3482cfb9b2bd",
   "metadata": {},
   "source": [
    "**Conclusion** Does not work :( "
   ]
  },
  {
   "cell_type": "code",
   "execution_count": null,
   "id": "7032b72d-c51d-41b7-bc70-9126e0ff2f74",
   "metadata": {},
   "outputs": [],
   "source": []
  },
  {
   "cell_type": "code",
   "execution_count": null,
   "id": "fe5a1715-437f-4b09-becb-f16cf6e882c6",
   "metadata": {},
   "outputs": [],
   "source": []
  },
  {
   "cell_type": "markdown",
   "id": "4d24ccec-8346-47cb-b026-fa1a1597a0ea",
   "metadata": {},
   "source": [
    "### Test 2 - Use a reranker and a larger set of documents"
   ]
  },
  {
   "cell_type": "code",
   "execution_count": 20,
   "id": "61fee637-ffe7-4b9f-9000-05c5429635a8",
   "metadata": {},
   "outputs": [],
   "source": [
    "top_k = 15\n",
    "\n",
    "\n",
    "retriever_top_k = BM25Retriever.from_defaults(\n",
    "    nodes=nodes,\n",
    "    similarity_top_k=top_k,\n",
    "    stemmer=Stemmer.Stemmer(\"english\"),\n",
    "    language=\"english\",\n",
    ")\n",
    "\n",
    "reranker = LLMRerank(\n",
    "            choice_batch_size=5,\n",
    "            top_n=top_k,\n",
    "        )"
   ]
  },
  {
   "cell_type": "code",
   "execution_count": 21,
   "id": "66e8821a-4c3d-4ba7-945d-cc51ab13ca89",
   "metadata": {},
   "outputs": [],
   "source": [
    "# assemble query engine\n",
    "query_engine = RetrieverQueryEngine(\n",
    "    retriever=retriever_top_k,\n",
    "    node_postprocessors=[reranker]\n",
    ")"
   ]
  },
  {
   "cell_type": "code",
   "execution_count": 22,
   "id": "30146704-0d13-4695-9c63-6db8f89993da",
   "metadata": {},
   "outputs": [],
   "source": [
    "response = query_engine.query(\"Tell me about how the skin works\")\n"
   ]
  },
  {
   "cell_type": "code",
   "execution_count": 23,
   "id": "9bfd38a7-d27c-473a-b70c-8af45cabaff8",
   "metadata": {},
   "outputs": [
    {
     "data": {
      "text/plain": [
       "\"The skin, along with its accessory structures, is a vital part of the integumentary system. It serves as the body's largest organ system, covering about 16 percent of body weight and protecting the inner organs. The skin plays a crucial role in maintaining overall health by providing a protective barrier against external elements and regulating body temperature through processes like radiation, convection, and evaporation. Additionally, the skin is made up of tissues that work together to perform essential functions, such as protecting against diseases, disorders, and injuries that can affect the integumentary system.\""
      ]
     },
     "execution_count": 23,
     "metadata": {},
     "output_type": "execute_result"
    }
   ],
   "source": [
    "response.response"
   ]
  },
  {
   "cell_type": "code",
   "execution_count": null,
   "id": "ec7584f6-1a3e-47b3-85bb-bbf7ac503e76",
   "metadata": {},
   "outputs": [],
   "source": []
  },
  {
   "cell_type": "code",
   "execution_count": null,
   "id": "5de79d07-257f-4385-8118-44860b056193",
   "metadata": {},
   "outputs": [],
   "source": []
  },
  {
   "cell_type": "markdown",
   "id": "b572dd62-5149-4a3a-9f90-8b3316da9cfd",
   "metadata": {},
   "source": [
    "### Test 3 - Custom workflow\n",
    "\n",
    "Use a workflow for custom processing\n"
   ]
  },
  {
   "cell_type": "code",
   "execution_count": 110,
   "id": "1e1e3d94-18fd-4319-aec5-50b55a79125f",
   "metadata": {},
   "outputs": [],
   "source": [
    "from typing import List, Any\n",
    "from pydantic import BaseModel, Field\n",
    "\n",
    "\n",
    "class Paragraph(BaseModel):\n",
    "    subtitle: str = Field(\"The subtitle of this paragraph. It will be the main topic of this text.\")\n",
    "    text: Any\n",
    "\n",
    "\n",
    "class Article(BaseModel):\n",
    "    \"\"\"An article is composed of several paragraph \"\"\"\n",
    "\n",
    "    title: str\n",
    "    paragraphs: List[Paragraph]\n",
    "\n",
    "\n",
    "class Outline(BaseModel):\n",
    "    \"\"\"An outline represent the structure of an article\"\"\"\n",
    "\n",
    "    title: str = Field(\"The title of this article.\")\n",
    "    subtitles: List[str]  = Field(\"The sub-titles of each part of the article.\")\n",
    "\n",
    "\n",
    "class OutlineEvent(Event):\n",
    "    outline: Outline\n",
    "\n",
    "\n",
    "class VerificationEvent(Event):\n",
    "    paragraphs: list[Paragraph]\n",
    "\n",
    "\n",
    "\n",
    "class ContentCreationWorkflow(Workflow):\n",
    "\n",
    "    @step\n",
    "    async def step_a(self, ev: StartEvent) -> OutlineEvent:\n",
    "        llm = OpenAI(temperature=0.05, model=\"gpt-4o-mini\")\n",
    "        sllm = llm.as_structured_llm(output_cls=Outline)\n",
    "        outline = sllm.complete(f\"Write the outline of an article about {ev['message']}. There should be at least 7 parts.\").raw\n",
    "        return OutlineEvent(outline=outline)\n",
    "\n",
    "\n",
    "    @step\n",
    "    async def step_b(self, ev: OutlineEvent) -> VerificationEvent:\n",
    "        outline = ev.outline\n",
    "        query_engine = RetrieverQueryEngine(\n",
    "            retriever=retriever_top_k,\n",
    "            node_postprocessors=[reranker]\n",
    "        )\n",
    "        paragraphs = list()\n",
    "        for subtitle in outline.subtitles:\n",
    "            rez = query_engine.query(subtitle)\n",
    "            paragraphs.append(Paragraph(subtitle=subtitle, text=rez))\n",
    "\n",
    "        return VerificationEvent(paragraphs=paragraphs)\n",
    "\n",
    "\n",
    "    @step\n",
    "    async def step_c(self, ev: VerificationEvent) -> StopEvent:\n",
    "        paragraphs = ev.paragraphs\n",
    "        evaluator_gpt4 = FaithfulnessEvaluator(llm=llm)\n",
    "        final_paragraphs = list()\n",
    "        for p in paragraphs:\n",
    "            eval_result = evaluator_gpt4.evaluate_response(response=p.text)\n",
    "\n",
    "            if eval_result.feedback == \"YES\" and eval_result.score >= 0.5:\n",
    "                final_paragraphs.append(p)\n",
    "            else:\n",
    "                print(eval_result.feedback)\n",
    "\n",
    "        if len(final_paragraphs) < 3:\n",
    "            print(len(final_paragraphs))\n",
    "            raise Exception(\"NOt enough paragraphs\")\n",
    "        \n",
    "        content = \"\\n \".join(p.text.response for p in final_paragraphs)\n",
    "        rez = llm.complete(\n",
    "            f\"\"\"\n",
    "            Given these source, please synthetize a complete article.\n",
    "            Don't delete any source, you should just re-aarange it to make it more readable.\n",
    "\n",
    "            {content}\n",
    "            \"\"\"\n",
    "        )\n",
    "        print(rez)\n",
    "        print(rez.text)\n",
    "        return StopEvent(result=rez.text)\n"
   ]
  },
  {
   "cell_type": "code",
   "execution_count": 111,
   "id": "fe67f89a-a57b-40be-8a0d-98cd97e5b1b7",
   "metadata": {},
   "outputs": [
    {
     "name": "stdout",
     "output_type": "stream",
     "text": [
      "Running step step_a\n",
      "Step step_a produced event OutlineEvent\n",
      "Running step step_b\n",
      "Step step_b produced event VerificationEvent\n",
      "Running step step_c\n",
      "NO\n",
      "NO\n",
      "**The Importance of Skin Health: Understanding the Integumentary System**\n",
      "\n",
      "The skin is a crucial part of the body's integumentary system, serving as the largest organ system and playing a significant role in maintaining homeostasis. Composed of multiple layers of cells and tissues, the skin is held to underlying structures by connective tissue. The deeper layer of skin is well vascularized, containing numerous blood vessels that support its functions. Alongside the skin, accessory structures such as hair, nails, and glands contribute to its overall protective capabilities.\n",
      "\n",
      "The skin performs various essential functions, including protecting the body from external elements like microorganisms, chemicals, and UV sunlight. It prevents dehydration, acts as a sensory organ, regulates body temperature and electrolyte balance, and synthesizes vitamin D. Additionally, the skin stores fats, provides insulation, and forms a protective barrier against water loss.\n",
      "\n",
      "As individuals age, changes occur in the integumentary system, which can lead to various skin conditions. Common diseases, disorders, and injuries can affect the skin, including skin cancer, eczema, and acne. Skin cancer, often linked to UV radiation exposure, is characterized by abnormal cell division. Eczema is an allergic reaction that results in dry, itchy patches of skin, while acne involves pore blockages that lead to infection and inflammation. Other skin disorders include seborrheic dermatitis, psoriasis, cold sores, impetigo, scabies, hives, and warts.\n",
      "\n",
      "Maintaining the health of the skin involves daily care and protection. It is essential to keep the skin clean, moisturized, and shielded from the sun by using sunscreen. Staying hydrated, eating a balanced diet, and getting enough sleep are also vital for healthy skin. Additionally, avoiding smoking and excessive alcohol consumption can significantly contribute to maintaining skin health.\n",
      "\n",
      "In conclusion, understanding the structure and functions of the skin, as well as the common conditions that can affect it, is essential for promoting skin health. By adopting a proactive approach to skincare and lifestyle choices, individuals can help ensure their skin remains healthy and resilient throughout their lives.\n",
      "**The Importance of Skin Health: Understanding the Integumentary System**\n",
      "\n",
      "The skin is a crucial part of the body's integumentary system, serving as the largest organ system and playing a significant role in maintaining homeostasis. Composed of multiple layers of cells and tissues, the skin is held to underlying structures by connective tissue. The deeper layer of skin is well vascularized, containing numerous blood vessels that support its functions. Alongside the skin, accessory structures such as hair, nails, and glands contribute to its overall protective capabilities.\n",
      "\n",
      "The skin performs various essential functions, including protecting the body from external elements like microorganisms, chemicals, and UV sunlight. It prevents dehydration, acts as a sensory organ, regulates body temperature and electrolyte balance, and synthesizes vitamin D. Additionally, the skin stores fats, provides insulation, and forms a protective barrier against water loss.\n",
      "\n",
      "As individuals age, changes occur in the integumentary system, which can lead to various skin conditions. Common diseases, disorders, and injuries can affect the skin, including skin cancer, eczema, and acne. Skin cancer, often linked to UV radiation exposure, is characterized by abnormal cell division. Eczema is an allergic reaction that results in dry, itchy patches of skin, while acne involves pore blockages that lead to infection and inflammation. Other skin disorders include seborrheic dermatitis, psoriasis, cold sores, impetigo, scabies, hives, and warts.\n",
      "\n",
      "Maintaining the health of the skin involves daily care and protection. It is essential to keep the skin clean, moisturized, and shielded from the sun by using sunscreen. Staying hydrated, eating a balanced diet, and getting enough sleep are also vital for healthy skin. Additionally, avoiding smoking and excessive alcohol consumption can significantly contribute to maintaining skin health.\n",
      "\n",
      "In conclusion, understanding the structure and functions of the skin, as well as the common conditions that can affect it, is essential for promoting skin health. By adopting a proactive approach to skincare and lifestyle choices, individuals can help ensure their skin remains healthy and resilient throughout their lives.\n",
      "Step step_c produced event StopEvent\n"
     ]
    },
    {
     "data": {
      "text/plain": [
       "\"**The Importance of Skin Health: Understanding the Integumentary System**\\n\\nThe skin is a crucial part of the body's integumentary system, serving as the largest organ system and playing a significant role in maintaining homeostasis. Composed of multiple layers of cells and tissues, the skin is held to underlying structures by connective tissue. The deeper layer of skin is well vascularized, containing numerous blood vessels that support its functions. Alongside the skin, accessory structures such as hair, nails, and glands contribute to its overall protective capabilities.\\n\\nThe skin performs various essential functions, including protecting the body from external elements like microorganisms, chemicals, and UV sunlight. It prevents dehydration, acts as a sensory organ, regulates body temperature and electrolyte balance, and synthesizes vitamin D. Additionally, the skin stores fats, provides insulation, and forms a protective barrier against water loss.\\n\\nAs individuals age, changes occur in the integumentary system, which can lead to various skin conditions. Common diseases, disorders, and injuries can affect the skin, including skin cancer, eczema, and acne. Skin cancer, often linked to UV radiation exposure, is characterized by abnormal cell division. Eczema is an allergic reaction that results in dry, itchy patches of skin, while acne involves pore blockages that lead to infection and inflammation. Other skin disorders include seborrheic dermatitis, psoriasis, cold sores, impetigo, scabies, hives, and warts.\\n\\nMaintaining the health of the skin involves daily care and protection. It is essential to keep the skin clean, moisturized, and shielded from the sun by using sunscreen. Staying hydrated, eating a balanced diet, and getting enough sleep are also vital for healthy skin. Additionally, avoiding smoking and excessive alcohol consumption can significantly contribute to maintaining skin health.\\n\\nIn conclusion, understanding the structure and functions of the skin, as well as the common conditions that can affect it, is essential for promoting skin health. By adopting a proactive approach to skincare and lifestyle choices, individuals can help ensure their skin remains healthy and resilient throughout their lives.\""
      ]
     },
     "execution_count": 111,
     "metadata": {},
     "output_type": "execute_result"
    }
   ],
   "source": [
    "w = ContentCreationWorkflow(timeout=120, verbose=True)\n",
    "\n",
    "r = await w.run(message=\"skin\")\n",
    "r"
   ]
  },
  {
   "cell_type": "code",
   "execution_count": 112,
   "id": "93a7d727-90a2-493b-85fd-8538d4c06908",
   "metadata": {},
   "outputs": [
    {
     "name": "stdout",
     "output_type": "stream",
     "text": [
      "**The Importance of Skin Health: Understanding the Integumentary System**\n",
      "\n",
      "The skin is a crucial part of the body's integumentary system, serving as the largest organ system and playing a significant role in maintaining homeostasis. Composed of multiple layers of cells and tissues, the skin is held to underlying structures by connective tissue. The deeper layer of skin is well vascularized, containing numerous blood vessels that support its functions. Alongside the skin, accessory structures such as hair, nails, and glands contribute to its overall protective capabilities.\n",
      "\n",
      "The skin performs various essential functions, including protecting the body from external elements like microorganisms, chemicals, and UV sunlight. It prevents dehydration, acts as a sensory organ, regulates body temperature and electrolyte balance, and synthesizes vitamin D. Additionally, the skin stores fats, provides insulation, and forms a protective barrier against water loss.\n",
      "\n",
      "As individuals age, changes occur in the integumentary system, which can lead to various skin conditions. Common diseases, disorders, and injuries can affect the skin, including skin cancer, eczema, and acne. Skin cancer, often linked to UV radiation exposure, is characterized by abnormal cell division. Eczema is an allergic reaction that results in dry, itchy patches of skin, while acne involves pore blockages that lead to infection and inflammation. Other skin disorders include seborrheic dermatitis, psoriasis, cold sores, impetigo, scabies, hives, and warts.\n",
      "\n",
      "Maintaining the health of the skin involves daily care and protection. It is essential to keep the skin clean, moisturized, and shielded from the sun by using sunscreen. Staying hydrated, eating a balanced diet, and getting enough sleep are also vital for healthy skin. Additionally, avoiding smoking and excessive alcohol consumption can significantly contribute to maintaining skin health.\n",
      "\n",
      "In conclusion, understanding the structure and functions of the skin, as well as the common conditions that can affect it, is essential for promoting skin health. By adopting a proactive approach to skincare and lifestyle choices, individuals can help ensure their skin remains healthy and resilient throughout their lives.\n"
     ]
    }
   ],
   "source": [
    "print(r)"
   ]
  },
  {
   "cell_type": "code",
   "execution_count": null,
   "id": "0afa26ab-31f4-432e-b1f7-e3392e5a9a44",
   "metadata": {},
   "outputs": [],
   "source": []
  },
  {
   "cell_type": "code",
   "execution_count": null,
   "id": "2d22c543-cef8-439a-a30f-412d5870c065",
   "metadata": {},
   "outputs": [],
   "source": []
  },
  {
   "cell_type": "code",
   "execution_count": null,
   "id": "6440f73e-de68-4b3b-bb88-56c6392bdbc8",
   "metadata": {},
   "outputs": [],
   "source": []
  },
  {
   "cell_type": "code",
   "execution_count": null,
   "id": "319d894f-5ada-4933-ab39-92995b4eb299",
   "metadata": {},
   "outputs": [],
   "source": []
  },
  {
   "cell_type": "code",
   "execution_count": null,
   "id": "75c508c1-4202-4eb2-b1a0-524b6805f339",
   "metadata": {},
   "outputs": [],
   "source": []
  }
 ],
 "metadata": {
  "kernelspec": {
   "display_name": "Python 3 (ipykernel)",
   "language": "python",
   "name": "python3"
  },
  "language_info": {
   "codemirror_mode": {
    "name": "ipython",
    "version": 3
   },
   "file_extension": ".py",
   "mimetype": "text/x-python",
   "name": "python",
   "nbconvert_exporter": "python",
   "pygments_lexer": "ipython3",
   "version": "3.10.13"
  }
 },
 "nbformat": 4,
 "nbformat_minor": 5
}
